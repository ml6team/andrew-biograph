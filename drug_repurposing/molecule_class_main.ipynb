{
 "cells": [
  {
   "cell_type": "code",
   "execution_count": 1,
   "id": "a0bbf818-873f-413e-a4c7-aa6db872f2b9",
   "metadata": {},
   "outputs": [],
   "source": [
    "import os\n",
    "import numpy as np\n",
    "import pandas as pd\n",
    "import torch\n",
    "import rdkit\n",
    "from torch_geometric.datasets import MoleculeNet\n",
    "from gnn import GIN_mol, GAT_mol, Transform_mol, SAGE_mol\n",
    "from visualization import draw_molecule\n",
    "from training import train_graph_classifier, stratified_split, sample_data\n",
    "from torch_geometric.data import Data\n",
    "from torch_geometric.loader import DataLoader\n",
    "from utils.create_dataset import MolDataset\n",
    "from sklearn.preprocessing import OneHotEncoder\n",
    "from inference import get_graphClass_results\n"
   ]
  },
  {
   "cell_type": "code",
   "execution_count": 2,
   "id": "dc4bad91-5204-4b81-9e7c-420ea8011c96",
   "metadata": {},
   "outputs": [],
   "source": [
    "# Get data\n",
    "molhiv_dataset = MoleculeNet(root=\"../data/molecule_data\", name = \"HIV\")\n",
    "msi_dataset = MolDataset(root=\"../data/msi_drugs/\") "
   ]
  },
  {
   "cell_type": "code",
   "execution_count": 3,
   "id": "29f8de0a-0d21-4f2b-b3df-318c78023785",
   "metadata": {},
   "outputs": [],
   "source": [
    "# Split into training, testing, and validation.\n",
    "train_data, val_data, test_data = stratified_split(molhiv_dataset, 0.8, 0.1, 0.1)\n",
    "total_data, _, _ = stratified_split(molhiv_dataset, 1.0, 0.0, 0.0)\n",
    "train_data_down = sample_data(train_data)\n",
    "total_data_down = sample_data(total_data)"
   ]
  },
  {
   "cell_type": "code",
   "execution_count": 4,
   "id": "2c2e8e26-fc75-4eac-bfbc-36e89f6a4c19",
   "metadata": {},
   "outputs": [
    {
     "name": "stdout",
     "output_type": "stream",
     "text": [
      "\n",
      "Dataset: HIV(41127):\n",
      "====================\n",
      "Number of graphs: 41127\n",
      "Number of features: 9\n",
      "Number of classes: 2\n",
      "\n",
      "Data(x=[19, 9], edge_index=[2, 40], edge_attr=[40, 3], smiles='CCC1=[O+][Cu-3]2([O+]=C(CC)C1)[O+]=C(CC)CC(CC)=[O+]2', y=[1, 1])\n",
      "=============================================================\n",
      "Number of nodes: 19\n",
      "Number of edges: 40\n",
      "Average node degree: 2.11\n",
      "Has isolated nodes: False\n",
      "Has self-loops: False\n",
      "Is undirected: True\n"
     ]
    },
    {
     "data": {
      "application/3dmoljs_load.v0": "<div id=\"3dmolviewer_16882196656245742\"  style=\"position: relative; width: 400px; height: 400px;\">\n        <p id=\"3dmolwarning_16882196656245742\" style=\"background-color:#ffcccc;color:black\">You appear to be running in JupyterLab (or JavaScript failed to load for some other reason).  You need to install the 3dmol extension: <br>\n        <tt>jupyter labextension install jupyterlab_3dmol</tt></p>\n        </div>\n<script>\n\nvar loadScriptAsync = function(uri){\n  return new Promise((resolve, reject) => {\n    //this is to ignore the existence of requirejs amd\n    var savedexports, savedmodule;\n    if (typeof exports !== 'undefined') savedexports = exports;\n    else exports = {}\n    if (typeof module !== 'undefined') savedmodule = module;\n    else module = {}\n\n    var tag = document.createElement('script');\n    tag.src = uri;\n    tag.async = true;\n    tag.onload = () => {\n        exports = savedexports;\n        module = savedmodule;\n        resolve();\n    };\n  var firstScriptTag = document.getElementsByTagName('script')[0];\n  firstScriptTag.parentNode.insertBefore(tag, firstScriptTag);\n});\n};\n\nif(typeof $3Dmolpromise === 'undefined') {\n$3Dmolpromise = null;\n  $3Dmolpromise = loadScriptAsync('https://cdnjs.cloudflare.com/ajax/libs/3Dmol/2.0.3/3Dmol-min.js');\n}\n\nvar viewer_16882196656245742 = null;\nvar warn = document.getElementById(\"3dmolwarning_16882196656245742\");\nif(warn) {\n    warn.parentNode.removeChild(warn);\n}\n$3Dmolpromise.then(function() {\nviewer_16882196656245742 = $3Dmol.createViewer(document.getElementById(\"3dmolviewer_16882196656245742\"),{backgroundColor:\"white\"});\nviewer_16882196656245742.zoomTo();\n\tviewer_16882196656245742.removeAllModels();\n\tviewer_16882196656245742.addModel(\"\\n     RDKit          2D\\n\\n 19 20  0  0  0  0  0  0  0  0999 V2000\\n    3.7500   -1.2990    0.0000 C   0  0  0  0  0  0  0  0  0  0  0  0\\n    3.0000    0.0000    0.0000 C   0  0  0  0  0  0  0  0  0  0  0  0\\n    1.5000    0.0000    0.0000 C   0  0  0  0  0  0  0  0  0  0  0  0\\n    0.7500   -1.2990    0.0000 O   0  0  0  0  0  3  0  0  0  0  0  0\\n   -0.7500   -1.2990    0.0000 Cu  0  0  0  0  0  4  0  0  0  0  0  0\\n   -1.5000    0.0000    0.0000 O   0  0  0  0  0  3  0  0  0  0  0  0\\n   -0.7500    1.2990    0.0000 C   0  0  0  0  0  0  0  0  0  0  0  0\\n   -1.5000    2.5981    0.0000 C   0  0  0  0  0  0  0  0  0  0  0  0\\n   -0.7500    3.8971    0.0000 C   0  0  0  0  0  0  0  0  0  0  0  0\\n    0.7500    1.2990    0.0000 C   0  0  0  0  0  0  0  0  0  0  0  0\\n   -2.2500   -1.2990    0.0000 O   0  0  0  0  0  3  0  0  0  0  0  0\\n   -3.0000   -2.5981    0.0000 C   0  0  0  0  0  0  0  0  0  0  0  0\\n   -4.5000   -2.5981    0.0000 C   0  0  0  0  0  0  0  0  0  0  0  0\\n   -5.2500   -1.2990    0.0000 C   0  0  0  0  0  0  0  0  0  0  0  0\\n   -2.2500   -3.8971    0.0000 C   0  0  0  0  0  0  0  0  0  0  0  0\\n   -0.7500   -3.8971    0.0000 C   0  0  0  0  0  0  0  0  0  0  0  0\\n    0.0000   -5.1962    0.0000 C   0  0  0  0  0  0  0  0  0  0  0  0\\n   -0.7500   -6.4952    0.0000 C   0  0  0  0  0  0  0  0  0  0  0  0\\n   -0.0000   -2.5981    0.0000 O   0  0  0  0  0  3  0  0  0  0  0  0\\n  1  2  1  0\\n  2  3  1  0\\n  3  4  2  0\\n  4  5  1  0\\n  5  6  1  0\\n  6  7  2  0\\n  7  8  1  0\\n  8  9  1  0\\n  7 10  1  0\\n  5 11  1  0\\n 11 12  2  0\\n 12 13  1  0\\n 13 14  1  0\\n 12 15  1  0\\n 15 16  1  0\\n 16 17  1  0\\n 17 18  1  0\\n 16 19  2  0\\n 10  3  1  0\\n 19  5  1  0\\nM  CHG  5   4   1   5  -3   6   1  11   1  19   1\\nM  END\\n\",\"sdf\");\n\tviewer_16882196656245742.setStyle({\"stick\": {}});\n\tviewer_16882196656245742.setBackgroundColor(\"0xeeeeee\");\n\tviewer_16882196656245742.zoomTo();\nviewer_16882196656245742.render();\n});\n</script>",
      "text/html": [
       "<div id=\"3dmolviewer_16882196656245742\"  style=\"position: relative; width: 400px; height: 400px;\">\n",
       "        <p id=\"3dmolwarning_16882196656245742\" style=\"background-color:#ffcccc;color:black\">You appear to be running in JupyterLab (or JavaScript failed to load for some other reason).  You need to install the 3dmol extension: <br>\n",
       "        <tt>jupyter labextension install jupyterlab_3dmol</tt></p>\n",
       "        </div>\n",
       "<script>\n",
       "\n",
       "var loadScriptAsync = function(uri){\n",
       "  return new Promise((resolve, reject) => {\n",
       "    //this is to ignore the existence of requirejs amd\n",
       "    var savedexports, savedmodule;\n",
       "    if (typeof exports !== 'undefined') savedexports = exports;\n",
       "    else exports = {}\n",
       "    if (typeof module !== 'undefined') savedmodule = module;\n",
       "    else module = {}\n",
       "\n",
       "    var tag = document.createElement('script');\n",
       "    tag.src = uri;\n",
       "    tag.async = true;\n",
       "    tag.onload = () => {\n",
       "        exports = savedexports;\n",
       "        module = savedmodule;\n",
       "        resolve();\n",
       "    };\n",
       "  var firstScriptTag = document.getElementsByTagName('script')[0];\n",
       "  firstScriptTag.parentNode.insertBefore(tag, firstScriptTag);\n",
       "});\n",
       "};\n",
       "\n",
       "if(typeof $3Dmolpromise === 'undefined') {\n",
       "$3Dmolpromise = null;\n",
       "  $3Dmolpromise = loadScriptAsync('https://cdnjs.cloudflare.com/ajax/libs/3Dmol/2.0.3/3Dmol-min.js');\n",
       "}\n",
       "\n",
       "var viewer_16882196656245742 = null;\n",
       "var warn = document.getElementById(\"3dmolwarning_16882196656245742\");\n",
       "if(warn) {\n",
       "    warn.parentNode.removeChild(warn);\n",
       "}\n",
       "$3Dmolpromise.then(function() {\n",
       "viewer_16882196656245742 = $3Dmol.createViewer(document.getElementById(\"3dmolviewer_16882196656245742\"),{backgroundColor:\"white\"});\n",
       "viewer_16882196656245742.zoomTo();\n",
       "\tviewer_16882196656245742.removeAllModels();\n",
       "\tviewer_16882196656245742.addModel(\"\\n     RDKit          2D\\n\\n 19 20  0  0  0  0  0  0  0  0999 V2000\\n    3.7500   -1.2990    0.0000 C   0  0  0  0  0  0  0  0  0  0  0  0\\n    3.0000    0.0000    0.0000 C   0  0  0  0  0  0  0  0  0  0  0  0\\n    1.5000    0.0000    0.0000 C   0  0  0  0  0  0  0  0  0  0  0  0\\n    0.7500   -1.2990    0.0000 O   0  0  0  0  0  3  0  0  0  0  0  0\\n   -0.7500   -1.2990    0.0000 Cu  0  0  0  0  0  4  0  0  0  0  0  0\\n   -1.5000    0.0000    0.0000 O   0  0  0  0  0  3  0  0  0  0  0  0\\n   -0.7500    1.2990    0.0000 C   0  0  0  0  0  0  0  0  0  0  0  0\\n   -1.5000    2.5981    0.0000 C   0  0  0  0  0  0  0  0  0  0  0  0\\n   -0.7500    3.8971    0.0000 C   0  0  0  0  0  0  0  0  0  0  0  0\\n    0.7500    1.2990    0.0000 C   0  0  0  0  0  0  0  0  0  0  0  0\\n   -2.2500   -1.2990    0.0000 O   0  0  0  0  0  3  0  0  0  0  0  0\\n   -3.0000   -2.5981    0.0000 C   0  0  0  0  0  0  0  0  0  0  0  0\\n   -4.5000   -2.5981    0.0000 C   0  0  0  0  0  0  0  0  0  0  0  0\\n   -5.2500   -1.2990    0.0000 C   0  0  0  0  0  0  0  0  0  0  0  0\\n   -2.2500   -3.8971    0.0000 C   0  0  0  0  0  0  0  0  0  0  0  0\\n   -0.7500   -3.8971    0.0000 C   0  0  0  0  0  0  0  0  0  0  0  0\\n    0.0000   -5.1962    0.0000 C   0  0  0  0  0  0  0  0  0  0  0  0\\n   -0.7500   -6.4952    0.0000 C   0  0  0  0  0  0  0  0  0  0  0  0\\n   -0.0000   -2.5981    0.0000 O   0  0  0  0  0  3  0  0  0  0  0  0\\n  1  2  1  0\\n  2  3  1  0\\n  3  4  2  0\\n  4  5  1  0\\n  5  6  1  0\\n  6  7  2  0\\n  7  8  1  0\\n  8  9  1  0\\n  7 10  1  0\\n  5 11  1  0\\n 11 12  2  0\\n 12 13  1  0\\n 13 14  1  0\\n 12 15  1  0\\n 15 16  1  0\\n 16 17  1  0\\n 17 18  1  0\\n 16 19  2  0\\n 10  3  1  0\\n 19  5  1  0\\nM  CHG  5   4   1   5  -3   6   1  11   1  19   1\\nM  END\\n\",\"sdf\");\n",
       "\tviewer_16882196656245742.setStyle({\"stick\": {}});\n",
       "\tviewer_16882196656245742.setBackgroundColor(\"0xeeeeee\");\n",
       "\tviewer_16882196656245742.zoomTo();\n",
       "viewer_16882196656245742.render();\n",
       "});\n",
       "</script>"
      ]
     },
     "metadata": {},
     "output_type": "display_data"
    }
   ],
   "source": [
    "# Perform some intitial EDA.\n",
    "\n",
    "print()\n",
    "print(f'Dataset: {molhiv_dataset}:')\n",
    "print('====================')\n",
    "print(f'Number of graphs: {len(molhiv_dataset)}')\n",
    "print(f'Number of features: {molhiv_dataset.num_features}')\n",
    "print(f'Number of classes: {molhiv_dataset.num_classes}')\n",
    "\n",
    "data = molhiv_dataset[0]  # Get the first graph object.\n",
    "\n",
    "print()\n",
    "print(data)\n",
    "print('=============================================================')\n",
    "\n",
    "# Gather some statistics about the first graph.\n",
    "print(f'Number of nodes: {data.num_nodes}')\n",
    "print(f'Number of edges: {data.num_edges}')\n",
    "print(f'Average node degree: {data.num_edges / data.num_nodes:.2f}')\n",
    "print(f'Has isolated nodes: {data.has_isolated_nodes()}')\n",
    "print(f'Has self-loops: {data.has_self_loops()}')\n",
    "print(f'Is undirected: {data.is_undirected()}')\n",
    "\n",
    "# Draw the first molecule in the data set.\n",
    "\n",
    "draw_molecule(molhiv_dataset[0].smiles)"
   ]
  },
  {
   "cell_type": "code",
   "execution_count": 5,
   "id": "ff99674f-4fd2-4278-9aae-b07e49acfa5e",
   "metadata": {},
   "outputs": [],
   "source": [
    "# Create minibatches.\n",
    "train_loader = DataLoader(train_data, batch_size=128, shuffle=True)\n",
    "val_loader = DataLoader(val_data, batch_size=128, shuffle=True)\n",
    "test_loader = DataLoader(test_data, batch_size=128, shuffle=True)\n",
    "total_loader = DataLoader(total_data_down, batch_size=128, shuffle=True)\n",
    "production_loader = DataLoader(msi_dataset, batch_size=128, shuffle=False)\n"
   ]
  },
  {
   "cell_type": "code",
   "execution_count": 6,
   "id": "b40deb2f-24bf-476b-bee8-30ae46c5fd73",
   "metadata": {},
   "outputs": [
    {
     "name": "stdout",
     "output_type": "stream",
     "text": [
      "Device: cuda\n"
     ]
    }
   ],
   "source": [
    "# Set the device.\n",
    "device = torch.device('cuda' if torch.cuda.is_available() else 'cpu')\n",
    "print(f\"Device: {device}\")"
   ]
  },
  {
   "cell_type": "code",
   "execution_count": 7,
   "id": "fa82e56f-3763-42ac-9c51-279235d6d97f",
   "metadata": {},
   "outputs": [],
   "source": [
    "# Insantiate model\n",
    "model = GAT_mol(hidden_channels=128, num_classes=1).to(device)\n",
    "#model = SAGE_mol(hidden_channels=128, num_classes=1).to(device)\n",
    "#model = Transform_mol(hidden_channels=64).to(device)\n",
    "optimizer = torch.optim.Adam(model.parameters(), lr=0.001, weight_decay=1e-45)\n",
    "criterion = torch.nn.CrossEntropyLoss()"
   ]
  },
  {
   "cell_type": "code",
   "execution_count": 8,
   "id": "a0939055-5e22-4838-bc78-36eb14f8e51a",
   "metadata": {
    "tags": []
   },
   "outputs": [
    {
     "name": "stderr",
     "output_type": "stream",
     "text": [
      "100%|██████████| 258/258 [00:06<00:00, 38.30it/s]\n",
      "100%|██████████| 33/33 [00:00<00:00, 64.82it/s]\n"
     ]
    },
    {
     "name": "stdout",
     "output_type": "stream",
     "text": [
      "Epoch: 001\n",
      "Train loss: 0.2140         \t|  Train auc:          0.6043\n",
      "Val loss: 0.1581         \t| Val auc:          0.6127\n"
     ]
    },
    {
     "name": "stderr",
     "output_type": "stream",
     "text": [
      "100%|██████████| 258/258 [00:06<00:00, 42.49it/s]\n",
      "100%|██████████| 33/33 [00:00<00:00, 64.84it/s]\n"
     ]
    },
    {
     "name": "stdout",
     "output_type": "stream",
     "text": [
      "Epoch: 002\n",
      "Train loss: 0.1504         \t|  Train auc:          0.6378\n",
      "Val loss: 0.1640         \t| Val auc:          0.5907\n"
     ]
    },
    {
     "name": "stderr",
     "output_type": "stream",
     "text": [
      "100%|██████████| 258/258 [00:06<00:00, 42.49it/s]\n",
      "100%|██████████| 33/33 [00:00<00:00, 60.97it/s]\n"
     ]
    },
    {
     "name": "stdout",
     "output_type": "stream",
     "text": [
      "Epoch: 003\n",
      "Train loss: 0.1474         \t|  Train auc:          0.6374\n",
      "Val loss: 0.2795         \t| Val auc:          0.6121\n"
     ]
    },
    {
     "name": "stderr",
     "output_type": "stream",
     "text": [
      "100%|██████████| 258/258 [00:06<00:00, 42.80it/s]\n",
      "100%|██████████| 33/33 [00:00<00:00, 64.15it/s]\n"
     ]
    },
    {
     "name": "stdout",
     "output_type": "stream",
     "text": [
      "Epoch: 004\n",
      "Train loss: 0.1459         \t|  Train auc:          0.6471\n",
      "Val loss: 0.1568         \t| Val auc:          0.6580\n"
     ]
    },
    {
     "name": "stderr",
     "output_type": "stream",
     "text": [
      "100%|██████████| 258/258 [00:06<00:00, 42.88it/s]\n",
      "100%|██████████| 33/33 [00:01<00:00, 28.71it/s]\n"
     ]
    },
    {
     "name": "stdout",
     "output_type": "stream",
     "text": [
      "Epoch: 005\n",
      "Train loss: 0.1442         \t|  Train auc:          0.6575\n",
      "Val loss: 0.1550         \t| Val auc:          0.6164\n"
     ]
    },
    {
     "name": "stderr",
     "output_type": "stream",
     "text": [
      "100%|██████████| 258/258 [00:06<00:00, 41.93it/s]\n",
      "100%|██████████| 33/33 [00:00<00:00, 63.20it/s]\n"
     ]
    },
    {
     "name": "stdout",
     "output_type": "stream",
     "text": [
      "Epoch: 006\n",
      "Train loss: 0.1446         \t|  Train auc:          0.6663\n",
      "Val loss: 0.1478         \t| Val auc:          0.6632\n"
     ]
    },
    {
     "name": "stderr",
     "output_type": "stream",
     "text": [
      "100%|██████████| 258/258 [00:06<00:00, 42.93it/s]\n",
      "100%|██████████| 33/33 [00:00<00:00, 64.28it/s]\n"
     ]
    },
    {
     "name": "stdout",
     "output_type": "stream",
     "text": [
      "Epoch: 007\n",
      "Train loss: 0.1419         \t|  Train auc:          0.6718\n",
      "Val loss: 0.1444         \t| Val auc:          0.6610\n"
     ]
    },
    {
     "name": "stderr",
     "output_type": "stream",
     "text": [
      "100%|██████████| 258/258 [00:06<00:00, 42.88it/s]\n",
      "100%|██████████| 33/33 [00:00<00:00, 64.85it/s]\n"
     ]
    },
    {
     "name": "stdout",
     "output_type": "stream",
     "text": [
      "Epoch: 008\n",
      "Train loss: 0.1413         \t|  Train auc:          0.6876\n",
      "Val loss: 0.2512         \t| Val auc:          0.7083\n"
     ]
    },
    {
     "name": "stderr",
     "output_type": "stream",
     "text": [
      "100%|██████████| 258/258 [00:06<00:00, 42.75it/s]\n",
      "100%|██████████| 33/33 [00:00<00:00, 64.81it/s]\n"
     ]
    },
    {
     "name": "stdout",
     "output_type": "stream",
     "text": [
      "Epoch: 009\n",
      "Train loss: 0.1458         \t|  Train auc:          0.6585\n",
      "Val loss: 0.1673         \t| Val auc:          0.7026\n"
     ]
    },
    {
     "name": "stderr",
     "output_type": "stream",
     "text": [
      "100%|██████████| 258/258 [00:06<00:00, 42.91it/s]\n",
      "100%|██████████| 33/33 [00:00<00:00, 65.60it/s]\n"
     ]
    },
    {
     "name": "stdout",
     "output_type": "stream",
     "text": [
      "Epoch: 010\n",
      "Train loss: 0.1413         \t|  Train auc:          0.6955\n",
      "Val loss: 0.1467         \t| Val auc:          0.7223\n"
     ]
    },
    {
     "name": "stderr",
     "output_type": "stream",
     "text": [
      "100%|██████████| 258/258 [00:06<00:00, 42.98it/s]\n",
      "100%|██████████| 33/33 [00:00<00:00, 65.61it/s]\n"
     ]
    },
    {
     "name": "stdout",
     "output_type": "stream",
     "text": [
      "Epoch: 011\n",
      "Train loss: 0.1388         \t|  Train auc:          0.6993\n",
      "Val loss: 0.1482         \t| Val auc:          0.7281\n"
     ]
    },
    {
     "name": "stderr",
     "output_type": "stream",
     "text": [
      "100%|██████████| 258/258 [00:06<00:00, 42.69it/s]\n",
      "100%|██████████| 33/33 [00:00<00:00, 65.03it/s]\n"
     ]
    },
    {
     "name": "stdout",
     "output_type": "stream",
     "text": [
      "Epoch: 012\n",
      "Train loss: 0.1375         \t|  Train auc:          0.7225\n",
      "Val loss: 0.1430         \t| Val auc:          0.7072\n"
     ]
    },
    {
     "name": "stderr",
     "output_type": "stream",
     "text": [
      "100%|██████████| 258/258 [00:05<00:00, 43.07it/s]\n",
      "100%|██████████| 33/33 [00:00<00:00, 65.34it/s]\n"
     ]
    },
    {
     "name": "stdout",
     "output_type": "stream",
     "text": [
      "Epoch: 013\n",
      "Train loss: 0.1422         \t|  Train auc:          0.6816\n",
      "Val loss: 1.9710         \t| Val auc:          0.6869\n"
     ]
    },
    {
     "name": "stderr",
     "output_type": "stream",
     "text": [
      "100%|██████████| 258/258 [00:05<00:00, 43.18it/s]\n",
      "100%|██████████| 33/33 [00:00<00:00, 65.13it/s]\n"
     ]
    },
    {
     "name": "stdout",
     "output_type": "stream",
     "text": [
      "Epoch: 014\n",
      "Train loss: 0.1386         \t|  Train auc:          0.7036\n",
      "Val loss: 0.2931         \t| Val auc:          0.6691\n"
     ]
    },
    {
     "name": "stderr",
     "output_type": "stream",
     "text": [
      "100%|██████████| 258/258 [00:06<00:00, 42.29it/s]\n",
      "100%|██████████| 33/33 [00:00<00:00, 65.37it/s]\n"
     ]
    },
    {
     "name": "stdout",
     "output_type": "stream",
     "text": [
      "Epoch: 015\n",
      "Train loss: 0.1360         \t|  Train auc:          0.7280\n",
      "Val loss: 0.1833         \t| Val auc:          0.7314\n"
     ]
    },
    {
     "name": "stderr",
     "output_type": "stream",
     "text": [
      "100%|██████████| 258/258 [00:06<00:00, 42.85it/s]\n",
      "100%|██████████| 33/33 [00:00<00:00, 64.80it/s]\n"
     ]
    },
    {
     "name": "stdout",
     "output_type": "stream",
     "text": [
      "Epoch: 016\n",
      "Train loss: 0.1395         \t|  Train auc:          0.6898\n",
      "Val loss: 0.7701         \t| Val auc:          0.6794\n"
     ]
    },
    {
     "name": "stderr",
     "output_type": "stream",
     "text": [
      "100%|██████████| 258/258 [00:06<00:00, 42.92it/s]\n",
      "100%|██████████| 33/33 [00:00<00:00, 64.63it/s]\n"
     ]
    },
    {
     "name": "stdout",
     "output_type": "stream",
     "text": [
      "Epoch: 017\n",
      "Train loss: 0.1393         \t|  Train auc:          0.6957\n",
      "Val loss: 0.1417         \t| Val auc:          0.7003\n"
     ]
    },
    {
     "name": "stderr",
     "output_type": "stream",
     "text": [
      "100%|██████████| 258/258 [00:06<00:00, 42.66it/s]\n",
      "100%|██████████| 33/33 [00:00<00:00, 64.67it/s]\n"
     ]
    },
    {
     "name": "stdout",
     "output_type": "stream",
     "text": [
      "Epoch: 018\n",
      "Train loss: 0.1360         \t|  Train auc:          0.7173\n",
      "Val loss: 0.2563         \t| Val auc:          0.7116\n"
     ]
    },
    {
     "name": "stderr",
     "output_type": "stream",
     "text": [
      "100%|██████████| 258/258 [00:06<00:00, 42.83it/s]\n",
      "100%|██████████| 33/33 [00:00<00:00, 62.98it/s]\n"
     ]
    },
    {
     "name": "stdout",
     "output_type": "stream",
     "text": [
      "Epoch: 019\n",
      "Train loss: 0.1342         \t|  Train auc:          0.7209\n",
      "Val loss: 0.1356         \t| Val auc:          0.7650\n"
     ]
    },
    {
     "name": "stderr",
     "output_type": "stream",
     "text": [
      "100%|██████████| 258/258 [00:06<00:00, 38.60it/s]\n",
      "100%|██████████| 33/33 [00:00<00:00, 65.26it/s]\n"
     ]
    },
    {
     "name": "stdout",
     "output_type": "stream",
     "text": [
      "Epoch: 020\n",
      "Train loss: 0.1315         \t|  Train auc:          0.7354\n",
      "Val loss: 0.1849         \t| Val auc:          0.7619\n"
     ]
    },
    {
     "name": "stderr",
     "output_type": "stream",
     "text": [
      "100%|██████████| 258/258 [00:06<00:00, 42.86it/s]\n",
      "100%|██████████| 33/33 [00:00<00:00, 65.05it/s]\n"
     ]
    },
    {
     "name": "stdout",
     "output_type": "stream",
     "text": [
      "Epoch: 021\n",
      "Train loss: 0.1312         \t|  Train auc:          0.7348\n",
      "Val loss: 0.1729         \t| Val auc:          0.7571\n"
     ]
    },
    {
     "name": "stderr",
     "output_type": "stream",
     "text": [
      "100%|██████████| 258/258 [00:06<00:00, 42.86it/s]\n",
      "100%|██████████| 33/33 [00:00<00:00, 65.49it/s]\n"
     ]
    },
    {
     "name": "stdout",
     "output_type": "stream",
     "text": [
      "Epoch: 022\n",
      "Train loss: 0.1301         \t|  Train auc:          0.7371\n",
      "Val loss: 0.1323         \t| Val auc:          0.7781\n"
     ]
    },
    {
     "name": "stderr",
     "output_type": "stream",
     "text": [
      "100%|██████████| 258/258 [00:05<00:00, 43.15it/s]\n",
      "100%|██████████| 33/33 [00:00<00:00, 65.04it/s]\n"
     ]
    },
    {
     "name": "stdout",
     "output_type": "stream",
     "text": [
      "Epoch: 023\n",
      "Train loss: 0.1281         \t|  Train auc:          0.7543\n",
      "Val loss: 0.1331         \t| Val auc:          0.7235\n"
     ]
    },
    {
     "name": "stderr",
     "output_type": "stream",
     "text": [
      "100%|██████████| 258/258 [00:06<00:00, 42.21it/s]\n",
      "100%|██████████| 33/33 [00:00<00:00, 65.25it/s]\n"
     ]
    },
    {
     "name": "stdout",
     "output_type": "stream",
     "text": [
      "Epoch: 024\n",
      "Train loss: 0.1293         \t|  Train auc:          0.7517\n",
      "Val loss: 0.1370         \t| Val auc:          0.7533\n"
     ]
    },
    {
     "name": "stderr",
     "output_type": "stream",
     "text": [
      "100%|██████████| 258/258 [00:05<00:00, 43.06it/s]\n",
      "100%|██████████| 33/33 [00:00<00:00, 63.42it/s]\n"
     ]
    },
    {
     "name": "stdout",
     "output_type": "stream",
     "text": [
      "Epoch: 025\n",
      "Train loss: 0.1274         \t|  Train auc:          0.7460\n",
      "Val loss: 0.1412         \t| Val auc:          0.7346\n"
     ]
    },
    {
     "name": "stderr",
     "output_type": "stream",
     "text": [
      "100%|██████████| 258/258 [00:05<00:00, 43.04it/s]\n",
      "100%|██████████| 33/33 [00:00<00:00, 64.73it/s]\n"
     ]
    },
    {
     "name": "stdout",
     "output_type": "stream",
     "text": [
      "Epoch: 026\n",
      "Train loss: 0.1268         \t|  Train auc:          0.7542\n",
      "Val loss: 8.5794         \t| Val auc:          0.7169\n"
     ]
    },
    {
     "name": "stderr",
     "output_type": "stream",
     "text": [
      "100%|██████████| 258/258 [00:06<00:00, 42.97it/s]\n",
      "100%|██████████| 33/33 [00:00<00:00, 65.16it/s]\n"
     ]
    },
    {
     "name": "stdout",
     "output_type": "stream",
     "text": [
      "Epoch: 027\n",
      "Train loss: 0.1359         \t|  Train auc:          0.7189\n",
      "Val loss: 1.5887         \t| Val auc:          0.7205\n"
     ]
    },
    {
     "name": "stderr",
     "output_type": "stream",
     "text": [
      "100%|██████████| 258/258 [00:06<00:00, 42.83it/s]\n",
      "100%|██████████| 33/33 [00:00<00:00, 64.86it/s]\n"
     ]
    },
    {
     "name": "stdout",
     "output_type": "stream",
     "text": [
      "Epoch: 028\n",
      "Train loss: 0.1294         \t|  Train auc:          0.7481\n",
      "Val loss: 0.1243         \t| Val auc:          0.7861\n"
     ]
    },
    {
     "name": "stderr",
     "output_type": "stream",
     "text": [
      "100%|██████████| 258/258 [00:06<00:00, 42.92it/s]\n",
      "100%|██████████| 33/33 [00:00<00:00, 65.21it/s]\n"
     ]
    },
    {
     "name": "stdout",
     "output_type": "stream",
     "text": [
      "Epoch: 029\n",
      "Train loss: 0.1329         \t|  Train auc:          0.7281\n",
      "Val loss: 0.1268         \t| Val auc:          0.7787\n"
     ]
    },
    {
     "name": "stderr",
     "output_type": "stream",
     "text": [
      "100%|██████████| 258/258 [00:06<00:00, 42.69it/s]\n",
      "100%|██████████| 33/33 [00:00<00:00, 64.46it/s]\n"
     ]
    },
    {
     "name": "stdout",
     "output_type": "stream",
     "text": [
      "Epoch: 030\n",
      "Train loss: 0.1272         \t|  Train auc:          0.7602\n",
      "Val loss: 0.1483         \t| Val auc:          0.7456\n"
     ]
    },
    {
     "name": "stderr",
     "output_type": "stream",
     "text": [
      "100%|██████████| 258/258 [00:06<00:00, 42.90it/s]\n",
      "100%|██████████| 33/33 [00:00<00:00, 62.33it/s]\n"
     ]
    },
    {
     "name": "stdout",
     "output_type": "stream",
     "text": [
      "Epoch: 031\n",
      "Train loss: 0.1310         \t|  Train auc:          0.7501\n",
      "Val loss: 1.8227         \t| Val auc:          0.7658\n"
     ]
    },
    {
     "name": "stderr",
     "output_type": "stream",
     "text": [
      "100%|██████████| 258/258 [00:05<00:00, 43.06it/s]\n",
      "100%|██████████| 33/33 [00:00<00:00, 63.99it/s]\n"
     ]
    },
    {
     "name": "stdout",
     "output_type": "stream",
     "text": [
      "Epoch: 032\n",
      "Train loss: 0.1257         \t|  Train auc:          0.7794\n",
      "Val loss: 0.1731         \t| Val auc:          0.7424\n"
     ]
    },
    {
     "name": "stderr",
     "output_type": "stream",
     "text": [
      "100%|██████████| 258/258 [00:06<00:00, 42.22it/s]\n",
      "100%|██████████| 33/33 [00:00<00:00, 65.08it/s]\n"
     ]
    },
    {
     "name": "stdout",
     "output_type": "stream",
     "text": [
      "Epoch: 033\n",
      "Train loss: 0.1231         \t|  Train auc:          0.7825\n",
      "Val loss: 0.1267         \t| Val auc:          0.7688\n"
     ]
    },
    {
     "name": "stderr",
     "output_type": "stream",
     "text": [
      "100%|██████████| 258/258 [00:06<00:00, 42.77it/s]\n",
      "100%|██████████| 33/33 [00:00<00:00, 65.12it/s]\n"
     ]
    },
    {
     "name": "stdout",
     "output_type": "stream",
     "text": [
      "Epoch: 034\n",
      "Train loss: 0.1229         \t|  Train auc:          0.7721\n",
      "Val loss: 0.1350         \t| Val auc:          0.8271\n"
     ]
    },
    {
     "name": "stderr",
     "output_type": "stream",
     "text": [
      "100%|██████████| 258/258 [00:06<00:00, 38.32it/s]\n",
      "100%|██████████| 33/33 [00:00<00:00, 63.85it/s]\n"
     ]
    },
    {
     "name": "stdout",
     "output_type": "stream",
     "text": [
      "Epoch: 035\n",
      "Train loss: 0.1254         \t|  Train auc:          0.7642\n",
      "Val loss: 0.1394         \t| Val auc:          0.7822\n"
     ]
    },
    {
     "name": "stderr",
     "output_type": "stream",
     "text": [
      "100%|██████████| 258/258 [00:05<00:00, 43.01it/s]\n",
      "100%|██████████| 33/33 [00:00<00:00, 64.23it/s]\n"
     ]
    },
    {
     "name": "stdout",
     "output_type": "stream",
     "text": [
      "Epoch: 036\n",
      "Train loss: 0.1230         \t|  Train auc:          0.7822\n",
      "Val loss: 0.1224         \t| Val auc:          0.7826\n"
     ]
    },
    {
     "name": "stderr",
     "output_type": "stream",
     "text": [
      "100%|██████████| 258/258 [00:06<00:00, 42.98it/s]\n",
      "100%|██████████| 33/33 [00:00<00:00, 64.94it/s]\n"
     ]
    },
    {
     "name": "stdout",
     "output_type": "stream",
     "text": [
      "Epoch: 037\n",
      "Train loss: 0.1210         \t|  Train auc:          0.7777\n",
      "Val loss: 0.1243         \t| Val auc:          0.8104\n"
     ]
    },
    {
     "name": "stderr",
     "output_type": "stream",
     "text": [
      "100%|██████████| 258/258 [00:06<00:00, 42.88it/s]\n",
      "100%|██████████| 33/33 [00:00<00:00, 65.18it/s]\n"
     ]
    },
    {
     "name": "stdout",
     "output_type": "stream",
     "text": [
      "Epoch: 038\n",
      "Train loss: 0.1236         \t|  Train auc:          0.7776\n",
      "Val loss: 1.1047         \t| Val auc:          0.7814\n"
     ]
    },
    {
     "name": "stderr",
     "output_type": "stream",
     "text": [
      "100%|██████████| 258/258 [00:06<00:00, 42.92it/s]\n",
      "100%|██████████| 33/33 [00:00<00:00, 64.74it/s]\n"
     ]
    },
    {
     "name": "stdout",
     "output_type": "stream",
     "text": [
      "Epoch: 039\n",
      "Train loss: 0.1221         \t|  Train auc:          0.7711\n",
      "Val loss: 1.0729         \t| Val auc:          0.7986\n"
     ]
    },
    {
     "name": "stderr",
     "output_type": "stream",
     "text": [
      "100%|██████████| 258/258 [00:06<00:00, 42.63it/s]\n",
      "100%|██████████| 33/33 [00:00<00:00, 65.29it/s]\n"
     ]
    },
    {
     "name": "stdout",
     "output_type": "stream",
     "text": [
      "Epoch: 040\n",
      "Train loss: 0.1246         \t|  Train auc:          0.7767\n",
      "Val loss: 0.2783         \t| Val auc:          0.7505\n"
     ]
    },
    {
     "name": "stderr",
     "output_type": "stream",
     "text": [
      "100%|██████████| 258/258 [00:06<00:00, 42.74it/s]\n",
      "100%|██████████| 33/33 [00:00<00:00, 65.08it/s]\n"
     ]
    },
    {
     "name": "stdout",
     "output_type": "stream",
     "text": [
      "Epoch: 041\n",
      "Train loss: 0.1320         \t|  Train auc:          0.7375\n",
      "Val loss: 0.1270         \t| Val auc:          0.7704\n"
     ]
    },
    {
     "name": "stderr",
     "output_type": "stream",
     "text": [
      "100%|██████████| 258/258 [00:06<00:00, 41.88it/s]\n",
      "100%|██████████| 33/33 [00:00<00:00, 64.20it/s]\n"
     ]
    },
    {
     "name": "stdout",
     "output_type": "stream",
     "text": [
      "Epoch: 042\n",
      "Train loss: 0.1239         \t|  Train auc:          0.7809\n",
      "Val loss: 0.1414         \t| Val auc:          0.7552\n"
     ]
    },
    {
     "name": "stderr",
     "output_type": "stream",
     "text": [
      "100%|██████████| 258/258 [00:06<00:00, 42.81it/s]\n",
      "100%|██████████| 33/33 [00:00<00:00, 63.54it/s]\n"
     ]
    },
    {
     "name": "stdout",
     "output_type": "stream",
     "text": [
      "Epoch: 043\n",
      "Train loss: 0.1209         \t|  Train auc:          0.7911\n",
      "Val loss: 0.1868         \t| Val auc:          0.7398\n"
     ]
    },
    {
     "name": "stderr",
     "output_type": "stream",
     "text": [
      "100%|██████████| 258/258 [00:05<00:00, 43.06it/s]\n",
      "100%|██████████| 33/33 [00:00<00:00, 65.44it/s]\n"
     ]
    },
    {
     "name": "stdout",
     "output_type": "stream",
     "text": [
      "Epoch: 044\n",
      "Train loss: 0.1206         \t|  Train auc:          0.7897\n",
      "Val loss: 0.1738         \t| Val auc:          0.7831\n"
     ]
    },
    {
     "name": "stderr",
     "output_type": "stream",
     "text": [
      "100%|██████████| 258/258 [00:05<00:00, 43.03it/s]\n",
      "100%|██████████| 33/33 [00:00<00:00, 64.91it/s]\n"
     ]
    },
    {
     "name": "stdout",
     "output_type": "stream",
     "text": [
      "Epoch: 045\n",
      "Train loss: 0.1253         \t|  Train auc:          0.7768\n",
      "Val loss: 0.1422         \t| Val auc:          0.7402\n"
     ]
    },
    {
     "name": "stderr",
     "output_type": "stream",
     "text": [
      "100%|██████████| 258/258 [00:06<00:00, 42.99it/s]\n",
      "100%|██████████| 33/33 [00:00<00:00, 64.95it/s]\n"
     ]
    },
    {
     "name": "stdout",
     "output_type": "stream",
     "text": [
      "Epoch: 046\n",
      "Train loss: 0.1197         \t|  Train auc:          0.7995\n",
      "Val loss: 0.1553         \t| Val auc:          0.7767\n"
     ]
    },
    {
     "name": "stderr",
     "output_type": "stream",
     "text": [
      "100%|██████████| 258/258 [00:06<00:00, 42.84it/s]\n",
      "100%|██████████| 33/33 [00:00<00:00, 64.16it/s]\n"
     ]
    },
    {
     "name": "stdout",
     "output_type": "stream",
     "text": [
      "Epoch: 047\n",
      "Train loss: 0.1207         \t|  Train auc:          0.7998\n",
      "Val loss: 0.1630         \t| Val auc:          0.8048\n"
     ]
    },
    {
     "name": "stderr",
     "output_type": "stream",
     "text": [
      "100%|██████████| 258/258 [00:05<00:00, 43.05it/s]\n",
      "100%|██████████| 33/33 [00:00<00:00, 63.45it/s]\n"
     ]
    },
    {
     "name": "stdout",
     "output_type": "stream",
     "text": [
      "Epoch: 048\n",
      "Train loss: 0.1201         \t|  Train auc:          0.7897\n",
      "Val loss: 0.1204         \t| Val auc:          0.7948\n"
     ]
    },
    {
     "name": "stderr",
     "output_type": "stream",
     "text": [
      "100%|██████████| 258/258 [00:06<00:00, 38.35it/s]\n",
      "100%|██████████| 33/33 [00:00<00:00, 63.58it/s]\n"
     ]
    },
    {
     "name": "stdout",
     "output_type": "stream",
     "text": [
      "Epoch: 049\n",
      "Train loss: 0.1188         \t|  Train auc:          0.8081\n",
      "Val loss: 0.1295         \t| Val auc:          0.7430\n"
     ]
    },
    {
     "name": "stderr",
     "output_type": "stream",
     "text": [
      "100%|██████████| 258/258 [00:06<00:00, 42.83it/s]\n",
      "100%|██████████| 33/33 [00:00<00:00, 64.78it/s]\n"
     ]
    },
    {
     "name": "stdout",
     "output_type": "stream",
     "text": [
      "Epoch: 050\n",
      "Train loss: 0.1180         \t|  Train auc:          0.8068\n",
      "Val loss: 0.1264         \t| Val auc:          0.7982\n"
     ]
    },
    {
     "name": "stderr",
     "output_type": "stream",
     "text": [
      "100%|██████████| 258/258 [00:06<00:00, 42.27it/s]\n",
      "100%|██████████| 33/33 [00:00<00:00, 65.89it/s]\n"
     ]
    },
    {
     "name": "stdout",
     "output_type": "stream",
     "text": [
      "Epoch: 051\n",
      "Train loss: 0.1174         \t|  Train auc:          0.8024\n",
      "Val loss: 0.1381         \t| Val auc:          0.7945\n"
     ]
    },
    {
     "name": "stderr",
     "output_type": "stream",
     "text": [
      "100%|██████████| 258/258 [00:05<00:00, 43.34it/s]\n",
      "100%|██████████| 33/33 [00:00<00:00, 63.82it/s]\n"
     ]
    },
    {
     "name": "stdout",
     "output_type": "stream",
     "text": [
      "Epoch: 052\n",
      "Train loss: 0.1179         \t|  Train auc:          0.7974\n",
      "Val loss: 0.1276         \t| Val auc:          0.7775\n"
     ]
    },
    {
     "name": "stderr",
     "output_type": "stream",
     "text": [
      "100%|██████████| 258/258 [00:06<00:00, 42.78it/s]\n",
      "100%|██████████| 33/33 [00:00<00:00, 65.48it/s]\n"
     ]
    },
    {
     "name": "stdout",
     "output_type": "stream",
     "text": [
      "Epoch: 053\n",
      "Train loss: 0.1195         \t|  Train auc:          0.8053\n",
      "Val loss: 0.1301         \t| Val auc:          0.7481\n"
     ]
    },
    {
     "name": "stderr",
     "output_type": "stream",
     "text": [
      "100%|██████████| 258/258 [00:05<00:00, 43.58it/s]\n",
      "100%|██████████| 33/33 [00:00<00:00, 63.81it/s]\n"
     ]
    },
    {
     "name": "stdout",
     "output_type": "stream",
     "text": [
      "Epoch: 054\n",
      "Train loss: 0.1183         \t|  Train auc:          0.7953\n",
      "Val loss: 0.1705         \t| Val auc:          0.7724\n"
     ]
    },
    {
     "name": "stderr",
     "output_type": "stream",
     "text": [
      "100%|██████████| 258/258 [00:05<00:00, 43.33it/s]\n",
      "100%|██████████| 33/33 [00:00<00:00, 65.24it/s]\n"
     ]
    },
    {
     "name": "stdout",
     "output_type": "stream",
     "text": [
      "Epoch: 055\n",
      "Train loss: 0.1179         \t|  Train auc:          0.7991\n",
      "Val loss: 0.1828         \t| Val auc:          0.7918\n"
     ]
    },
    {
     "name": "stderr",
     "output_type": "stream",
     "text": [
      "100%|██████████| 258/258 [00:05<00:00, 43.14it/s]\n",
      "100%|██████████| 33/33 [00:00<00:00, 65.30it/s]\n"
     ]
    },
    {
     "name": "stdout",
     "output_type": "stream",
     "text": [
      "Epoch: 056\n",
      "Train loss: 0.1195         \t|  Train auc:          0.7931\n",
      "Val loss: 0.4504         \t| Val auc:          0.7735\n"
     ]
    },
    {
     "name": "stderr",
     "output_type": "stream",
     "text": [
      "100%|██████████| 258/258 [00:05<00:00, 43.19it/s]\n",
      "100%|██████████| 33/33 [00:00<00:00, 65.32it/s]\n"
     ]
    },
    {
     "name": "stdout",
     "output_type": "stream",
     "text": [
      "Epoch: 057\n",
      "Train loss: 0.1189         \t|  Train auc:          0.8016\n",
      "Val loss: 0.1399         \t| Val auc:          0.7934\n"
     ]
    },
    {
     "name": "stderr",
     "output_type": "stream",
     "text": [
      "100%|██████████| 258/258 [00:06<00:00, 42.99it/s]\n",
      "100%|██████████| 33/33 [00:00<00:00, 65.59it/s]\n"
     ]
    },
    {
     "name": "stdout",
     "output_type": "stream",
     "text": [
      "Epoch: 058\n",
      "Train loss: 0.1167         \t|  Train auc:          0.7927\n",
      "Val loss: 0.1211         \t| Val auc:          0.8043\n"
     ]
    },
    {
     "name": "stderr",
     "output_type": "stream",
     "text": [
      "100%|██████████| 258/258 [00:05<00:00, 43.18it/s]\n",
      "100%|██████████| 33/33 [00:00<00:00, 65.88it/s]\n"
     ]
    },
    {
     "name": "stdout",
     "output_type": "stream",
     "text": [
      "Epoch: 059\n",
      "Train loss: 0.1180         \t|  Train auc:          0.8050\n",
      "Val loss: 0.1428         \t| Val auc:          0.8060\n"
     ]
    },
    {
     "name": "stderr",
     "output_type": "stream",
     "text": [
      "100%|██████████| 258/258 [00:06<00:00, 42.34it/s]\n",
      "100%|██████████| 33/33 [00:00<00:00, 59.91it/s]\n"
     ]
    },
    {
     "name": "stdout",
     "output_type": "stream",
     "text": [
      "Epoch: 060\n",
      "Train loss: 0.1217         \t|  Train auc:          0.7971\n",
      "Val loss: 0.1701         \t| Val auc:          0.7788\n"
     ]
    },
    {
     "name": "stderr",
     "output_type": "stream",
     "text": [
      "100%|██████████| 258/258 [00:05<00:00, 43.17it/s]\n",
      "100%|██████████| 33/33 [00:00<00:00, 65.05it/s]\n"
     ]
    },
    {
     "name": "stdout",
     "output_type": "stream",
     "text": [
      "Epoch: 061\n",
      "Train loss: 0.1213         \t|  Train auc:          0.8011\n",
      "Val loss: 0.2413         \t| Val auc:          0.7716\n"
     ]
    },
    {
     "name": "stderr",
     "output_type": "stream",
     "text": [
      "100%|██████████| 258/258 [00:05<00:00, 43.30it/s]\n",
      "100%|██████████| 33/33 [00:00<00:00, 65.81it/s]\n"
     ]
    },
    {
     "name": "stdout",
     "output_type": "stream",
     "text": [
      "Epoch: 062\n",
      "Train loss: 0.1209         \t|  Train auc:          0.8024\n",
      "Val loss: 0.1306         \t| Val auc:          0.8005\n"
     ]
    },
    {
     "name": "stderr",
     "output_type": "stream",
     "text": [
      "100%|██████████| 258/258 [00:05<00:00, 43.50it/s]\n",
      "100%|██████████| 33/33 [00:00<00:00, 65.71it/s]\n"
     ]
    },
    {
     "name": "stdout",
     "output_type": "stream",
     "text": [
      "Epoch: 063\n",
      "Train loss: 0.1223         \t|  Train auc:          0.7884\n",
      "Val loss: 0.1618         \t| Val auc:          0.8148\n"
     ]
    },
    {
     "name": "stderr",
     "output_type": "stream",
     "text": [
      "100%|██████████| 258/258 [00:06<00:00, 38.76it/s]\n",
      "100%|██████████| 33/33 [00:00<00:00, 65.69it/s]\n"
     ]
    },
    {
     "name": "stdout",
     "output_type": "stream",
     "text": [
      "Epoch: 064\n",
      "Train loss: 0.1194         \t|  Train auc:          0.7912\n",
      "Val loss: 0.1551         \t| Val auc:          0.7899\n"
     ]
    },
    {
     "name": "stderr",
     "output_type": "stream",
     "text": [
      "100%|██████████| 258/258 [00:05<00:00, 43.09it/s]\n",
      "100%|██████████| 33/33 [00:00<00:00, 65.76it/s]\n"
     ]
    },
    {
     "name": "stdout",
     "output_type": "stream",
     "text": [
      "Epoch: 065\n",
      "Train loss: 0.1260         \t|  Train auc:          0.7666\n",
      "Val loss: 0.1226         \t| Val auc:          0.7998\n"
     ]
    },
    {
     "name": "stderr",
     "output_type": "stream",
     "text": [
      "100%|██████████| 258/258 [00:05<00:00, 43.48it/s]\n",
      "100%|██████████| 33/33 [00:00<00:00, 65.18it/s]\n"
     ]
    },
    {
     "name": "stdout",
     "output_type": "stream",
     "text": [
      "Epoch: 066\n",
      "Train loss: 0.1178         \t|  Train auc:          0.7969\n",
      "Val loss: 0.1183         \t| Val auc:          0.8219\n"
     ]
    },
    {
     "name": "stderr",
     "output_type": "stream",
     "text": [
      "100%|██████████| 258/258 [00:05<00:00, 43.08it/s]\n",
      "100%|██████████| 33/33 [00:00<00:00, 65.19it/s]\n"
     ]
    },
    {
     "name": "stdout",
     "output_type": "stream",
     "text": [
      "Epoch: 067\n",
      "Train loss: 0.1158         \t|  Train auc:          0.8021\n",
      "Val loss: 0.1248         \t| Val auc:          0.7888\n"
     ]
    },
    {
     "name": "stderr",
     "output_type": "stream",
     "text": [
      "100%|██████████| 258/258 [00:05<00:00, 43.25it/s]\n",
      "100%|██████████| 33/33 [00:00<00:00, 64.13it/s]\n"
     ]
    },
    {
     "name": "stdout",
     "output_type": "stream",
     "text": [
      "Epoch: 068\n",
      "Train loss: 0.1165         \t|  Train auc:          0.8018\n",
      "Val loss: 0.1220         \t| Val auc:          0.7603\n"
     ]
    },
    {
     "name": "stderr",
     "output_type": "stream",
     "text": [
      "100%|██████████| 258/258 [00:05<00:00, 43.67it/s]\n",
      "100%|██████████| 33/33 [00:00<00:00, 62.14it/s]\n"
     ]
    },
    {
     "name": "stdout",
     "output_type": "stream",
     "text": [
      "Epoch: 069\n",
      "Train loss: 0.1188         \t|  Train auc:          0.8040\n",
      "Val loss: 0.1654         \t| Val auc:          0.7642\n"
     ]
    },
    {
     "name": "stderr",
     "output_type": "stream",
     "text": [
      "100%|██████████| 258/258 [00:06<00:00, 42.91it/s]\n",
      "100%|██████████| 33/33 [00:00<00:00, 65.86it/s]\n"
     ]
    },
    {
     "name": "stdout",
     "output_type": "stream",
     "text": [
      "Epoch: 070\n",
      "Train loss: 0.1174         \t|  Train auc:          0.8012\n",
      "Val loss: 0.1308         \t| Val auc:          0.7903\n"
     ]
    },
    {
     "name": "stderr",
     "output_type": "stream",
     "text": [
      "100%|██████████| 258/258 [00:05<00:00, 43.63it/s]\n",
      "100%|██████████| 33/33 [00:00<00:00, 64.05it/s]\n"
     ]
    },
    {
     "name": "stdout",
     "output_type": "stream",
     "text": [
      "Epoch: 071\n",
      "Train loss: 0.1154         \t|  Train auc:          0.8046\n",
      "Val loss: 0.1651         \t| Val auc:          0.8119\n"
     ]
    },
    {
     "name": "stderr",
     "output_type": "stream",
     "text": [
      "100%|██████████| 258/258 [00:05<00:00, 43.71it/s]\n",
      "100%|██████████| 33/33 [00:00<00:00, 65.33it/s]\n"
     ]
    },
    {
     "name": "stdout",
     "output_type": "stream",
     "text": [
      "Epoch: 072\n",
      "Train loss: 0.1148         \t|  Train auc:          0.7977\n",
      "Val loss: 0.3790         \t| Val auc:          0.8196\n"
     ]
    },
    {
     "name": "stderr",
     "output_type": "stream",
     "text": [
      "100%|██████████| 258/258 [00:05<00:00, 43.77it/s]\n",
      "100%|██████████| 33/33 [00:00<00:00, 65.93it/s]\n"
     ]
    },
    {
     "name": "stdout",
     "output_type": "stream",
     "text": [
      "Epoch: 073\n",
      "Train loss: 0.1138         \t|  Train auc:          0.8287\n",
      "Val loss: 0.1277         \t| Val auc:          0.7751\n"
     ]
    },
    {
     "name": "stderr",
     "output_type": "stream",
     "text": [
      "100%|██████████| 258/258 [00:05<00:00, 43.52it/s]\n",
      "100%|██████████| 33/33 [00:00<00:00, 65.95it/s]\n"
     ]
    },
    {
     "name": "stdout",
     "output_type": "stream",
     "text": [
      "Epoch: 074\n",
      "Train loss: 0.1176         \t|  Train auc:          0.8019\n",
      "Val loss: 0.1293         \t| Val auc:          0.7698\n"
     ]
    },
    {
     "name": "stderr",
     "output_type": "stream",
     "text": [
      "100%|██████████| 258/258 [00:05<00:00, 43.67it/s]\n",
      "100%|██████████| 33/33 [00:00<00:00, 66.39it/s]\n"
     ]
    },
    {
     "name": "stdout",
     "output_type": "stream",
     "text": [
      "Epoch: 075\n",
      "Train loss: 0.1152         \t|  Train auc:          0.8195\n",
      "Val loss: 0.1175         \t| Val auc:          0.8324\n"
     ]
    },
    {
     "name": "stderr",
     "output_type": "stream",
     "text": [
      "100%|██████████| 258/258 [00:05<00:00, 43.15it/s]\n",
      "100%|██████████| 33/33 [00:00<00:00, 66.50it/s]\n"
     ]
    },
    {
     "name": "stdout",
     "output_type": "stream",
     "text": [
      "Epoch: 076\n",
      "Train loss: 0.1149         \t|  Train auc:          0.8102\n",
      "Val loss: 0.1291         \t| Val auc:          0.7883\n"
     ]
    },
    {
     "name": "stderr",
     "output_type": "stream",
     "text": [
      "100%|██████████| 258/258 [00:05<00:00, 43.19it/s]\n",
      "100%|██████████| 33/33 [00:00<00:00, 63.66it/s]\n"
     ]
    },
    {
     "name": "stdout",
     "output_type": "stream",
     "text": [
      "Epoch: 077\n",
      "Train loss: 0.1136         \t|  Train auc:          0.8230\n",
      "Val loss: 0.1799         \t| Val auc:          0.7716\n"
     ]
    },
    {
     "name": "stderr",
     "output_type": "stream",
     "text": [
      "100%|██████████| 258/258 [00:06<00:00, 38.92it/s]\n",
      "100%|██████████| 33/33 [00:00<00:00, 66.16it/s]\n"
     ]
    },
    {
     "name": "stdout",
     "output_type": "stream",
     "text": [
      "Epoch: 078\n",
      "Train loss: 0.1269         \t|  Train auc:          0.7708\n",
      "Val loss: 0.1255         \t| Val auc:          0.7673\n"
     ]
    },
    {
     "name": "stderr",
     "output_type": "stream",
     "text": [
      "100%|██████████| 258/258 [00:06<00:00, 42.66it/s]\n",
      "100%|██████████| 33/33 [00:00<00:00, 66.02it/s]\n"
     ]
    },
    {
     "name": "stdout",
     "output_type": "stream",
     "text": [
      "Epoch: 079\n",
      "Train loss: 0.1215         \t|  Train auc:          0.7842\n",
      "Val loss: 0.1290         \t| Val auc:          0.7653\n"
     ]
    },
    {
     "name": "stderr",
     "output_type": "stream",
     "text": [
      "100%|██████████| 258/258 [00:05<00:00, 43.42it/s]\n",
      "100%|██████████| 33/33 [00:00<00:00, 63.89it/s]\n"
     ]
    },
    {
     "name": "stdout",
     "output_type": "stream",
     "text": [
      "Epoch: 080\n",
      "Train loss: 0.1176         \t|  Train auc:          0.8153\n",
      "Val loss: 0.1926         \t| Val auc:          0.7843\n"
     ]
    },
    {
     "name": "stderr",
     "output_type": "stream",
     "text": [
      "100%|██████████| 258/258 [00:05<00:00, 43.47it/s]\n",
      "100%|██████████| 33/33 [00:00<00:00, 65.61it/s]\n"
     ]
    },
    {
     "name": "stdout",
     "output_type": "stream",
     "text": [
      "Epoch: 081\n",
      "Train loss: 0.1159         \t|  Train auc:          0.8039\n",
      "Val loss: 0.1359         \t| Val auc:          0.7949\n"
     ]
    },
    {
     "name": "stderr",
     "output_type": "stream",
     "text": [
      "100%|██████████| 258/258 [00:05<00:00, 43.61it/s]\n",
      "100%|██████████| 33/33 [00:00<00:00, 63.24it/s]\n"
     ]
    },
    {
     "name": "stdout",
     "output_type": "stream",
     "text": [
      "Epoch: 082\n",
      "Train loss: 0.1157         \t|  Train auc:          0.8143\n",
      "Val loss: 0.1216         \t| Val auc:          0.7708\n"
     ]
    },
    {
     "name": "stderr",
     "output_type": "stream",
     "text": [
      "100%|██████████| 258/258 [00:05<00:00, 43.50it/s]\n",
      "100%|██████████| 33/33 [00:00<00:00, 61.54it/s]\n"
     ]
    },
    {
     "name": "stdout",
     "output_type": "stream",
     "text": [
      "Epoch: 083\n",
      "Train loss: 0.1134         \t|  Train auc:          0.8168\n",
      "Val loss: 0.1505         \t| Val auc:          0.8081\n"
     ]
    },
    {
     "name": "stderr",
     "output_type": "stream",
     "text": [
      "100%|██████████| 258/258 [00:05<00:00, 43.40it/s]\n",
      "100%|██████████| 33/33 [00:00<00:00, 66.18it/s]\n"
     ]
    },
    {
     "name": "stdout",
     "output_type": "stream",
     "text": [
      "Epoch: 084\n",
      "Train loss: 0.1143         \t|  Train auc:          0.8096\n",
      "Val loss: 0.1185         \t| Val auc:          0.7549\n"
     ]
    },
    {
     "name": "stderr",
     "output_type": "stream",
     "text": [
      "100%|██████████| 258/258 [00:05<00:00, 43.66it/s]\n",
      "100%|██████████| 33/33 [00:00<00:00, 65.62it/s]\n"
     ]
    },
    {
     "name": "stdout",
     "output_type": "stream",
     "text": [
      "Epoch: 085\n",
      "Train loss: 0.1131         \t|  Train auc:          0.8239\n",
      "Val loss: 0.2634         \t| Val auc:          0.7932\n"
     ]
    },
    {
     "name": "stderr",
     "output_type": "stream",
     "text": [
      "100%|██████████| 258/258 [00:05<00:00, 43.51it/s]\n",
      "100%|██████████| 33/33 [00:00<00:00, 66.46it/s]\n"
     ]
    },
    {
     "name": "stdout",
     "output_type": "stream",
     "text": [
      "Epoch: 086\n",
      "Train loss: 0.1136         \t|  Train auc:          0.8236\n",
      "Val loss: 0.1642         \t| Val auc:          0.8155\n"
     ]
    },
    {
     "name": "stderr",
     "output_type": "stream",
     "text": [
      "100%|██████████| 258/258 [00:05<00:00, 43.62it/s]\n",
      "100%|██████████| 33/33 [00:00<00:00, 65.58it/s]\n"
     ]
    },
    {
     "name": "stdout",
     "output_type": "stream",
     "text": [
      "Epoch: 087\n",
      "Train loss: 0.1130         \t|  Train auc:          0.8228\n",
      "Val loss: 0.1820         \t| Val auc:          0.7429\n"
     ]
    },
    {
     "name": "stderr",
     "output_type": "stream",
     "text": [
      "100%|██████████| 258/258 [00:06<00:00, 42.89it/s]\n",
      "100%|██████████| 33/33 [00:00<00:00, 66.55it/s]\n"
     ]
    },
    {
     "name": "stdout",
     "output_type": "stream",
     "text": [
      "Epoch: 088\n",
      "Train loss: 0.1137         \t|  Train auc:          0.8275\n",
      "Val loss: 0.1477         \t| Val auc:          0.7926\n"
     ]
    },
    {
     "name": "stderr",
     "output_type": "stream",
     "text": [
      "100%|██████████| 258/258 [00:05<00:00, 43.48it/s]\n",
      "100%|██████████| 33/33 [00:00<00:00, 65.69it/s]\n"
     ]
    },
    {
     "name": "stdout",
     "output_type": "stream",
     "text": [
      "Epoch: 089\n",
      "Train loss: 0.1120         \t|  Train auc:          0.8260\n",
      "Val loss: 0.1935         \t| Val auc:          0.7492\n"
     ]
    },
    {
     "name": "stderr",
     "output_type": "stream",
     "text": [
      "100%|██████████| 258/258 [00:06<00:00, 42.82it/s]\n",
      "100%|██████████| 33/33 [00:00<00:00, 66.01it/s]\n"
     ]
    },
    {
     "name": "stdout",
     "output_type": "stream",
     "text": [
      "Epoch: 090\n",
      "Train loss: 0.1157         \t|  Train auc:          0.8089\n",
      "Val loss: 0.1197         \t| Val auc:          0.8170\n"
     ]
    },
    {
     "name": "stderr",
     "output_type": "stream",
     "text": [
      "100%|██████████| 258/258 [00:05<00:00, 43.35it/s]\n",
      "100%|██████████| 33/33 [00:00<00:00, 64.55it/s]\n"
     ]
    },
    {
     "name": "stdout",
     "output_type": "stream",
     "text": [
      "Epoch: 091\n",
      "Train loss: 0.1130         \t|  Train auc:          0.8091\n",
      "Val loss: 0.4156         \t| Val auc:          0.7724\n"
     ]
    },
    {
     "name": "stderr",
     "output_type": "stream",
     "text": [
      "100%|██████████| 258/258 [00:05<00:00, 43.29it/s]\n",
      "100%|██████████| 33/33 [00:00<00:00, 65.55it/s]\n"
     ]
    },
    {
     "name": "stdout",
     "output_type": "stream",
     "text": [
      "Epoch: 092\n",
      "Train loss: 0.1153         \t|  Train auc:          0.8159\n",
      "Val loss: 0.1203         \t| Val auc:          0.7660\n"
     ]
    },
    {
     "name": "stderr",
     "output_type": "stream",
     "text": [
      "100%|██████████| 258/258 [00:06<00:00, 38.86it/s]\n",
      "100%|██████████| 33/33 [00:00<00:00, 64.60it/s]\n"
     ]
    },
    {
     "name": "stdout",
     "output_type": "stream",
     "text": [
      "Epoch: 093\n",
      "Train loss: 0.1120         \t|  Train auc:          0.8235\n",
      "Val loss: 0.2968         \t| Val auc:          0.7962\n"
     ]
    },
    {
     "name": "stderr",
     "output_type": "stream",
     "text": [
      "100%|██████████| 258/258 [00:05<00:00, 43.69it/s]\n",
      "100%|██████████| 33/33 [00:00<00:00, 66.94it/s]\n"
     ]
    },
    {
     "name": "stdout",
     "output_type": "stream",
     "text": [
      "Epoch: 094\n",
      "Train loss: 0.1355         \t|  Train auc:          0.7303\n",
      "Val loss: 4.8170         \t| Val auc:          0.7087\n"
     ]
    },
    {
     "name": "stderr",
     "output_type": "stream",
     "text": [
      "100%|██████████| 258/258 [00:05<00:00, 43.44it/s]\n",
      "100%|██████████| 33/33 [00:00<00:00, 66.10it/s]\n"
     ]
    },
    {
     "name": "stdout",
     "output_type": "stream",
     "text": [
      "Epoch: 095\n",
      "Train loss: 0.1342         \t|  Train auc:          0.7310\n",
      "Val loss: 0.1316         \t| Val auc:          0.7329\n"
     ]
    },
    {
     "name": "stderr",
     "output_type": "stream",
     "text": [
      "100%|██████████| 258/258 [00:05<00:00, 43.51it/s]\n",
      "100%|██████████| 33/33 [00:00<00:00, 64.70it/s]\n"
     ]
    },
    {
     "name": "stdout",
     "output_type": "stream",
     "text": [
      "Epoch: 096\n",
      "Train loss: 0.1298         \t|  Train auc:          0.7457\n",
      "Val loss: 0.1297         \t| Val auc:          0.7696\n"
     ]
    },
    {
     "name": "stderr",
     "output_type": "stream",
     "text": [
      "100%|██████████| 258/258 [00:06<00:00, 42.59it/s]\n",
      "100%|██████████| 33/33 [00:00<00:00, 66.23it/s]\n"
     ]
    },
    {
     "name": "stdout",
     "output_type": "stream",
     "text": [
      "Epoch: 097\n",
      "Train loss: 0.1275         \t|  Train auc:          0.7564\n",
      "Val loss: 0.1352         \t| Val auc:          0.7880\n"
     ]
    },
    {
     "name": "stderr",
     "output_type": "stream",
     "text": [
      "100%|██████████| 258/258 [00:05<00:00, 43.60it/s]\n",
      "100%|██████████| 33/33 [00:00<00:00, 66.39it/s]\n"
     ]
    },
    {
     "name": "stdout",
     "output_type": "stream",
     "text": [
      "Epoch: 098\n",
      "Train loss: 0.1248         \t|  Train auc:          0.7863\n",
      "Val loss: 0.3326         \t| Val auc:          0.7802\n"
     ]
    },
    {
     "name": "stderr",
     "output_type": "stream",
     "text": [
      "100%|██████████| 258/258 [00:05<00:00, 43.51it/s]\n",
      "100%|██████████| 33/33 [00:00<00:00, 67.32it/s]\n"
     ]
    },
    {
     "name": "stdout",
     "output_type": "stream",
     "text": [
      "Epoch: 099\n",
      "Train loss: 0.1222         \t|  Train auc:          0.7928\n",
      "Val loss: 0.1688         \t| Val auc:          0.7818\n"
     ]
    },
    {
     "name": "stderr",
     "output_type": "stream",
     "text": [
      "100%|██████████| 258/258 [00:05<00:00, 43.68it/s]\n",
      "100%|██████████| 33/33 [00:00<00:00, 66.46it/s]"
     ]
    },
    {
     "name": "stdout",
     "output_type": "stream",
     "text": [
      "Epoch: 100\n",
      "Train loss: 0.1227         \t|  Train auc:          0.7818\n",
      "Val loss: 0.1285         \t| Val auc:          0.8046\n"
     ]
    },
    {
     "name": "stderr",
     "output_type": "stream",
     "text": [
      "\n"
     ]
    }
   ],
   "source": [
    "for epoch in range(1, 100+1):\n",
    "    loss, auc, model = train_graph_classifier(model, train_loader, criterion, optimizer, device, train=True)\n",
    "    val_loss, val_auc, model= train_graph_classifier(model, val_loader, criterion, optimizer, device, train=False)\n",
    "    \n",
    "    print(f\"Epoch: {epoch:03d}\")\n",
    "    print(f\"Train loss: {loss:<15.4f}\\t|  Train auc: {auc:>15.4f}\")\n",
    "    print(f\"Val loss: {val_loss:<15.4f}\\t| Val auc: {val_auc:>15.4f}\")\n",
    "    "
   ]
  },
  {
   "cell_type": "code",
   "execution_count": 9,
   "id": "01aaa7ae-28d0-4c48-bfd4-2e35ad55ed59",
   "metadata": {},
   "outputs": [
    {
     "name": "stderr",
     "output_type": "stream",
     "text": [
      "100%|██████████| 33/33 [00:00<00:00, 58.88it/s]"
     ]
    },
    {
     "name": "stdout",
     "output_type": "stream",
     "text": [
      "Test loss: 0.1282\t|  Test auc: 0.7926\n"
     ]
    },
    {
     "name": "stderr",
     "output_type": "stream",
     "text": [
      "\n"
     ]
    }
   ],
   "source": [
    "# Test set.\n",
    "test_loss, test_auc, model = train_graph_classifier(model, test_loader, criterion, optimizer, device, train=False)\n",
    "print(f\"Test loss: {test_loss:.4f}\\t|  Test auc: {test_auc:.4f}\")\n",
    "    "
   ]
  },
  {
   "cell_type": "code",
   "execution_count": 12,
   "id": "61da1d54-8b61-4197-a018-420b8cd1afa1",
   "metadata": {},
   "outputs": [
    {
     "name": "stderr",
     "output_type": "stream",
     "text": [
      "100%|██████████| 34/34 [00:00<00:00, 36.69it/s]\n"
     ]
    },
    {
     "name": "stdout",
     "output_type": "stream",
     "text": [
      "Epoch: 001\n",
      "Train loss: 0.6036         \t|  Train auc:          0.7818\n"
     ]
    },
    {
     "name": "stderr",
     "output_type": "stream",
     "text": [
      "100%|██████████| 34/34 [00:00<00:00, 38.01it/s]\n"
     ]
    },
    {
     "name": "stdout",
     "output_type": "stream",
     "text": [
      "Epoch: 002\n",
      "Train loss: 0.4997         \t|  Train auc:          0.7890\n"
     ]
    },
    {
     "name": "stderr",
     "output_type": "stream",
     "text": [
      "100%|██████████| 34/34 [00:00<00:00, 39.96it/s]\n"
     ]
    },
    {
     "name": "stdout",
     "output_type": "stream",
     "text": [
      "Epoch: 003\n",
      "Train loss: 0.4730         \t|  Train auc:          0.8109\n"
     ]
    },
    {
     "name": "stderr",
     "output_type": "stream",
     "text": [
      "100%|██████████| 34/34 [00:00<00:00, 41.28it/s]\n"
     ]
    },
    {
     "name": "stdout",
     "output_type": "stream",
     "text": [
      "Epoch: 004\n",
      "Train loss: 0.4787         \t|  Train auc:          0.8064\n"
     ]
    },
    {
     "name": "stderr",
     "output_type": "stream",
     "text": [
      "100%|██████████| 34/34 [00:00<00:00, 41.57it/s]\n"
     ]
    },
    {
     "name": "stdout",
     "output_type": "stream",
     "text": [
      "Epoch: 005\n",
      "Train loss: 0.4798         \t|  Train auc:          0.8024\n"
     ]
    },
    {
     "name": "stderr",
     "output_type": "stream",
     "text": [
      "100%|██████████| 34/34 [00:00<00:00, 41.33it/s]\n"
     ]
    },
    {
     "name": "stdout",
     "output_type": "stream",
     "text": [
      "Epoch: 006\n",
      "Train loss: 0.4790         \t|  Train auc:          0.8074\n"
     ]
    },
    {
     "name": "stderr",
     "output_type": "stream",
     "text": [
      "100%|██████████| 34/34 [00:00<00:00, 41.47it/s]\n"
     ]
    },
    {
     "name": "stdout",
     "output_type": "stream",
     "text": [
      "Epoch: 007\n",
      "Train loss: 0.4669         \t|  Train auc:          0.8183\n"
     ]
    },
    {
     "name": "stderr",
     "output_type": "stream",
     "text": [
      "100%|██████████| 34/34 [00:00<00:00, 40.51it/s]\n"
     ]
    },
    {
     "name": "stdout",
     "output_type": "stream",
     "text": [
      "Epoch: 008\n",
      "Train loss: 0.4494         \t|  Train auc:          0.8343\n"
     ]
    },
    {
     "name": "stderr",
     "output_type": "stream",
     "text": [
      "100%|██████████| 34/34 [00:00<00:00, 41.18it/s]\n"
     ]
    },
    {
     "name": "stdout",
     "output_type": "stream",
     "text": [
      "Epoch: 009\n",
      "Train loss: 0.4453         \t|  Train auc:          0.8398\n"
     ]
    },
    {
     "name": "stderr",
     "output_type": "stream",
     "text": [
      "100%|██████████| 34/34 [00:00<00:00, 41.08it/s]\n"
     ]
    },
    {
     "name": "stdout",
     "output_type": "stream",
     "text": [
      "Epoch: 010\n",
      "Train loss: 0.4421         \t|  Train auc:          0.8427\n"
     ]
    },
    {
     "name": "stderr",
     "output_type": "stream",
     "text": [
      "100%|██████████| 34/34 [00:00<00:00, 40.93it/s]\n"
     ]
    },
    {
     "name": "stdout",
     "output_type": "stream",
     "text": [
      "Epoch: 011\n",
      "Train loss: 0.4505         \t|  Train auc:          0.8371\n"
     ]
    },
    {
     "name": "stderr",
     "output_type": "stream",
     "text": [
      "100%|██████████| 34/34 [00:00<00:00, 41.26it/s]\n"
     ]
    },
    {
     "name": "stdout",
     "output_type": "stream",
     "text": [
      "Epoch: 012\n",
      "Train loss: 0.4380         \t|  Train auc:          0.8457\n"
     ]
    },
    {
     "name": "stderr",
     "output_type": "stream",
     "text": [
      "100%|██████████| 34/34 [00:00<00:00, 41.18it/s]\n"
     ]
    },
    {
     "name": "stdout",
     "output_type": "stream",
     "text": [
      "Epoch: 013\n",
      "Train loss: 0.4304         \t|  Train auc:          0.8507\n"
     ]
    },
    {
     "name": "stderr",
     "output_type": "stream",
     "text": [
      "100%|██████████| 34/34 [00:00<00:00, 41.52it/s]\n"
     ]
    },
    {
     "name": "stdout",
     "output_type": "stream",
     "text": [
      "Epoch: 014\n",
      "Train loss: 0.4266         \t|  Train auc:          0.8545\n"
     ]
    },
    {
     "name": "stderr",
     "output_type": "stream",
     "text": [
      "100%|██████████| 34/34 [00:00<00:00, 41.34it/s]\n"
     ]
    },
    {
     "name": "stdout",
     "output_type": "stream",
     "text": [
      "Epoch: 015\n",
      "Train loss: 0.4257         \t|  Train auc:          0.8542\n"
     ]
    },
    {
     "name": "stderr",
     "output_type": "stream",
     "text": [
      "100%|██████████| 34/34 [00:00<00:00, 41.18it/s]\n"
     ]
    },
    {
     "name": "stdout",
     "output_type": "stream",
     "text": [
      "Epoch: 016\n",
      "Train loss: 0.4314         \t|  Train auc:          0.8520\n"
     ]
    },
    {
     "name": "stderr",
     "output_type": "stream",
     "text": [
      "100%|██████████| 34/34 [00:00<00:00, 41.11it/s]\n"
     ]
    },
    {
     "name": "stdout",
     "output_type": "stream",
     "text": [
      "Epoch: 017\n",
      "Train loss: 0.4262         \t|  Train auc:          0.8557\n"
     ]
    },
    {
     "name": "stderr",
     "output_type": "stream",
     "text": [
      "100%|██████████| 34/34 [00:00<00:00, 41.00it/s]\n"
     ]
    },
    {
     "name": "stdout",
     "output_type": "stream",
     "text": [
      "Epoch: 018\n",
      "Train loss: 0.4383         \t|  Train auc:          0.8498\n"
     ]
    },
    {
     "name": "stderr",
     "output_type": "stream",
     "text": [
      "100%|██████████| 34/34 [00:00<00:00, 41.03it/s]\n"
     ]
    },
    {
     "name": "stdout",
     "output_type": "stream",
     "text": [
      "Epoch: 019\n",
      "Train loss: 0.4317         \t|  Train auc:          0.8516\n"
     ]
    },
    {
     "name": "stderr",
     "output_type": "stream",
     "text": [
      "100%|██████████| 34/34 [00:00<00:00, 41.56it/s]\n"
     ]
    },
    {
     "name": "stdout",
     "output_type": "stream",
     "text": [
      "Epoch: 020\n",
      "Train loss: 0.4321         \t|  Train auc:          0.8483\n"
     ]
    },
    {
     "name": "stderr",
     "output_type": "stream",
     "text": [
      "100%|██████████| 34/34 [00:00<00:00, 41.73it/s]\n"
     ]
    },
    {
     "name": "stdout",
     "output_type": "stream",
     "text": [
      "Epoch: 021\n",
      "Train loss: 0.4116         \t|  Train auc:          0.8670\n"
     ]
    },
    {
     "name": "stderr",
     "output_type": "stream",
     "text": [
      "100%|██████████| 34/34 [00:00<00:00, 41.53it/s]\n"
     ]
    },
    {
     "name": "stdout",
     "output_type": "stream",
     "text": [
      "Epoch: 022\n",
      "Train loss: 0.4007         \t|  Train auc:          0.8732\n"
     ]
    },
    {
     "name": "stderr",
     "output_type": "stream",
     "text": [
      "100%|██████████| 34/34 [00:00<00:00, 40.99it/s]\n"
     ]
    },
    {
     "name": "stdout",
     "output_type": "stream",
     "text": [
      "Epoch: 023\n",
      "Train loss: 0.4068         \t|  Train auc:          0.8702\n"
     ]
    },
    {
     "name": "stderr",
     "output_type": "stream",
     "text": [
      "100%|██████████| 34/34 [00:00<00:00, 41.15it/s]\n"
     ]
    },
    {
     "name": "stdout",
     "output_type": "stream",
     "text": [
      "Epoch: 024\n",
      "Train loss: 0.4093         \t|  Train auc:          0.8677\n"
     ]
    },
    {
     "name": "stderr",
     "output_type": "stream",
     "text": [
      "100%|██████████| 34/34 [00:00<00:00, 41.60it/s]\n"
     ]
    },
    {
     "name": "stdout",
     "output_type": "stream",
     "text": [
      "Epoch: 025\n",
      "Train loss: 0.4070         \t|  Train auc:          0.8719\n"
     ]
    },
    {
     "name": "stderr",
     "output_type": "stream",
     "text": [
      "100%|██████████| 34/34 [00:00<00:00, 41.61it/s]\n"
     ]
    },
    {
     "name": "stdout",
     "output_type": "stream",
     "text": [
      "Epoch: 026\n",
      "Train loss: 0.4056         \t|  Train auc:          0.8718\n"
     ]
    },
    {
     "name": "stderr",
     "output_type": "stream",
     "text": [
      "100%|██████████| 34/34 [00:00<00:00, 41.67it/s]\n"
     ]
    },
    {
     "name": "stdout",
     "output_type": "stream",
     "text": [
      "Epoch: 027\n",
      "Train loss: 0.3944         \t|  Train auc:          0.8785\n"
     ]
    },
    {
     "name": "stderr",
     "output_type": "stream",
     "text": [
      "100%|██████████| 34/34 [00:00<00:00, 41.49it/s]\n"
     ]
    },
    {
     "name": "stdout",
     "output_type": "stream",
     "text": [
      "Epoch: 028\n",
      "Train loss: 0.3940         \t|  Train auc:          0.8789\n"
     ]
    },
    {
     "name": "stderr",
     "output_type": "stream",
     "text": [
      "100%|██████████| 34/34 [00:00<00:00, 41.64it/s]\n"
     ]
    },
    {
     "name": "stdout",
     "output_type": "stream",
     "text": [
      "Epoch: 029\n",
      "Train loss: 0.4075         \t|  Train auc:          0.8671\n"
     ]
    },
    {
     "name": "stderr",
     "output_type": "stream",
     "text": [
      "100%|██████████| 34/34 [00:00<00:00, 41.47it/s]\n"
     ]
    },
    {
     "name": "stdout",
     "output_type": "stream",
     "text": [
      "Epoch: 030\n",
      "Train loss: 0.3853         \t|  Train auc:          0.8833\n"
     ]
    },
    {
     "name": "stderr",
     "output_type": "stream",
     "text": [
      "100%|██████████| 34/34 [00:00<00:00, 41.40it/s]\n"
     ]
    },
    {
     "name": "stdout",
     "output_type": "stream",
     "text": [
      "Epoch: 031\n",
      "Train loss: 0.3840         \t|  Train auc:          0.8879\n"
     ]
    },
    {
     "name": "stderr",
     "output_type": "stream",
     "text": [
      "100%|██████████| 34/34 [00:00<00:00, 41.58it/s]\n"
     ]
    },
    {
     "name": "stdout",
     "output_type": "stream",
     "text": [
      "Epoch: 032\n",
      "Train loss: 0.3921         \t|  Train auc:          0.8824\n"
     ]
    },
    {
     "name": "stderr",
     "output_type": "stream",
     "text": [
      "100%|██████████| 34/34 [00:00<00:00, 41.79it/s]\n"
     ]
    },
    {
     "name": "stdout",
     "output_type": "stream",
     "text": [
      "Epoch: 033\n",
      "Train loss: 0.3800         \t|  Train auc:          0.8884\n"
     ]
    },
    {
     "name": "stderr",
     "output_type": "stream",
     "text": [
      "100%|██████████| 34/34 [00:00<00:00, 41.57it/s]\n"
     ]
    },
    {
     "name": "stdout",
     "output_type": "stream",
     "text": [
      "Epoch: 034\n",
      "Train loss: 0.3814         \t|  Train auc:          0.8883\n"
     ]
    },
    {
     "name": "stderr",
     "output_type": "stream",
     "text": [
      "100%|██████████| 34/34 [00:00<00:00, 41.74it/s]\n"
     ]
    },
    {
     "name": "stdout",
     "output_type": "stream",
     "text": [
      "Epoch: 035\n",
      "Train loss: 0.3972         \t|  Train auc:          0.8784\n"
     ]
    },
    {
     "name": "stderr",
     "output_type": "stream",
     "text": [
      "100%|██████████| 34/34 [00:00<00:00, 41.40it/s]\n"
     ]
    },
    {
     "name": "stdout",
     "output_type": "stream",
     "text": [
      "Epoch: 036\n",
      "Train loss: 0.3777         \t|  Train auc:          0.8895\n"
     ]
    },
    {
     "name": "stderr",
     "output_type": "stream",
     "text": [
      "100%|██████████| 34/34 [00:00<00:00, 41.49it/s]\n"
     ]
    },
    {
     "name": "stdout",
     "output_type": "stream",
     "text": [
      "Epoch: 037\n",
      "Train loss: 0.3736         \t|  Train auc:          0.8921\n"
     ]
    },
    {
     "name": "stderr",
     "output_type": "stream",
     "text": [
      "100%|██████████| 34/34 [00:00<00:00, 41.71it/s]\n"
     ]
    },
    {
     "name": "stdout",
     "output_type": "stream",
     "text": [
      "Epoch: 038\n",
      "Train loss: 0.3798         \t|  Train auc:          0.8884\n"
     ]
    },
    {
     "name": "stderr",
     "output_type": "stream",
     "text": [
      "100%|██████████| 34/34 [00:00<00:00, 41.48it/s]\n"
     ]
    },
    {
     "name": "stdout",
     "output_type": "stream",
     "text": [
      "Epoch: 039\n",
      "Train loss: 0.3811         \t|  Train auc:          0.8898\n"
     ]
    },
    {
     "name": "stderr",
     "output_type": "stream",
     "text": [
      "100%|██████████| 34/34 [00:00<00:00, 41.61it/s]"
     ]
    },
    {
     "name": "stdout",
     "output_type": "stream",
     "text": [
      "Epoch: 040\n",
      "Train loss: 0.3851         \t|  Train auc:          0.8877\n"
     ]
    },
    {
     "name": "stderr",
     "output_type": "stream",
     "text": [
      "\n"
     ]
    }
   ],
   "source": [
    "# Continue training model with entire dataset (train, val, and test all combined).\n",
    "for epoch in range(1, 40+1):\n",
    "    loss, auc, model = train_graph_classifier(model, total_loader, criterion, optimizer, device, train=True)\n",
    "    \n",
    "    print(f\"Epoch: {epoch:03d}\")\n",
    "    print(f\"Train loss: {loss:<15.4f}\\t|  Train auc: {auc:>15.4f}\")"
   ]
  },
  {
   "cell_type": "code",
   "execution_count": 13,
   "id": "e9267d30-c629-4b95-8999-c44875e84033",
   "metadata": {},
   "outputs": [
    {
     "name": "stdout",
     "output_type": "stream",
     "text": [
      " ID: DB01956      |   Name: taurine              \t| Score: 316.856    |   Label: NA\n",
      " ID: DB06782      |   Name: dimercaprol          \t| Score: 174.770    |   Label: NA\n",
      " ID: DB00898      |   Name: Ethanol              \t| Score: 169.102    |   Label: NA\n",
      " ID: DB01839      |   Name: propylene glycol     \t| Score: 125.368    |   Label: NA\n",
      " ID: DB11136      |   Name: CHROMIUM             \t| Score: 92.895     |   Label: NA\n",
      " ID: DB00847      |   Name: cysteamine           \t| Score: 91.649     |   Label: NA\n",
      " ID: DB09462      |   Name: Glycerin             \t| Score: 47.003     |   Label: NA\n",
      " ID: DB00127      |   Name: Spermine             \t| Score: 18.562     |   Label: NA\n",
      " ID: DB01169      |   Name: Arsenic trioxide     \t| Score: 9.965      |   Label: NA\n",
      " ID: DB06824      |   Name: trientine            \t| Score: 5.161      |   Label: NA\n",
      " ID: DB06413      |   Name: armodafinil          \t| Score: 3.457      |   Label: NA\n",
      " ID: DB00745      |   Name: modafinil            \t| Score: 3.427      |   Label: NA\n",
      " ID: DB05389      |   Name: TETRACHLORODECAOXIDE \t| Score: 1.905      |   Label: NA\n",
      " ID: DB00763      |   Name: methimazole          \t| Score: 1.623      |   Label: NA\n",
      " ID: DB00016      |   Name: Erythropoietin       \t| Score: 1.295      |   Label: NA\n",
      " ID: DB00495      |   Name: zidovudine           \t| Score: 1.033      |   Label: NA\n",
      " ID: DB06637      |   Name: dalfampridine        \t| Score: 1.004      |   Label: NA\n",
      " ID: DB03085      |   Name: glycolic acid        \t| Score: 0.750      |   Label: NA\n",
      " ID: DB01325      |   Name: quinethazone         \t| Score: 0.311      |   Label: NA\n",
      " ID: DB09332      |   Name: Kappadione           \t| Score: 0.080      |   Label: NA\n",
      " ID: DB03255      |   Name: Phenol               \t| Score: -0.038     |   Label: NA\n",
      " ID: DB01246      |   Name: Trimeprazine         \t| Score: -0.062     |   Label: NA\n",
      " ID: DB01319      |   Name: fosamprenavir        \t| Score: -0.077     |   Label: NA\n",
      " ID: DB06470      |   Name: clomethiazole        \t| Score: -0.125     |   Label: NA\n",
      " ID: DB09146      |   Name: Sucroferric Oxyhydroxide \t| Score: -0.155     |   Label: NA\n",
      " ID: DB00115      |   Name: cyanocobalamin       \t| Score: -0.275     |   Label: NA\n",
      " ID: DB01698      |   Name: rutin                \t| Score: -0.313     |   Label: NA\n",
      " ID: DB04894      |   Name: Vapreotide           \t| Score: -0.414     |   Label: NA\n",
      " ID: DB09418      |   Name: Potassium perchlorate \t| Score: -0.417     |   Label: NA\n",
      " ID: DB01265      |   Name: telbivudine          \t| Score: -0.452     |   Label: NA\n",
      " ID: DB06791      |   Name: Lanreotide           \t| Score: -0.489     |   Label: NA\n",
      " ID: DB00364      |   Name: sucralfate           \t| Score: -0.511     |   Label: NA\n",
      " ID: DB00545      |   Name: mestinon             \t| Score: -0.527     |   Label: NA\n",
      " ID: DB09143      |   Name: sonidegib            \t| Score: -0.558     |   Label: NA\n",
      " ID: DB00420      |   Name: promazine            \t| Score: -0.582     |   Label: NA\n",
      " ID: DB01046      |   Name: lubiprostone         \t| Score: -0.598     |   Label: NA\n",
      " ID: DB01264      |   Name: darunavir            \t| Score: -0.600     |   Label: NA\n",
      " ID: DB09000      |   Name: cyamemazine          \t| Score: -0.609     |   Label: NA\n",
      " ID: DB00880      |   Name: chlorothiazide       \t| Score: -0.620     |   Label: NA\n",
      " ID: DB00200      |   Name: Hydroxocobalamin     \t| Score: -0.623     |   Label: NA\n",
      " ID: DB04845      |   Name: ixabepilone          \t| Score: -0.624     |   Label: NA\n",
      " ID: DB00938      |   Name: salmeterol           \t| Score: -0.649     |   Label: NA\n",
      " ID: DB06219      |   Name: Dalbavancin          \t| Score: -0.676     |   Label: NA\n",
      " ID: DB06287      |   Name: temsirolimus         \t| Score: -0.744     |   Label: NA\n",
      " ID: DB02925      |   Name: piretanide           \t| Score: -0.752     |   Label: NA\n",
      " ID: DB00385      |   Name: valrubicin           \t| Score: -0.791     |   Label: NA\n",
      " ID: DB09099      |   Name: somatostatin         \t| Score: -0.811     |   Label: NA\n",
      " ID: DB00524      |   Name: metolazone           \t| Score: -0.828     |   Label: NA\n",
      " ID: DB00477      |   Name: chlorpromazine       \t| Score: -0.860     |   Label: NA\n",
      " ID: DB00999      |   Name: hydrochlorothiazide  \t| Score: -0.871     |   Label: NA\n",
      " ID: DB09082      |   Name: vilanterol           \t| Score: -0.881     |   Label: NA\n",
      " ID: DB00284      |   Name: acarbose             \t| Score: -0.886     |   Label: NA\n",
      " ID: DB12010      |   Name: fostamatinib         \t| Score: -0.895     |   Label: NA\n",
      " ID: DB01307      |   Name: Insulin Detemir      \t| Score: -0.968     |   Label: NA\n",
      " ID: DB05311      |   Name: ECALLANTIDE          \t| Score: -0.974     |   Label: NA\n",
      " ID: DB01114      |   Name: chlorphenamine       \t| Score: -1.027     |   Label: NA\n",
      " ID: DB01403      |   Name: levomepromazine      \t| Score: -1.037     |   Label: NA\n",
      " ID: DB09564      |   Name: Insulin Degludec     \t| Score: -1.038     |   Label: NA\n",
      " ID: DB01129      |   Name: rabeprazole          \t| Score: -1.039     |   Label: NA\n",
      " ID: DB06589      |   Name: pazopanib            \t| Score: -1.041     |   Label: NA\n",
      " ID: DB01097      |   Name: leflunomide          \t| Score: -1.052     |   Label: NA\n",
      " ID: DB09121      |   Name: aurothioglucose      \t| Score: -1.052     |   Label: NA\n",
      " ID: DB01590      |   Name: everolimus           \t| Score: -1.063     |   Label: NA\n",
      " ID: DB01309      |   Name: Insulin Glulisine    \t| Score: -1.086     |   Label: NA\n",
      " ID: DB00030      |   Name: insulin human        \t| Score: -1.097     |   Label: NA\n",
      " ID: DB09221      |   Name: Polaprezinc          \t| Score: -1.100     |   Label: NA\n",
      " ID: DB00071      |   Name: insulin, neutral     \t| Score: -1.105     |   Label: NA\n",
      " ID: DB00047      |   Name: Insulin Glargine     \t| Score: -1.117     |   Label: NA\n",
      " ID: DB00980      |   Name: ramelteon            \t| Score: -1.121     |   Label: NA\n",
      " ID: DB00182      |   Name: Amphetamine          \t| Score: -1.137     |   Label: NA\n",
      " ID: DB00867      |   Name: ritodrine            \t| Score: -1.144     |   Label: NA\n",
      " ID: DB01351      |   Name: Amobarbital          \t| Score: -1.154     |   Label: NA\n",
      " ID: DB00517      |   Name: Anisotropine Methylbromide \t| Score: -1.166     |   Label: NA\n",
      " ID: DB06288      |   Name: amisulpride          \t| Score: -1.180     |   Label: NA\n",
      " ID: DB01576      |   Name: dextroamphetamine    \t| Score: -1.181     |   Label: NA\n",
      " ID: DB12947      |   Name: doxifluridine        \t| Score: -1.204     |   Label: NA\n",
      " ID: DB00104      |   Name: octreotide           \t| Score: -1.206     |   Label: NA\n",
      " ID: DB09097      |   Name: quinagolide          \t| Score: -1.224     |   Label: NA\n",
      " ID: DB05351      |   Name: dexlansoprazole      \t| Score: -1.231     |   Label: NA\n",
      " ID: DB00266      |   Name: dicoumarol           \t| Score: -1.241     |   Label: NA\n",
      " ID: DB00535      |   Name: cefdinir             \t| Score: -1.248     |   Label: NA\n",
      " ID: DB00695      |   Name: furosemide           \t| Score: -1.253     |   Label: NA\n",
      " ID: DB00808      |   Name: indapamide           \t| Score: -1.260     |   Label: NA\n",
      " ID: DB08804      |   Name: Nandrolone decanoate \t| Score: -1.275     |   Label: NA\n",
      " ID: DB09555      |   Name: Dexchlorpheniramine maleate \t| Score: -1.291     |   Label: NA\n",
      " ID: DB06692      |   Name: Aprotinin            \t| Score: -1.298     |   Label: NA\n",
      " ID: DB00799      |   Name: tazarotene           \t| Score: -1.327     |   Label: NA\n",
      " ID: DB04931      |   Name: MSH, 4-Nle-7-Phe-alpha- \t| Score: -1.333     |   Label: NA\n",
      " ID: DB00448      |   Name: lansoprazole         \t| Score: -1.347     |   Label: NA\n",
      " ID: DB00722      |   Name: lisinopril           \t| Score: -1.357     |   Label: NA\n",
      " ID: DB00001      |   Name: Lepirudin            \t| Score: -1.359     |   Label: NA\n",
      " ID: DB00877      |   Name: sirolimus            \t| Score: -1.367     |   Label: NA\n",
      " ID: DB04932      |   Name: Defibrotide          \t| Score: -1.377     |   Label: NA\n",
      " ID: DB09167      |   Name: dosulepin            \t| Score: -1.397     |   Label: NA\n",
      " ID: DB09289      |   Name: tianeptine           \t| Score: -1.404     |   Label: NA\n",
      " ID: DB11581      |   Name: venetoclax           \t| Score: -1.424     |   Label: NA\n",
      " ID: DB00312      |   Name: Pentobarbital        \t| Score: -1.427     |   Label: NA\n",
      " ID: DB09075      |   Name: edoxaban             \t| Score: -1.436     |   Label: NA\n",
      " ID: DB00462      |   Name: Methylscopolamine bromide \t| Score: -1.441     |   Label: NA\n",
      " ID: DB00995      |   Name: auranofin            \t| Score: -1.462     |   Label: NA\n",
      " ID: DB00391      |   Name: SULPIRIDE            \t| Score: -1.464     |   Label: NA\n",
      " ID: DB00716      |   Name: nedocromil           \t| Score: -1.465     |   Label: NA\n",
      " ID: DB00784      |   Name: mefenamic-acid       \t| Score: -1.468     |   Label: NA\n",
      " ID: DB06152      |   Name: buphenine            \t| Score: -1.469     |   Label: NA\n",
      " ID: DB09241      |   Name: Methylene Blue       \t| Score: -1.481     |   Label: NA\n",
      " ID: DB00773      |   Name: etoposide            \t| Score: -1.490     |   Label: NA\n",
      " ID: DB00237      |   Name: butabarbital         \t| Score: -1.503     |   Label: NA\n",
      " ID: DB01175      |   Name: escitalopram         \t| Score: -1.505     |   Label: NA\n",
      " ID: DB01212      |   Name: ceftriaxone          \t| Score: -1.505     |   Label: NA\n",
      " ID: DB00599      |   Name: thiopental           \t| Score: -1.536     |   Label: NA\n",
      " ID: DB08871      |   Name: Eribulin             \t| Score: -1.538     |   Label: NA\n",
      " ID: DB00726      |   Name: trimipramine         \t| Score: -1.541     |   Label: NA\n",
      " ID: DB01239      |   Name: chlorprothixene      \t| Score: -1.548     |   Label: NA\n",
      " ID: DB00508      |   Name: triflupromazine      \t| Score: -1.551     |   Label: NA\n",
      " ID: DB00017      |   Name: Salmon Calcitonin    \t| Score: -1.568     |   Label: NA\n",
      " ID: DB01284      |   Name: Cosyntropin          \t| Score: -1.570     |   Label: NA\n",
      " ID: DB13954      |   Name: estradiol cypionate  \t| Score: -1.572     |   Label: NA\n",
      " ID: DB04868      |   Name: nilotinib            \t| Score: -1.581     |   Label: NA\n",
      " ID: DB00549      |   Name: zafirlukast          \t| Score: -1.589     |   Label: NA\n",
      " ID: DB00392      |   Name: profenamine          \t| Score: -1.594     |   Label: NA\n",
      " ID: DB01620      |   Name: pheniramine          \t| Score: -1.601     |   Label: NA\n",
      " ID: DB09198      |   Name: Lobeglitazone        \t| Score: -1.604     |   Label: NA\n",
      " ID: DB00912      |   Name: repaglinide          \t| Score: -1.608     |   Label: NA\n",
      " ID: DB00922      |   Name: levosimendan         \t| Score: -1.625     |   Label: NA\n",
      " ID: DB00946      |   Name: phenprocoumon        \t| Score: -1.625     |   Label: NA\n",
      " ID: DB00947      |   Name: fulvestrant          \t| Score: -1.628     |   Label: NA\n",
      " ID: DB06717      |   Name: fosaprepitant-dimeglumine \t| Score: -1.632     |   Label: NA\n",
      " ID: DB00598      |   Name: labetalol            \t| Score: -1.633     |   Label: NA\n",
      " ID: DB00492      |   Name: fosinopril           \t| Score: -1.636     |   Label: NA\n",
      " ID: DB09059      |   Name: atosiban             \t| Score: -1.642     |   Label: NA\n",
      " ID: DB06603      |   Name: panobinostat         \t| Score: -1.656     |   Label: NA\n",
      " ID: DB00063      |   Name: eptifibatide         \t| Score: -1.656     |   Label: NA\n",
      " ID: DB00315      |   Name: zolmitriptan         \t| Score: -1.659     |   Label: NA\n",
      " ID: DB08839      |   Name: serotonin            \t| Score: -1.666     |   Label: NA\n",
      " ID: DB01291      |   Name: Pirbuterol           \t| Score: -1.671     |   Label: NA\n",
      " ID: DB00405      |   Name: Dexbrompheniramine   \t| Score: -1.673     |   Label: NA\n",
      " ID: DB12863      |   Name: sivelestat           \t| Score: -1.683     |   Label: NA\n",
      " ID: DB00835      |   Name: brompheniramine      \t| Score: -1.691     |   Label: NA\n",
      " ID: DB08995      |   Name: diosmin              \t| Score: -1.699     |   Label: NA\n",
      " ID: DB00412      |   Name: Rosiglitazone        \t| Score: -1.707     |   Label: NA\n",
      " ID: DB00432      |   Name: Trifluridine         \t| Score: -1.711     |   Label: NA\n",
      " ID: DB00397      |   Name: Phenylpropanolamine  \t| Score: -1.717     |   Label: NA\n",
      " ID: DB00868      |   Name: benzonatate          \t| Score: -1.723     |   Label: NA\n",
      " ID: DB12545      |   Name: indobufen            \t| Score: -1.732     |   Label: NA\n",
      " ID: DB00295      |   Name: Morphine             \t| Score: -1.739     |   Label: NA\n",
      " ID: DB00690      |   Name: Flurazepam           \t| Score: -1.764     |   Label: NA\n",
      " ID: DB00093      |   Name: Felypressin          \t| Score: -1.764     |   Label: NA\n",
      " ID: DB01202      |   Name: levetiracetam        \t| Score: -1.765     |   Label: NA\n",
      " ID: DB04899      |   Name: Nesiritide           \t| Score: -1.771     |   Label: NA\n",
      " ID: DB00322      |   Name: floxuridine          \t| Score: -1.772     |   Label: NA\n",
      " ID: DB00400      |   Name: griseofulvin         \t| Score: -1.775     |   Label: NA\n",
      " ID: DB00311      |   Name: ethoxzolamide        \t| Score: -1.776     |   Label: NA\n",
      " ID: DB00145      |   Name: Glycine              \t| Score: -1.779     |   Label: NA\n",
      " ID: DB01101      |   Name: capecitabine         \t| Score: -1.787     |   Label: NA\n",
      " ID: DB00467      |   Name: Enoxacin             \t| Score: -1.791     |   Label: NA\n",
      " ID: DB01278      |   Name: Pramlintide          \t| Score: -1.802     |   Label: NA\n",
      " ID: DB01285      |   Name: Corticotropin        \t| Score: -1.805     |   Label: NA\n",
      " ID: DB00944      |   Name: demecarium           \t| Score: -1.807     |   Label: NA\n",
      " ID: DB02638      |   Name: terlipressin         \t| Score: -1.821     |   Label: NA\n",
      " ID: DB00214      |   Name: torasemide           \t| Score: -1.823     |   Label: NA\n",
      " ID: DB04898      |   Name: Ximelagatran         \t| Score: -1.823     |   Label: NA\n",
      " ID: DB00136      |   Name: calcitriol           \t| Score: -1.824     |   Label: NA\n",
      " ID: DB00032      |   Name: Follicle Stimulating Hormone \t| Score: -1.826     |   Label: NA\n",
      " ID: DB00286      |   Name: Conjugated Estrogens \t| Score: -1.829     |   Label: NA\n",
      " ID: DB01167      |   Name: itraconazole         \t| Score: -1.834     |   Label: NA\n",
      " ID: DB06800      |   Name: methylnaltrexone     \t| Score: -1.843     |   Label: NA\n",
      " ID: DB01261      |   Name: sitagliptin          \t| Score: -1.845     |   Label: NA\n",
      " ID: DB12153      |   Name: citicoline           \t| Score: -1.860     |   Label: NA\n",
      " ID: DB06212      |   Name: tolvaptan            \t| Score: -1.867     |   Label: NA\n",
      " ID: DB00215      |   Name: citalopram           \t| Score: -1.869     |   Label: NA\n",
      " ID: DB00368      |   Name: norepinephrine       \t| Score: -1.879     |   Label: NA\n",
      " ID: DB00816      |   Name: metaproterenol       \t| Score: -1.880     |   Label: NA\n",
      " ID: DB00780      |   Name: phenelzine           \t| Score: -1.883     |   Label: NA\n",
      " ID: DB00610      |   Name: metaraminol          \t| Score: -1.885     |   Label: NA\n",
      " ID: DB01059      |   Name: norfloxacin          \t| Score: -1.889     |   Label: NA\n",
      " ID: DB01132      |   Name: pioglitazone         \t| Score: -1.891     |   Label: NA\n",
      " ID: DB01100      |   Name: pimozide             \t| Score: -1.891     |   Label: NA\n",
      " ID: DB00876      |   Name: eprosartan           \t| Score: -1.895     |   Label: NA\n",
      " ID: DB12301      |   Name: doravirine           \t| Score: -1.897     |   Label: NA\n",
      " ID: DB01327      |   Name: cefazolin            \t| Score: -1.900     |   Label: NA\n",
      " ID: DB08901      |   Name: ponatinib            \t| Score: -1.922     |   Label: NA\n",
      " ID: DB06268      |   Name: Sitaxentan           \t| Score: -1.927     |   Label: NA\n",
      " ID: DB00106      |   Name: Abarelix             \t| Score: -1.929     |   Label: NA\n",
      " ID: DB00692      |   Name: phentolamine         \t| Score: -1.930     |   Label: NA\n",
      " ID: DB00552      |   Name: pentostatin          \t| Score: -1.937     |   Label: NA\n",
      " ID: DB09272      |   Name: eluxadoline          \t| Score: -1.942     |   Label: NA\n",
      " ID: DB00933      |   Name: mesoridazine         \t| Score: -1.944     |   Label: NA\n",
      " ID: DB06655      |   Name: liraglutide          \t| Score: -1.949     |   Label: NA\n",
      " ID: DB01282      |   Name: carbetocin           \t| Score: -1.958     |   Label: NA\n",
      " ID: DB09043      |   Name: Albiglutide          \t| Score: -1.961     |   Label: NA\n",
      " ID: DB06785      |   Name: ganirelix            \t| Score: -1.977     |   Label: NA\n",
      " ID: DB00146      |   Name: Calcidiol            \t| Score: -1.980     |   Label: NA\n",
      " ID: DB01262      |   Name: decitabine           \t| Score: -1.981     |   Label: NA\n",
      " ID: DB00713      |   Name: Oxacillin            \t| Score: -1.994     |   Label: NA\n",
      " ID: DB01140      |   Name: cefadroxil           \t| Score: -1.996     |   Label: NA\n",
      " ID: DB01142      |   Name: doxepin              \t| Score: -2.000     |   Label: NA\n",
      " ID: DB06262      |   Name: droxidopa            \t| Score: -2.006     |   Label: NA\n",
      " ID: DB01600      |   Name: tiaprofenic-acid     \t| Score: -2.007     |   Label: NA\n",
      " ID: DB00879      |   Name: emtricitabine        \t| Score: -2.009     |   Label: NA\n",
      " ID: DB00165      |   Name: pyridoxine           \t| Score: -2.012     |   Label: NA\n",
      " ID: DB00924      |   Name: cyclobenzaprine      \t| Score: -2.022     |   Label: NA\n",
      " ID: DB01016      |   Name: glyburide            \t| Score: -2.025     |   Label: NA\n",
      " ID: DB00411      |   Name: carbachol            \t| Score: -2.054     |   Label: NA\n",
      " ID: DB01436      |   Name: alfacalcidol         \t| Score: -2.057     |   Label: NA\n",
      " ID: DB00006      |   Name: bivalirudin          \t| Score: -2.059     |   Label: NA\n",
      " ID: DB00107      |   Name: oxytocin             \t| Score: -2.066     |   Label: NA\n",
      " ID: DB00109      |   Name: enfuvirtide          \t| Score: -2.072     |   Label: NA\n",
      " ID: DB00458      |   Name: imipramine           \t| Score: -2.074     |   Label: NA\n",
      " ID: DB06788      |   Name: Histrelin            \t| Score: -2.074     |   Label: NA\n",
      " ID: DB01615      |   Name: Aceprometazine       \t| Score: -2.085     |   Label: NA\n",
      " ID: DB04941      |   Name: CROFELEMER           \t| Score: -2.091     |   Label: NA\n",
      " ID: DB06825      |   Name: triptorelin          \t| Score: -2.092     |   Label: NA\n",
      " ID: DB00680      |   Name: moracizine           \t| Score: -2.094     |   Label: NA\n",
      " ID: DB00998      |   Name: frovatriptan         \t| Score: -2.095     |   Label: NA\n",
      " ID: DB00413      |   Name: pramipexole          \t| Score: -2.095     |   Label: NA\n",
      " ID: DB00014      |   Name: goserelin-acetate    \t| Score: -2.096     |   Label: NA\n",
      " ID: DB00795      |   Name: sulfasalazine        \t| Score: -2.101     |   Label: NA\n",
      " ID: DB01382      |   Name: Glycodiazine         \t| Score: -2.118     |   Label: NA\n",
      " ID: DB00126      |   Name: Vitamin C            \t| Score: -2.123     |   Label: NA\n",
      " ID: DB06719      |   Name: Buserelin            \t| Score: -2.127     |   Label: NA\n",
      " ID: DB00939      |   Name: meclofenamic-acid    \t| Score: -2.129     |   Label: NA\n",
      " ID: DB01333      |   Name: cefradine            \t| Score: -2.140     |   Label: NA\n",
      " ID: DB00709      |   Name: lamivudine           \t| Score: -2.145     |   Label: NA\n",
      " ID: DB09245      |   Name: toloxatone           \t| Score: -2.150     |   Label: NA\n",
      " ID: DB11712      |   Name: tezacaftor           \t| Score: -2.153     |   Label: NA\n",
      " ID: DB00666      |   Name: Nafarelin            \t| Score: -2.156     |   Label: NA\n",
      " ID: DB00988      |   Name: dopamine             \t| Score: -2.160     |   Label: NA\n",
      " ID: DB00441      |   Name: gemcitabine          \t| Score: -2.164     |   Label: NA\n",
      " ID: DB01102      |   Name: Arbutamine           \t| Score: -2.171     |   Label: NA\n",
      " ID: DB00733      |   Name: pralidoxime          \t| Score: -2.178     |   Label: NA\n",
      " ID: DB00970      |   Name: dactinomycin         \t| Score: -2.182     |   Label: NA\n",
      " ID: DB01340      |   Name: cilazapril           \t| Score: -2.183     |   Label: NA\n",
      " ID: DB00800      |   Name: fenoldopam           \t| Score: -2.188     |   Label: NA\n",
      " ID: DB00169      |   Name: cholecalciferol      \t| Score: -2.203     |   Label: NA\n",
      " ID: DB06774      |   Name: capsaicin            \t| Score: -2.209     |   Label: NA\n",
      " ID: DB00606      |   Name: cyclothiazide        \t| Score: -2.217     |   Label: NA\n",
      " ID: DB01275      |   Name: hydralazine          \t| Score: -2.217     |   Label: NA\n",
      " ID: DB00232      |   Name: methyclothiazide     \t| Score: -2.217     |   Label: NA\n",
      " ID: DB01348      |   Name: Spirapril            \t| Score: -2.221     |   Label: NA\n",
      " ID: DB00157      |   Name: NADH                 \t| Score: -2.223     |   Label: NA\n",
      " ID: DB00934      |   Name: maprotiline          \t| Score: -2.224     |   Label: NA\n",
      " ID: DB00338      |   Name: omeprazole           \t| Score: -2.225     |   Label: NA\n",
      " ID: DB06713      |   Name: norelgestromin       \t| Score: -2.227     |   Label: NA\n",
      " ID: DB01242      |   Name: clomipramine         \t| Score: -2.231     |   Label: NA\n",
      " ID: DB00644      |   Name: gonadorelin          \t| Score: -2.235     |   Label: NA\n",
      " ID: DB06016      |   Name: cariprazine          \t| Score: -2.235     |   Label: NA\n",
      " ID: DB00418      |   Name: Secobarbital         \t| Score: -2.244     |   Label: NA\n",
      " ID: DB00935      |   Name: oxymetazoline        \t| Score: -2.251     |   Label: NA\n",
      " ID: DB00736      |   Name: esomeprazole         \t| Score: -2.253     |   Label: NA\n",
      " ID: DB01353      |   Name: Butethal             \t| Score: -2.264     |   Label: NA\n",
      " ID: DB00966      |   Name: telmisartan          \t| Score: -2.264     |   Label: NA\n",
      " ID: DB00586      |   Name: diclofenac           \t| Score: -2.266     |   Label: NA\n",
      " ID: DB07615      |   Name: tranilast            \t| Score: -2.266     |   Label: NA\n",
      " ID: DB01104      |   Name: sertraline           \t| Score: -2.274     |   Label: NA\n",
      " ID: DB00872      |   Name: conivaptan           \t| Score: -2.283     |   Label: NA\n",
      " ID: DB13689      |   Name: tacalcitol           \t| Score: -2.284     |   Label: NA\n",
      " ID: DB00631      |   Name: clofarabine          \t| Score: -2.285     |   Label: NA\n",
      " ID: DB00493      |   Name: cefotaxime           \t| Score: -2.295     |   Label: NA\n",
      " ID: DB00242      |   Name: cladribine           \t| Score: -2.303     |   Label: NA\n",
      " ID: DB00121      |   Name: Biotin               \t| Score: -2.304     |   Label: NA\n",
      " ID: DB00190      |   Name: carbidopa            \t| Score: -2.304     |   Label: NA\n",
      " ID: DB09080      |   Name: olodaterol           \t| Score: -2.306     |   Label: NA\n",
      " ID: DB00929      |   Name: misoprostol          \t| Score: -2.309     |   Label: NA\n",
      " ID: DB00186      |   Name: lorazepam            \t| Score: -2.314     |   Label: NA\n",
      " ID: DB00725      |   Name: Homatropine Methylbromide \t| Score: -2.315     |   Label: NA\n",
      " ID: DB09220      |   Name: nicorandil           \t| Score: -2.320     |   Label: NA\n",
      " ID: DB01068      |   Name: clonazepam           \t| Score: -2.321     |   Label: NA\n",
      " ID: DB06707      |   Name: levonordefrin        \t| Score: -2.323     |   Label: NA\n",
      " ID: DB00238      |   Name: nevirapine           \t| Score: -2.324     |   Label: NA\n",
      " ID: DB01243      |   Name: chloroxine           \t| Score: -2.324     |   Label: NA\n",
      " ID: DB01296      |   Name: glucosamine          \t| Score: -2.324     |   Label: NA\n",
      " ID: DB05039      |   Name: indacaterol          \t| Score: -2.325     |   Label: NA\n",
      " ID: DB01022      |   Name: phytonadione         \t| Score: -2.327     |   Label: NA\n",
      " ID: DB00936      |   Name: Salicylic acid       \t| Score: -2.328     |   Label: NA\n",
      " ID: DB00521      |   Name: carteolol            \t| Score: -2.329     |   Label: NA\n",
      " ID: DB08957      |   Name: hexoprenaline        \t| Score: -2.333     |   Label: NA\n",
      " ID: DB00977      |   Name: ethinyl-estradiol    \t| Score: -2.353     |   Label: NA\n",
      " ID: DB08864      |   Name: rilpivirine          \t| Score: -2.357     |   Label: NA\n",
      " ID: DB01067      |   Name: glipizide            \t| Score: -2.365     |   Label: NA\n",
      " ID: DB00887      |   Name: bumetanide           \t| Score: -2.375     |   Label: NA\n",
      " ID: DB00978      |   Name: lomefloxacin         \t| Score: -2.376     |   Label: NA\n",
      " ID: DB09401      |   Name: isosorbide           \t| Score: -2.378     |   Label: NA\n",
      " ID: DB00759      |   Name: tetracycline         \t| Score: -2.381     |   Label: NA\n",
      " ID: DB01001      |   Name: albuterol            \t| Score: -2.385     |   Label: NA\n",
      " ID: DB00993      |   Name: azathioprine         \t| Score: -2.387     |   Label: NA\n",
      " ID: DB00254      |   Name: doxycycline          \t| Score: -2.389     |   Label: NA\n",
      " ID: DB09039      |   Name: eliglustat           \t| Score: -2.395     |   Label: NA\n",
      " ID: DB05015      |   Name: belinostat           \t| Score: -2.400     |   Label: NA\n",
      " ID: DB00344      |   Name: protriptyline        \t| Score: -2.404     |   Label: NA\n",
      " ID: DB00655      |   Name: Estrone              \t| Score: -2.406     |   Label: NA\n",
      " ID: DB06211      |   Name: doripenem            \t| Score: -2.409     |   Label: NA\n",
      " ID: DB00114      |   Name: Pyridoxal Phosphate  \t| Score: -2.409     |   Label: NA\n",
      " ID: DB01041      |   Name: Thalidomide          \t| Score: -2.411     |   Label: NA\n",
      " ID: DB00283      |   Name: clemastine           \t| Score: -2.415     |   Label: NA\n",
      " ID: DB08912      |   Name: dabrafenib           \t| Score: -2.415     |   Label: NA\n",
      " ID: DB00007      |   Name: leuprolide           \t| Score: -2.415     |   Label: NA\n",
      " ID: DB01364      |   Name: ephedrine            \t| Score: -2.419     |   Label: NA\n",
      " ID: DB09280      |   Name: lumacaftor           \t| Score: -2.419     |   Label: NA\n",
      " ID: DB09389      |   Name: norgestrel           \t| Score: -2.425     |   Label: NA\n",
      " ID: DB00367      |   Name: levonorgestrel       \t| Score: -2.425     |   Label: NA\n",
      " ID: DB11827      |   Name: ertugliflozin        \t| Score: -2.432     |   Label: NA\n",
      " ID: DB00383      |   Name: oxyphencyclimine     \t| Score: -2.433     |   Label: NA\n",
      " ID: DB00986      |   Name: Glycopyrronium       \t| Score: -2.434     |   Label: NA\n",
      " ID: DB00777      |   Name: propiomazine         \t| Score: -2.436     |   Label: NA\n",
      " ID: DB00046      |   Name: Insulin Lispro       \t| Score: -2.438     |   Label: NA\n",
      " ID: DB11619      |   Name: gestrinone           \t| Score: -2.440     |   Label: NA\n",
      " ID: DB06217      |   Name: vernakalant          \t| Score: -2.442     |   Label: NA\n",
      " ID: DB01209      |   Name: Dezocine             \t| Score: -2.449     |   Label: NA\n",
      " ID: DB00668      |   Name: epinephrine          \t| Score: -2.449     |   Label: NA\n",
      " ID: DB09371      |   Name: noretynodrel         \t| Score: -2.450     |   Label: NA\n",
      " ID: DB13500      |   Name: otilonium            \t| Score: -2.453     |   Label: NA\n",
      " ID: DB11085      |   Name: resorcinol           \t| Score: -2.457     |   Label: NA\n",
      " ID: DB01192      |   Name: Oxymorphone          \t| Score: -2.457     |   Label: NA\n",
      " ID: DB00374      |   Name: Treprostinil         \t| Score: -2.458     |   Label: NA\n",
      " ID: DB00091      |   Name: cyclosporine         \t| Score: -2.459     |   Label: NA\n",
      " ID: DB12248      |   Name: tulobuterol          \t| Score: -2.459     |   Label: NA\n",
      " ID: DB01057      |   Name: Ecothiopate          \t| Score: -2.463     |   Label: NA\n",
      " ID: DB09225      |   Name: zotepine             \t| Score: -2.464     |   Label: NA\n",
      " ID: DB01393      |   Name: bezafibrate          \t| Score: -2.472     |   Label: NA\n",
      " ID: DB08910      |   Name: pomalidomide         \t| Score: -2.480     |   Label: NA\n",
      " ID: DB00306      |   Name: Talbutal             \t| Score: -2.480     |   Label: NA\n",
      " ID: DB00550      |   Name: propylthiouracil     \t| Score: -2.485     |   Label: NA\n",
      " ID: DB08802      |   Name: Isothipendyl         \t| Score: -2.494     |   Label: NA\n",
      " ID: DB06736      |   Name: aceclofenac          \t| Score: -2.494     |   Label: NA\n",
      " ID: DB00857      |   Name: terbinafine          \t| Score: -2.495     |   Label: NA\n",
      " ID: DB01021      |   Name: trichlormethiazide   \t| Score: -2.499     |   Label: NA\n",
      " ID: DB00864      |   Name: tacrolimus           \t| Score: -2.500     |   Label: NA\n",
      " ID: DB01113      |   Name: papaverine           \t| Score: -2.503     |   Label: NA\n",
      " ID: DB09048      |   Name: netupitant           \t| Score: -2.506     |   Label: NA\n",
      " ID: DB00957      |   Name: norgestimate         \t| Score: -2.509     |   Label: NA\n",
      " ID: DB01110      |   Name: miconazole           \t| Score: -2.512     |   Label: NA\n",
      " ID: DB13036      |   Name: ramatroban           \t| Score: -2.517     |   Label: NA\n",
      " ID: DB00221      |   Name: isoetharine          \t| Score: -2.521     |   Label: NA\n",
      " ID: DB09351      |   Name: levobetaxolol        \t| Score: -2.526     |   Label: NA\n",
      " ID: DB00300      |   Name: tenofovir disoproxil fumarate \t| Score: -2.526     |   Label: NA\n",
      " ID: DB00607      |   Name: Nafcillin            \t| Score: -2.527     |   Label: NA\n",
      " ID: DB00852      |   Name: Pseudoephedrine      \t| Score: -2.531     |   Label: NA\n",
      " ID: DB01223      |   Name: Aminophylline        \t| Score: -2.532     |   Label: NA\n",
      " ID: DB00388      |   Name: phenylephrine        \t| Score: -2.535     |   Label: NA\n",
      " ID: DB00195      |   Name: betaxolol            \t| Score: -2.548     |   Label: NA\n",
      " ID: DB00964      |   Name: apraclonidine        \t| Score: -2.551     |   Label: NA\n",
      " ID: DB00125      |   Name: L-Arginine           \t| Score: -2.558     |   Label: NA\n",
      " ID: DB01025      |   Name: amlexanox            \t| Score: -2.560     |   Label: NA\n",
      " ID: DB01060      |   Name: amoxicillin          \t| Score: -2.563     |   Label: NA\n",
      " ID: DB01071      |   Name: Mequitazine          \t| Score: -2.565     |   Label: NA\n",
      " ID: DB08985      |   Name: etilefrine           \t| Score: -2.567     |   Label: NA\n",
      " ID: DB01204      |   Name: mitoxantrone         \t| Score: -2.569     |   Label: NA\n",
      " ID: DB00648      |   Name: mitotane             \t| Score: -2.575     |   Label: NA\n",
      " ID: DB00255      |   Name: Diethylstilbestrol   \t| Score: -2.583     |   Label: NA\n",
      " ID: DB01076      |   Name: atorvastatin         \t| Score: -2.586     |   Label: NA\n",
      " ID: DB00823      |   Name: ethynodiol-diacetate \t| Score: -2.589     |   Label: NA\n",
      " ID: DB01263      |   Name: posaconazole         \t| Score: -2.592     |   Label: NA\n",
      " ID: DB08828      |   Name: vismodegib           \t| Score: -2.593     |   Label: NA\n",
      " ID: DB11699      |   Name: tropisetron          \t| Score: -2.598     |   Label: NA\n",
      " ID: DB01352      |   Name: APROBARBITAL         \t| Score: -2.600     |   Label: NA\n",
      " ID: DB00481      |   Name: raloxifene           \t| Score: -2.601     |   Label: NA\n",
      " ID: DB00896      |   Name: rimexolone           \t| Score: -2.602     |   Label: NA\n",
      " ID: DB00844      |   Name: nalbuphine           \t| Score: -2.603     |   Label: NA\n",
      " ID: DB08890      |   Name: linaclotide          \t| Score: -2.604     |   Label: NA\n",
      " ID: DB01235      |   Name: levodopa             \t| Score: -2.605     |   Label: NA\n",
      " ID: DB09026      |   Name: aliskiren-hemifumarate \t| Score: -2.607     |   Label: NA\n",
      " ID: DB00869      |   Name: dorzolamide          \t| Score: -2.612     |   Label: NA\n",
      " ID: DB01250      |   Name: olsalazine           \t| Score: -2.613     |   Label: NA\n",
      " ID: DB09016      |   Name: Butriptyline         \t| Score: -2.620     |   Label: NA\n",
      " ID: DB01222      |   Name: budesonide           \t| Score: -2.621     |   Label: NA\n",
      " ID: DB00241      |   Name: butalbital           \t| Score: -2.627     |   Label: NA\n",
      " ID: DB01064      |   Name: isoprenaline         \t| Score: -2.627     |   Label: NA\n",
      " ID: DB00790      |   Name: perindopril          \t| Score: -2.627     |   Label: NA\n",
      " ID: DB08907      |   Name: canagliflozin        \t| Score: -2.629     |   Label: NA\n",
      " ID: DB08893      |   Name: mirabegron           \t| Score: -2.636     |   Label: NA\n",
      " ID: DB06243      |   Name: eflornithine         \t| Score: -2.638     |   Label: NA\n",
      " ID: DB06626      |   Name: axitinib             \t| Score: -2.643     |   Label: NA\n",
      " ID: DB06716      |   Name: Fospropofol          \t| Score: -2.644     |   Label: NA\n",
      " ID: DB00798      |   Name: Gentamicins          \t| Score: -2.652     |   Label: NA\n",
      " ID: DB00968      |   Name: methyldopa           \t| Score: -2.653     |   Label: NA\n",
      " ID: DB00717      |   Name: norethindrone        \t| Score: -2.656     |   Label: NA\n",
      " ID: DB09064      |   Name: ciprofibrate         \t| Score: -2.656     |   Label: NA\n",
      " ID: DB09070      |   Name: tibolone             \t| Score: -2.661     |   Label: NA\n",
      " ID: DB06204      |   Name: tapentadol           \t| Score: -2.664     |   Label: NA\n",
      " ID: DB01274      |   Name: Arformoterol         \t| Score: -2.665     |   Label: NA\n",
      " ID: DB08961      |   Name: azosemide            \t| Score: -2.668     |   Label: NA\n",
      " ID: DB00738      |   Name: pentamidine          \t| Score: -2.668     |   Label: NA\n",
      " ID: DB00445      |   Name: epirubicin           \t| Score: -2.671     |   Label: NA\n",
      " ID: DB14006      |   Name: choline salicylate   \t| Score: -2.673     |   Label: NA\n",
      " ID: DB00366      |   Name: doxylamine           \t| Score: -2.674     |   Label: NA\n",
      " ID: DB01015      |   Name: sulfamethoxazole     \t| Score: -2.676     |   Label: NA\n",
      " ID: DB00960      |   Name: pindolol             \t| Score: -2.676     |   Label: NA\n",
      " ID: DB00997      |   Name: doxorubicin          \t| Score: -2.678     |   Label: NA\n",
      " ID: DB01143      |   Name: amifostine           \t| Score: -2.680     |   Label: NA\n",
      " ID: DB00378      |   Name: dydrogesterone       \t| Score: -2.684     |   Label: NA\n",
      " ID: DB00641      |   Name: simvastatin          \t| Score: -2.686     |   Label: NA\n",
      " ID: DB09279      |   Name: fimasartan           \t| Score: -2.688     |   Label: NA\n",
      " ID: DB01069      |   Name: promethazine         \t| Score: -2.697     |   Label: NA\n",
      " ID: DB08881      |   Name: vemurafenib          \t| Score: -2.697     |   Label: NA\n",
      " ID: DB00300      |   Name: tenofovir-disoproxil \t| Score: -2.699     |   Label: NA\n",
      " ID: DB00683      |   Name: Midazolam            \t| Score: -2.701     |   Label: NA\n",
      " ID: DB01591      |   Name: solifenacin-succinate \t| Score: -2.701     |   Label: NA\n",
      " ID: DB00783      |   Name: estradiol            \t| Score: -2.702     |   Label: NA\n",
      " ID: DB00584      |   Name: enalapril            \t| Score: -2.705     |   Label: NA\n",
      " ID: DB06480      |   Name: prucalopride         \t| Score: -2.708     |   Label: NA\n",
      " ID: DB09185      |   Name: viloxazine           \t| Score: -2.709     |   Label: NA\n",
      " ID: DB00163      |   Name: Vitamin E            \t| Score: -2.709     |   Label: NA\n",
      " ID: DB12554      |   Name: mebeverine           \t| Score: -2.714     |   Label: NA\n",
      " ID: DB11324      |   Name: nonivamide           \t| Score: -2.715     |   Label: NA\n",
      " ID: DB00571      |   Name: propranolol          \t| Score: -2.715     |   Label: NA\n",
      " ID: DB00554      |   Name: piroxicam            \t| Score: -2.720     |   Label: NA\n",
      " ID: DB01406      |   Name: danazol              \t| Score: -2.724     |   Label: NA\n",
      " ID: DB00678      |   Name: losartan             \t| Score: -2.724     |   Label: NA\n",
      " ID: DB06594      |   Name: agomelatine          \t| Score: -2.726     |   Label: NA\n",
      " ID: DB01078      |   Name: deslanoside          \t| Score: -2.727     |   Label: NA\n",
      " ID: DB04575      |   Name: quinestrol           \t| Score: -2.732     |   Label: NA\n",
      " ID: DB08896      |   Name: regorafenib          \t| Score: -2.735     |   Label: NA\n",
      " ID: DB12417      |   Name: anagliptin           \t| Score: -2.737     |   Label: NA\n",
      " ID: DB00765      |   Name: metirosine           \t| Score: -2.740     |   Label: NA\n",
      " ID: DB06267      |   Name: Udenafil             \t| Score: -2.742     |   Label: NA\n",
      " ID: DB06663      |   Name: pasireotide          \t| Score: -2.742     |   Label: NA\n",
      " ID: DB12783      |   Name: benserazide          \t| Score: -2.742     |   Label: NA\n",
      " ID: DB08836      |   Name: temocapril           \t| Score: -2.745     |   Label: NA\n",
      " ID: DB01247      |   Name: isocarboxazid        \t| Score: -2.746     |   Label: NA\n",
      " ID: DB00040      |   Name: Glucagon recombinant \t| Score: -2.750     |   Label: NA\n",
      " ID: DB00953      |   Name: rizatriptan          \t| Score: -2.752     |   Label: NA\n",
      " ID: DB00141      |   Name: N-Acetyl-D-glucosamine \t| Score: -2.761     |   Label: NA\n",
      " ID: DB00337      |   Name: pimecrolimus         \t| Score: -2.761     |   Label: NA\n",
      " ID: DB03904      |   Name: urea                 \t| Score: -2.762     |   Label: NA\n",
      " ID: DB01011      |   Name: metyrapone           \t| Score: -2.762     |   Label: NA\n",
      " ID: DB00635      |   Name: prednisone           \t| Score: -2.763     |   Label: NA\n",
      " ID: DB09078      |   Name: lenvatinib           \t| Score: -2.764     |   Label: NA\n",
      " ID: DB01122      |   Name: ambenonium           \t| Score: -2.766     |   Label: NA\n",
      " ID: DB01182      |   Name: propafenone          \t| Score: -2.768     |   Label: NA\n",
      " ID: DB06155      |   Name: Rimonabant           \t| Score: -2.772     |   Label: NA\n",
      " ID: DB12095      |   Name: telotristat ethyl    \t| Score: -2.776     |   Label: NA\n",
      " ID: DB12278      |   Name: propiverine          \t| Score: -2.777     |   Label: NA\n",
      " ID: DB00307      |   Name: bexarotene           \t| Score: -2.778     |   Label: NA\n",
      " ID: DB09244      |   Name: pirlindole           \t| Score: -2.779     |   Label: NA\n",
      " ID: DB01240      |   Name: epoprostenol         \t| Score: -2.794     |   Label: NA\n",
      " ID: DB00984      |   Name: Nandrolone phenpropionate \t| Score: -2.798     |   Label: NA\n",
      " ID: DB04854      |   Name: febuxostat           \t| Score: -2.801     |   Label: NA\n",
      " ID: DB00932      |   Name: tipranavir           \t| Score: -2.801     |   Label: NA\n",
      " ID: DB00449      |   Name: dipivefrine          \t| Score: -2.802     |   Label: NA\n",
      " ID: DB00309      |   Name: vindesine            \t| Score: -2.802     |   Label: NA\n",
      " ID: DB00293      |   Name: raltitrexed          \t| Score: -2.812     |   Label: NA\n",
      " ID: DB01090      |   Name: pentolinium          \t| Score: -2.813     |   Label: NA\n",
      " ID: DB01177      |   Name: idarubicin           \t| Score: -2.814     |   Label: NA\n",
      " ID: DB01366      |   Name: procaterol           \t| Score: -2.820     |   Label: NA\n",
      " ID: DB01483      |   Name: barbital             \t| Score: -2.828     |   Label: NA\n",
      " ID: DB00990      |   Name: exemestane           \t| Score: -2.841     |   Label: NA\n",
      " ID: DB00747      |   Name: scopolamine          \t| Score: -2.842     |   Label: NA\n",
      " ID: DB08807      |   Name: bopindolol           \t| Score: -2.847     |   Label: NA\n",
      " ID: DB00673      |   Name: aprepitant           \t| Score: -2.848     |   Label: NA\n",
      " ID: DB06203      |   Name: alogliptin           \t| Score: -2.849     |   Label: NA\n",
      " ID: DB09271      |   Name: cimetropium          \t| Score: -2.852     |   Label: NA\n",
      " ID: DB09213      |   Name: Dexibuprofen         \t| Score: -2.854     |   Label: NA\n",
      " ID: DB00501      |   Name: cimetidine           \t| Score: -2.857     |   Label: NA\n",
      " ID: DB13943      |   Name: testosterone cypionate \t| Score: -2.857     |   Label: NA\n",
      " ID: DB00178      |   Name: ramipril             \t| Score: -2.860     |   Label: NA\n",
      " ID: DB00497      |   Name: Oxycodone            \t| Score: -2.860     |   Label: NA\n",
      " ID: DB09074      |   Name: olaparib             \t| Score: -2.870     |   Label: NA\n",
      " ID: DB11824      |   Name: tofogliflozin        \t| Score: -2.873     |   Label: NA\n",
      " ID: DB00983      |   Name: formoterol           \t| Score: -2.884     |   Label: NA\n",
      " ID: DB00181      |   Name: baclofen             \t| Score: -2.886     |   Label: NA\n",
      " ID: DB00152      |   Name: thiamine             \t| Score: -2.887     |   Label: NA\n",
      " ID: DB01357      |   Name: mestranol            \t| Score: -2.890     |   Label: NA\n",
      " ID: DB00841      |   Name: dobutamine           \t| Score: -2.890     |   Label: NA\n",
      " ID: DB08984      |   Name: etofenamate          \t| Score: -2.903     |   Label: NA\n",
      " ID: DB00444      |   Name: teniposide           \t| Score: -2.904     |   Label: NA\n",
      " ID: DB00321      |   Name: amitriptyline        \t| Score: -2.904     |   Label: NA\n",
      " ID: DB00519      |   Name: trandolapril         \t| Score: -2.905     |   Label: NA\n",
      " ID: DB00494      |   Name: entacapone           \t| Score: -2.911     |   Label: NA\n",
      " ID: DB00746      |   Name: deferoxamine-mesylate \t| Score: -2.914     |   Label: NA\n",
      " ID: DB00905      |   Name: bimatoprost          \t| Score: -2.915     |   Label: NA\n",
      " ID: DB01050      |   Name: ibuprofen            \t| Score: -2.917     |   Label: NA\n",
      " ID: DB01010      |   Name: edrophonium          \t| Score: -2.920     |   Label: NA\n",
      " ID: DB06228      |   Name: rivaroxaban          \t| Score: -2.924     |   Label: NA\n",
      " ID: DB00227      |   Name: lovastatin           \t| Score: -2.930     |   Label: NA\n",
      " ID: DB00885      |   Name: pemirolast           \t| Score: -2.935     |   Label: NA\n",
      " ID: DB00546      |   Name: Adinazolam           \t| Score: -2.936     |   Label: NA\n",
      " ID: DB00213      |   Name: pantoprazole         \t| Score: -2.938     |   Label: NA\n",
      " ID: DB06764      |   Name: tetrahydrozoline     \t| Score: -2.941     |   Label: NA\n",
      " ID: DB00654      |   Name: latanoprost          \t| Score: -2.942     |   Label: NA\n",
      " ID: DB00575      |   Name: clonidine            \t| Score: -2.945     |   Label: NA\n",
      " ID: DB06699      |   Name: degarelix            \t| Score: -2.947     |   Label: NA\n",
      " ID: DB00480      |   Name: lenalidomide         \t| Score: -2.949     |   Label: NA\n",
      " ID: DB01399      |   Name: sasapyrine           \t| Score: -2.949     |   Label: NA\n",
      " ID: DB00770      |   Name: alprostadil          \t| Score: -2.950     |   Label: NA\n",
      " ID: DB12867      |   Name: benperidol           \t| Score: -2.953     |   Label: NA\n",
      " ID: DB00179      |   Name: masoprocol           \t| Score: -2.953     |   Label: NA\n",
      " ID: DB01408      |   Name: bambuterol           \t| Score: -2.960     |   Label: NA\n",
      " ID: DB00398      |   Name: sorafenib            \t| Score: -2.962     |   Label: NA\n",
      " ID: DB00822      |   Name: disulfiram           \t| Score: -2.964     |   Label: NA\n",
      " ID: DB00318      |   Name: Codeine              \t| Score: -2.964     |   Label: NA\n",
      " ID: DB00297      |   Name: bupivacaine          \t| Score: -2.964     |   Label: NA\n",
      " ID: DB08810      |   Name: Cinitapride          \t| Score: -2.970     |   Label: NA\n",
      " ID: DB01184      |   Name: domperidone          \t| Score: -2.983     |   Label: NA\n",
      " ID: DB00530      |   Name: erlotinib            \t| Score: -2.985     |   Label: NA\n",
      " ID: DB04942      |   Name: tamibarotene         \t| Score: -2.986     |   Label: NA\n",
      " ID: DB00562      |   Name: benzthiazide         \t| Score: -2.990     |   Label: NA\n",
      " ID: DB01188      |   Name: ciclopirox           \t| Score: -2.991     |   Label: NA\n",
      " ID: DB00310      |   Name: chlorthalidone       \t| Score: -2.992     |   Label: NA\n",
      " ID: DB00768      |   Name: olopatadine          \t| Score: -2.994     |   Label: NA\n",
      " ID: DB06201      |   Name: rufinamide           \t| Score: -2.999     |   Label: NA\n",
      " ID: DB09516      |   Name: mequinol             \t| Score: -3.013     |   Label: NA\n",
      " ID: DB09343      |   Name: tipiracil            \t| Score: -3.026     |   Label: NA\n",
      " ID: DB06272      |   Name: maxacalcitol         \t| Score: -3.028     |   Label: NA\n",
      " ID: DB00685      |   Name: trovafloxacin        \t| Score: -3.032     |   Label: NA\n",
      " ID: DB01120      |   Name: gliclazide           \t| Score: -3.037     |   Label: NA\n",
      " ID: DB11748      |   Name: benfotiamine         \t| Score: -3.041     |   Label: NA\n",
      " ID: DB06401      |   Name: bazedoxifene         \t| Score: -3.043     |   Label: NA\n",
      " ID: DB01165      |   Name: ofloxacin            \t| Score: -3.046     |   Label: NA\n",
      " ID: DB01003      |   Name: cromoglicic-acid     \t| Score: -3.047     |   Label: NA\n",
      " ID: DB00396      |   Name: progesterone         \t| Score: -3.049     |   Label: NA\n",
      " ID: DB01137      |   Name: levofloxacin         \t| Score: -3.049     |   Label: NA\n",
      " ID: DB00744      |   Name: zileuton             \t| Score: -3.050     |   Label: NA\n",
      " ID: DB01241      |   Name: gemfibrozil          \t| Score: -3.050     |   Label: NA\n",
      " ID: DB08899      |   Name: enzalutamide         \t| Score: -3.051     |   Label: NA\n",
      " ID: DB00222      |   Name: glimepiride          \t| Score: -3.054     |   Label: NA\n",
      " ID: DB01124      |   Name: tolbutamide          \t| Score: -3.063     |   Label: NA\n",
      " ID: DB00593      |   Name: ethosuximide         \t| Score: -3.063     |   Label: NA\n",
      " ID: DB13165      |   Name: ripasudil            \t| Score: -3.064     |   Label: NA\n",
      " ID: DB01092      |   Name: ouabain              \t| Score: -3.069     |   Label: NA\n",
      " ID: DB00361      |   Name: vinorelbine          \t| Score: -3.069     |   Label: NA\n",
      " ID: DB01216      |   Name: finasteride          \t| Score: -3.070     |   Label: NA\n",
      " ID: DB01609      |   Name: deferasirox          \t| Score: -3.072     |   Label: NA\n",
      " ID: DB00350      |   Name: minoxidil            \t| Score: -3.072     |   Label: NA\n",
      " ID: DB01024      |   Name: mycophenolic-acid    \t| Score: -3.074     |   Label: NA\n",
      " ID: DB00860      |   Name: prednisolone         \t| Score: -3.078     |   Label: NA\n",
      " ID: DB00873      |   Name: loteprednol          \t| Score: -3.078     |   Label: NA\n",
      " ID: DB00304      |   Name: desogestrel          \t| Score: -3.080     |   Label: NA\n",
      " ID: DB00503      |   Name: Ritonavir            \t| Score: -3.081     |   Label: NA\n",
      " ID: DB00503      |   Name: ritonavir            \t| Score: -3.081     |   Label: NA\n",
      " ID: DB00787      |   Name: acyclovir            \t| Score: -3.082     |   Label: NA\n",
      " ID: DB01401      |   Name: Trisalicylate-choline \t| Score: -3.082     |   Label: NA\n",
      " ID: DB00619      |   Name: imatinib             \t| Score: -3.082     |   Label: NA\n",
      " ID: DB05541      |   Name: brivaracetam         \t| Score: -3.083     |   Label: NA\n",
      " ID: DB00866      |   Name: alprenolol           \t| Score: -3.086     |   Label: NA\n",
      " ID: DB04880      |   Name: enoximone            \t| Score: -3.086     |   Label: NA\n",
      " ID: DB01014      |   Name: balsalazide          \t| Score: -3.089     |   Label: NA\n",
      " ID: DB00640      |   Name: adenosine            \t| Score: -3.092     |   Label: NA\n",
      " ID: DB01392      |   Name: yohimbine            \t| Score: -3.095     |   Label: NA\n",
      " ID: DB01597      |   Name: Cilastatin           \t| Score: -3.096     |   Label: NA\n",
      " ID: DB01174      |   Name: Phenobarbital        \t| Score: -3.096     |   Label: NA\n",
      " ID: DB02709      |   Name: resveratrol          \t| Score: -3.100     |   Label: NA\n",
      " ID: DB00373      |   Name: timolol              \t| Score: -3.100     |   Label: NA\n",
      " ID: DB01029      |   Name: irbesartan           \t| Score: -3.102     |   Label: NA\n",
      " ID: DB00175      |   Name: pravastatin          \t| Score: -3.103     |   Label: NA\n",
      " ID: DB00818      |   Name: propofol             \t| Score: -3.106     |   Label: NA\n",
      " ID: DB00339      |   Name: pyrazinamide         \t| Score: -3.111     |   Label: NA\n",
      " ID: DB04465      |   Name: Lactose              \t| Score: -3.112     |   Label: NA\n",
      " ID: DB00897      |   Name: Triazolam            \t| Score: -3.114     |   Label: NA\n",
      " ID: DB09054      |   Name: idelalisib           \t| Score: -3.116     |   Label: NA\n",
      " ID: DB00706      |   Name: tamsulosin           \t| Score: -3.118     |   Label: NA\n",
      " ID: DB00952      |   Name: naratriptan          \t| Score: -3.120     |   Label: NA\n",
      " ID: DB00302      |   Name: Tranexamic Acid      \t| Score: -3.124     |   Label: NA\n",
      " ID: DB00544      |   Name: 5-fluorouracil       \t| Score: -3.128     |   Label: NA\n",
      " ID: DB01073      |   Name: fludarabine          \t| Score: -3.130     |   Label: NA\n",
      " ID: DB11629      |   Name: laropiprant          \t| Score: -3.135     |   Label: NA\n",
      " ID: DB00159      |   Name: icosapent            \t| Score: -3.136     |   Label: NA\n",
      " ID: DB01611      |   Name: Hydroxychloroquine   \t| Score: -3.139     |   Label: NA\n",
      " ID: DB01426      |   Name: ajmaline             \t| Score: -3.145     |   Label: NA\n",
      " ID: DB06285      |   Name: Teriparatide         \t| Score: -3.146     |   Label: NA\n",
      " ID: DB01580      |   Name: oxprenolol           \t| Score: -3.147     |   Label: NA\n",
      " ID: DB00620      |   Name: triamcinolone        \t| Score: -3.153     |   Label: NA\n",
      " ID: DB00694      |   Name: daunorubicin         \t| Score: -3.156     |   Label: NA\n",
      " ID: DB09049      |   Name: naloxegol            \t| Score: -3.157     |   Label: NA\n",
      " ID: DB00849      |   Name: Methylphenobarbital  \t| Score: -3.159     |   Label: NA\n",
      " ID: DB11363      |   Name: alectinib            \t| Score: -3.160     |   Label: NA\n",
      " ID: DB00424      |   Name: hyoscyamine          \t| Score: -3.164     |   Label: NA\n",
      " ID: DB00289      |   Name: atomoxetine          \t| Score: -3.167     |   Label: NA\n",
      " ID: DB00482      |   Name: celecoxib            \t| Score: -3.167     |   Label: NA\n",
      " ID: DB00839      |   Name: tolazamide           \t| Score: -3.168     |   Label: NA\n",
      " ID: DB00131      |   Name: Adenosine monophosphate \t| Score: -3.173     |   Label: NA\n",
      " ID: DB00902      |   Name: Methdilazine         \t| Score: -3.176     |   Label: NA\n",
      " ID: DB00574      |   Name: Fenfluramine         \t| Score: -3.179     |   Label: NA\n",
      " ID: DB00858      |   Name: Drostanolone         \t| Score: -3.179     |   Label: NA\n",
      " ID: DB09217      |   Name: firocoxib            \t| Score: -3.181     |   Label: NA\n",
      " ID: DB01407      |   Name: clenbuterol          \t| Score: -3.186     |   Label: NA\n",
      " ID: DB00854      |   Name: Levorphanol          \t| Score: -3.186     |   Label: NA\n",
      " ID: DB04216      |   Name: quercetin            \t| Score: -3.187     |   Label: NA\n",
      " ID: DB00035      |   Name: Desmopressin         \t| Score: -3.187     |   Label: NA\n",
      " ID: DB00332      |   Name: ipratropium          \t| Score: -3.194     |   Label: NA\n",
      " ID: DB01031      |   Name: ethinamate           \t| Score: -3.195     |   Label: NA\n",
      " ID: DB00268      |   Name: ropinirole           \t| Score: -3.196     |   Label: NA\n",
      " ID: DB00665      |   Name: nilutamide           \t| Score: -3.198     |   Label: NA\n",
      " ID: DB06725      |   Name: lornoxicam           \t| Score: -3.201     |   Label: NA\n",
      " ID: DB00917      |   Name: Dinoprostone         \t| Score: -3.207     |   Label: NA\n",
      " ID: DB01276      |   Name: exenatide            \t| Score: -3.207     |   Label: NA\n",
      " ID: DB09118      |   Name: stiripentol          \t| Score: -3.210     |   Label: NA\n",
      " ID: DB08799      |   Name: antazoline           \t| Score: -3.211     |   Label: NA\n",
      " ID: DB00643      |   Name: mebendazole          \t| Score: -3.215     |   Label: NA\n",
      " ID: DB00669      |   Name: sumatriptan          \t| Score: -3.215     |   Label: NA\n",
      " ID: DB09283      |   Name: trapidil             \t| Score: -3.215     |   Label: NA\n",
      " ID: DB06202      |   Name: lasofoxifene         \t| Score: -3.216     |   Label: NA\n",
      " ID: DB00572      |   Name: atropine             \t| Score: -3.223     |   Label: NA\n",
      " ID: DB06210      |   Name: eltrombopag          \t| Score: -3.227     |   Label: NA\n",
      " ID: DB01238      |   Name: aripiprazole         \t| Score: -3.230     |   Label: NA\n",
      " ID: DB00542      |   Name: benazepril           \t| Score: -3.230     |   Label: NA\n",
      " ID: DB01191      |   Name: Dexfenfluramine      \t| Score: -3.233     |   Label: NA\n",
      " ID: DB01280      |   Name: nelarabine           \t| Score: -3.233     |   Label: NA\n",
      " ID: DB01036      |   Name: tolterodine          \t| Score: -3.234     |   Label: NA\n",
      " ID: DB04871      |   Name: lorcaserin           \t| Score: -3.236     |   Label: NA\n",
      " ID: DB00871      |   Name: terbutaline          \t| Score: -3.240     |   Label: NA\n",
      " ID: DB00316      |   Name: paracetamol          \t| Score: -3.240     |   Label: NA\n",
      " ID: DB09282      |   Name: molsidomine          \t| Score: -3.240     |   Label: NA\n",
      " ID: DB09273      |   Name: doxofylline          \t| Score: -3.246     |   Label: NA\n",
      " ID: DB01616      |   Name: alverine             \t| Score: -3.247     |   Label: NA\n",
      " ID: DB01089      |   Name: deserpidine          \t| Score: -3.255     |   Label: NA\n",
      " ID: DB01295      |   Name: bevantolol           \t| Score: -3.256     |   Label: NA\n",
      " ID: DB00757      |   Name: dolasetron           \t| Score: -3.257     |   Label: NA\n",
      " ID: DB00704      |   Name: naltrexone           \t| Score: -3.258     |   Label: NA\n",
      " ID: DB00723      |   Name: methoxamine          \t| Score: -3.261     |   Label: NA\n",
      " ID: DB04835      |   Name: maraviroc            \t| Score: -3.262     |   Label: NA\n",
      " ID: DB09166      |   Name: etizolam             \t| Score: -3.262     |   Label: NA\n",
      " ID: DB08911      |   Name: trametinib           \t| Score: -3.267     |   Label: NA\n",
      " ID: DB00541      |   Name: vincristine          \t| Score: -3.273     |   Label: NA\n",
      " ID: DB04924      |   Name: itopride             \t| Score: -3.276     |   Label: NA\n",
      " ID: DB01588      |   Name: Prazepam             \t| Score: -3.278     |   Label: NA\n",
      " ID: DB08897      |   Name: aclidinium           \t| Score: -3.288     |   Label: NA\n",
      " ID: DB01183      |   Name: naloxone             \t| Score: -3.289     |   Label: NA\n",
      " ID: DB01623      |   Name: thiothixene          \t| Score: -3.289     |   Label: NA\n",
      " ID: DB00570      |   Name: vinblastine          \t| Score: -3.291     |   Label: NA\n",
      " ID: DB00335      |   Name: atenolol-(+/-)       \t| Score: -3.293     |   Label: NA\n",
      " ID: DB09038      |   Name: empagliflozin        \t| Score: -3.297     |   Label: NA\n",
      " ID: DB00540      |   Name: nortriptyline        \t| Score: -3.297     |   Label: NA\n",
      " ID: DB01200      |   Name: bromocriptine        \t| Score: -3.303     |   Label: NA\n",
      " ID: DB09065      |   Name: cobicistat           \t| Score: -3.303     |   Label: NA\n",
      " ID: DB00452      |   Name: Framycetin           \t| Score: -3.303     |   Label: NA\n",
      " ID: DB00994      |   Name: Neomycin             \t| Score: -3.303     |   Label: NA\n",
      " ID: DB09215      |   Name: droxicam             \t| Score: -3.309     |   Label: NA\n",
      " ID: DB09265      |   Name: Lixisenatide         \t| Score: -3.315     |   Label: NA\n",
      " ID: DB08955      |   Name: ibuproxam            \t| Score: -3.316     |   Label: NA\n",
      " ID: DB01099      |   Name: flucytosine          \t| Score: -3.317     |   Label: NA\n",
      " ID: DB00830      |   Name: Phenmetrazine        \t| Score: -3.317     |   Label: NA\n",
      " ID: DB11071      |   Name: phenyl-salicylate    \t| Score: -3.317     |   Label: NA\n",
      " ID: DB05521      |   Name: telaprevir           \t| Score: -3.318     |   Label: NA\n",
      " ID: DB01601      |   Name: lopinavir            \t| Score: -3.318     |   Label: NA\n",
      " ID: DB08820      |   Name: ivacaftor            \t| Score: -3.319     |   Label: NA\n",
      " ID: DB01082      |   Name: streptomycin         \t| Score: -3.319     |   Label: NA\n",
      " ID: DB00150      |   Name: tryptophan           \t| Score: -3.319     |   Label: NA\n",
      " ID: DB00446      |   Name: chloramphenicol      \t| Score: -3.320     |   Label: NA\n",
      " ID: DB09212      |   Name: loxoprofen           \t| Score: -3.324     |   Label: NA\n",
      " ID: DB01214      |   Name: Metipranolol         \t| Score: -3.326     |   Label: NA\n",
      " ID: DB00415      |   Name: ampicillin           \t| Score: -3.328     |   Label: NA\n",
      " ID: DB05630      |   Name: Sodium stibogluconate \t| Score: -3.329     |   Label: NA\n",
      " ID: DB01380      |   Name: cortisone-acetate    \t| Score: -3.332     |   Label: NA\n",
      " ID: DB00589      |   Name: lisuride             \t| Score: -3.342     |   Label: NA\n",
      " ID: DB01020      |   Name: isosorbide-mononitrate \t| Score: -3.347     |   Label: NA\n",
      " ID: DB06817      |   Name: raltegravir          \t| Score: -3.347     |   Label: NA\n",
      " ID: DB01410      |   Name: ciclesonide          \t| Score: -3.352     |   Label: NA\n",
      " ID: DB15673      |   Name: lenacapavir          \t| Score: -3.353     |   Label: NA\n",
      " ID: DB00853      |   Name: temozolomide         \t| Score: -3.354     |   Label: NA\n",
      " ID: DB11591      |   Name: bilastine            \t| Score: -3.355     |   Label: NA\n",
      " ID: DB08822      |   Name: Azilsartan medoxomil \t| Score: -3.358     |   Label: NA\n",
      " ID: DB01151      |   Name: desipramine          \t| Score: -3.359     |   Label: NA\n",
      " ID: DB00794      |   Name: primidone            \t| Score: -3.359     |   Label: NA\n",
      " ID: DB06777      |   Name: chenodeoxycholic-acid \t| Score: -3.365     |   Label: NA\n",
      " ID: DB00608      |   Name: chloroquine          \t| Score: -3.370     |   Label: NA\n",
      " ID: DB01106      |   Name: levocabastine        \t| Score: -3.372     |   Label: NA\n",
      " ID: DB01065      |   Name: melatonin            \t| Score: -3.374     |   Label: NA\n",
      " ID: DB00951      |   Name: Isoniazid            \t| Score: -3.375     |   Label: NA\n",
      " ID: DB00775      |   Name: tirofiban            \t| Score: -3.377     |   Label: NA\n",
      " ID: DB08860      |   Name: pitavastatin         \t| Score: -3.379     |   Label: NA\n",
      " ID: DB02300      |   Name: calcipotriol         \t| Score: -3.389     |   Label: NA\n",
      " ID: DB11635      |   Name: tocofersolan         \t| Score: -3.393     |   Label: NA\n",
      " ID: DB01452      |   Name: Heroin               \t| Score: -3.394     |   Label: NA\n",
      " ID: DB01420      |   Name: Testosterone Propionate \t| Score: -3.406     |   Label: NA\n",
      " ID: DB08867      |   Name: ulipristal           \t| Score: -3.407     |   Label: NA\n",
      " ID: DB00814      |   Name: meloxicam            \t| Score: -3.410     |   Label: NA\n",
      " ID: DB09205      |   Name: Moxisylyte           \t| Score: -3.410     |   Label: NA\n",
      " ID: DB00949      |   Name: felbamate            \t| Score: -3.411     |   Label: NA\n",
      " ID: DB09477      |   Name: enalaprilat          \t| Score: -3.417     |   Label: NA\n",
      " ID: DB01621      |   Name: Pipotiazine          \t| Score: -3.417     |   Label: NA\n",
      " ID: DB08931      |   Name: riociguat            \t| Score: -3.418     |   Label: NA\n",
      " ID: DB06819      |   Name: phenylbutyrate       \t| Score: -3.418     |   Label: NA\n",
      " ID: DB00433      |   Name: prochlorperazine     \t| Score: -3.421     |   Label: NA\n",
      " ID: DB01166      |   Name: cilostazol           \t| Score: -3.423     |   Label: NA\n",
      " ID: DB01586      |   Name: ursodiol             \t| Score: -3.423     |   Label: NA\n",
      " ID: DB00696      |   Name: ergotamine           \t| Score: -3.424     |   Label: NA\n",
      " ID: DB01708      |   Name: Dehydroepiandrosterone \t| Score: -3.426     |   Label: NA\n",
      " ID: DB00672      |   Name: chlorpropamide       \t| Score: -3.431     |   Label: NA\n",
      " ID: DB00707      |   Name: PORFIMER SODIUM      \t| Score: -3.433     |   Label: NA\n",
      " ID: DB00417      |   Name: penicillin-v-potassium \t| Score: -3.433     |   Label: NA\n",
      " ID: DB01431      |   Name: allylestrenol        \t| Score: -3.435     |   Label: NA\n",
      " ID: DB01409      |   Name: tiotropium           \t| Score: -3.440     |   Label: NA\n",
      " ID: DB00377      |   Name: palonosetron         \t| Score: -3.440     |   Label: NA\n",
      " ID: DB05265      |   Name: ecabet               \t| Score: -3.445     |   Label: NA\n",
      " ID: DB00463      |   Name: metharbital          \t| Score: -3.445     |   Label: NA\n",
      " ID: DB00629      |   Name: Guanabenz            \t| Score: -3.446     |   Label: NA\n",
      " ID: DB00908      |   Name: quinidine            \t| Score: -3.446     |   Label: NA\n",
      " ID: DB06803      |   Name: Niclosamide          \t| Score: -3.446     |   Label: NA\n",
      " ID: DB01595      |   Name: Nitrazepam           \t| Score: -3.446     |   Label: NA\n",
      " ID: DB00471      |   Name: montelukast          \t| Score: -3.448     |   Label: NA\n",
      " ID: DB00645      |   Name: dyclonine            \t| Score: -3.451     |   Label: NA\n",
      " ID: DB01086      |   Name: Benzocaine           \t| Score: -3.452     |   Label: NA\n",
      " ID: DB09204      |   Name: arotinolol           \t| Score: -3.453     |   Label: NA\n",
      " ID: DB09067      |   Name: corticorelin ovine triflutate \t| Score: -3.457     |   Label: NA\n",
      " ID: DB13873      |   Name: fenofibric-acid      \t| Score: -3.459     |   Label: NA\n",
      " ID: DB01012      |   Name: cinacalcet           \t| Score: -3.465     |   Label: NA\n",
      " ID: DB06739      |   Name: seratrodast          \t| Score: -3.465     |   Label: NA\n",
      " ID: DB00343      |   Name: diltiazem            \t| Score: -3.466     |   Label: NA\n",
      " ID: DB00320      |   Name: dihydroergotamine    \t| Score: -3.467     |   Label: NA\n",
      " ID: DB01053      |   Name: benzylpenicillin     \t| Score: -3.469     |   Label: NA\n",
      " ID: DB00211      |   Name: midodrine            \t| Score: -3.469     |   Label: NA\n",
      " ID: DB02546      |   Name: vorinostat           \t| Score: -3.469     |   Label: NA\n",
      " ID: DB00981      |   Name: physostigmine        \t| Score: -3.470     |   Label: NA\n",
      " ID: DB11757      |   Name: istradefylline       \t| Score: -3.471     |   Label: NA\n",
      " ID: DB00600      |   Name: monobenzone          \t| Score: -3.473     |   Label: NA\n",
      " ID: DB00612      |   Name: bisoprolol           \t| Score: -3.475     |   Label: NA\n",
      " ID: DB01203      |   Name: nadolol              \t| Score: -3.476     |   Label: NA\n",
      " ID: DB00662      |   Name: trimethobenzamide    \t| Score: -3.482     |   Label: NA\n",
      " ID: DB00861      |   Name: diflunisal           \t| Score: -3.490     |   Label: NA\n",
      " ID: DB00187      |   Name: esmolol              \t| Score: -3.491     |   Label: NA\n",
      " ID: DB01283      |   Name: Lumiracoxib          \t| Score: -3.494     |   Label: NA\n",
      " ID: DB00234      |   Name: reboxetine           \t| Score: -3.504     |   Label: NA\n",
      " ID: DB12523      |   Name: mizolastine          \t| Score: -3.505     |   Label: NA\n",
      " ID: DB12483      |   Name: copanlisib           \t| Score: -3.512     |   Label: NA\n",
      " ID: DB01234      |   Name: dexamethasone        \t| Score: -3.517     |   Label: NA\n",
      " ID: DB01589      |   Name: quazepam             \t| Score: -3.517     |   Label: NA\n",
      " ID: DB08873      |   Name: boceprevir           \t| Score: -3.521     |   Label: NA\n",
      " ID: DB00414      |   Name: acetohexamide        \t| Score: -3.528     |   Label: NA\n",
      " ID: DB00206      |   Name: reserpine            \t| Score: -3.529     |   Label: NA\n",
      " ID: DB00443      |   Name: betamethasone        \t| Score: -3.530     |   Label: NA\n",
      " ID: DB00382      |   Name: tacrine              \t| Score: -3.535     |   Label: NA\n",
      " ID: DB00834      |   Name: mifepristone         \t| Score: -3.536     |   Label: NA\n",
      " ID: DB11742      |   Name: ebastine             \t| Score: -3.547     |   Label: NA\n",
      " ID: DB00250      |   Name: dapsone              \t| Score: -3.548     |   Label: NA\n",
      " ID: DB05016      |   Name: ataluren             \t| Score: -3.549     |   Label: NA\n",
      " ID: DB00774      |   Name: hydroflumethiazide   \t| Score: -3.549     |   Label: NA\n",
      " ID: DB01577      |   Name: Methamphetamine      \t| Score: -3.549     |   Label: NA\n",
      " ID: DB04861      |   Name: nebivolol            \t| Score: -3.552     |   Label: NA\n",
      " ID: DB00548      |   Name: Azelaic Acid         \t| Score: -3.558     |   Label: NA\n",
      " ID: DB11273      |   Name: DIHYDROERGOCORNINE   \t| Score: -3.558     |   Label: NA\n",
      " ID: DB12163      |   Name: sarpogrelate         \t| Score: -3.562     |   Label: NA\n",
      " ID: DB09526      |   Name: hydroquinone         \t| Score: -3.565     |   Label: NA\n",
      " ID: DB01232      |   Name: Saquinavir           \t| Score: -3.565     |   Label: NA\n",
      " ID: DB00674      |   Name: galantamine          \t| Score: -3.567     |   Label: NA\n",
      " ID: DB00264      |   Name: metoprolol           \t| Score: -3.570     |   Label: NA\n",
      " ID: DB00811      |   Name: ribavirin            \t| Score: -3.571     |   Label: NA\n",
      " ID: DB01395      |   Name: drospirenone         \t| Score: -3.572     |   Label: NA\n",
      " ID: DB12017      |   Name: ozagrel              \t| Score: -3.573     |   Label: NA\n",
      " ID: DB08930      |   Name: dolutegravir         \t| Score: -3.573     |   Label: NA\n",
      " ID: DB00340      |   Name: metixene             \t| Score: -3.576     |   Label: NA\n",
      " ID: DB01418      |   Name: acenocoumarol        \t| Score: -3.577     |   Label: NA\n",
      " ID: DB00120      |   Name: L-Phenylalanine      \t| Score: -3.579     |   Label: NA\n",
      " ID: DB00893      |   Name: IRON DEXTRAN         \t| Score: -3.581     |   Label: NA\n",
      " ID: DB00682      |   Name: warfarin             \t| Score: -3.582     |   Label: NA\n",
      " ID: DB00764      |   Name: mometasone           \t| Score: -3.587     |   Label: NA\n",
      " ID: DB00652      |   Name: Pentazocine          \t| Score: -3.592     |   Label: NA\n",
      " ID: DB05990      |   Name: obeticholic acid     \t| Score: -3.593     |   Label: NA\n",
      " ID: DB00469      |   Name: tenoxicam            \t| Score: -3.595     |   Label: NA\n",
      " ID: DB00883      |   Name: isosorbide-dinitrate \t| Score: -3.595     |   Label: NA\n",
      " ID: DB00894      |   Name: testolactone         \t| Score: -3.597     |   Label: NA\n",
      " ID: DB00423      |   Name: methocarbamol        \t| Score: -3.597     |   Label: NA\n",
      " ID: DB00821      |   Name: carprofen            \t| Score: -3.598     |   Label: NA\n",
      " ID: DB01026      |   Name: ketoconazole         \t| Score: -3.601     |   Label: NA\n",
      " ID: DB01018      |   Name: guanfacine           \t| Score: -3.601     |   Label: NA\n",
      " ID: DB01367      |   Name: rasagiline           \t| Score: -3.602     |   Label: NA\n",
      " ID: DB00875      |   Name: flupentixol          \t| Score: -3.602     |   Label: NA\n",
      " ID: DB06176      |   Name: romidepsin           \t| Score: -3.605     |   Label: NA\n",
      " ID: DB04843      |   Name: mepenzolate          \t| Score: -3.605     |   Label: NA\n",
      " ID: DB00230      |   Name: pregabalin           \t| Score: -3.608     |   Label: NA\n",
      " ID: DB09290      |   Name: ramosetron           \t| Score: -3.608     |   Label: NA\n",
      " ID: DB06290      |   Name: simeprevir           \t| Score: -3.609     |   Label: NA\n",
      " ID: DB00918      |   Name: almotriptan          \t| Score: -3.616     |   Label: NA\n",
      " ID: DB04953      |   Name: retigabine           \t| Score: -3.616     |   Label: NA\n",
      " ID: DB09085      |   Name: tetracaine           \t| Score: -3.617     |   Label: NA\n",
      " ID: DB00972      |   Name: azelastine           \t| Score: -3.617     |   Label: NA\n",
      " ID: DB00327      |   Name: Hydromorphone        \t| Score: -3.618     |   Label: NA\n",
      " ID: DB09089      |   Name: trimebutine          \t| Score: -3.619     |   Label: NA\n",
      " ID: DB00625      |   Name: efavirenz            \t| Score: -3.621     |   Label: NA\n",
      " ID: DB01400      |   Name: neostigmine          \t| Score: -3.622     |   Label: NA\n",
      " ID: DB00244      |   Name: mesalazine           \t| Score: -3.623     |   Label: NA\n",
      " ID: DB13167      |   Name: alclofenac           \t| Score: -3.623     |   Label: NA\n",
      " ID: DB00882      |   Name: clomifene            \t| Score: -3.626     |   Label: NA\n",
      " ID: DB04920      |   Name: cleviprex            \t| Score: -3.631     |   Label: NA\n",
      " ID: DB00216      |   Name: eletriptan           \t| Score: -3.631     |   Label: NA\n",
      " ID: DB00987      |   Name: cytarabine           \t| Score: -3.633     |   Label: NA\n",
      " ID: DB01108      |   Name: trilostane           \t| Score: -3.634     |   Label: NA\n",
      " ID: DB00985      |   Name: dimenhydrinate       \t| Score: -3.635     |   Label: NA\n",
      " ID: DB05294      |   Name: vandetanib           \t| Score: -3.643     |   Label: NA\n",
      " ID: DB08883      |   Name: perampanel           \t| Score: -3.643     |   Label: NA\n",
      " ID: DB00615      |   Name: Rifabutin            \t| Score: -3.652     |   Label: NA\n",
      " ID: DB00617      |   Name: paramethadione       \t| Score: -3.652     |   Label: NA\n",
      " ID: DB04552      |   Name: niflumic-acid        \t| Score: -3.653     |   Label: NA\n",
      " ID: DB01394      |   Name: colchicine           \t| Score: -3.656     |   Label: NA\n",
      " ID: DB14061      |   Name: hycanthone           \t| Score: -3.660     |   Label: NA\n",
      " ID: DB09090      |   Name: pinaverium           \t| Score: -3.663     |   Label: NA\n",
      " ID: DB00500      |   Name: tolmetin             \t| Score: -3.668     |   Label: NA\n",
      " ID: DB01251      |   Name: gliquidone           \t| Score: -3.668     |   Label: NA\n",
      " ID: DB04572      |   Name: thiotepa             \t| Score: -3.672     |   Label: NA\n",
      " ID: DB06479      |   Name: propentofylline      \t| Score: -3.673     |   Label: NA\n",
      " ID: DB01228      |   Name: Encainide            \t| Score: -3.675     |   Label: NA\n",
      " ID: DB00797      |   Name: tolazoline           \t| Score: -3.677     |   Label: NA\n",
      " ID: DB04895      |   Name: Pegaptanib           \t| Score: -3.679     |   Label: NA\n",
      " ID: DB00547      |   Name: desoximetasone       \t| Score: -3.680     |   Label: NA\n",
      " ID: DB06230      |   Name: nalmefene            \t| Score: -3.681     |   Label: NA\n",
      " ID: DB00210      |   Name: adapalene            \t| Score: -3.681     |   Label: NA\n",
      " ID: DB01107      |   Name: methyprylon          \t| Score: -3.682     |   Label: NA\n",
      " ID: DB00233      |   Name: aminosalicylate      \t| Score: -3.684     |   Label: NA\n",
      " ID: DB00390      |   Name: digoxin              \t| Score: -3.685     |   Label: NA\n",
      " ID: DB01359      |   Name: penbutolol           \t| Score: -3.687     |   Label: NA\n",
      " ID: DB00360      |   Name: sapropterin          \t| Score: -3.687     |   Label: NA\n",
      " ID: DB00245      |   Name: Benzatropine         \t| Score: -3.689     |   Label: NA\n",
      " ID: DB00155      |   Name: L-Citrulline         \t| Score: -3.692     |   Label: NA\n",
      " ID: DB00454      |   Name: Pethidine            \t| Score: -3.693     |   Label: NA\n",
      " ID: DB01217      |   Name: anastrozole          \t| Score: -3.696     |   Label: NA\n",
      " ID: DB06706      |   Name: isometheptene-mucate \t| Score: -3.697     |   Label: NA\n",
      " ID: DB09131      |   Name: cupric chloride      \t| Score: -3.699     |   Label: NA\n",
      " ID: DB12831      |   Name: gabexate             \t| Score: -3.704     |   Label: NA\n",
      " ID: DB01179      |   Name: podophyllotoxin      \t| Score: -3.705     |   Label: NA\n",
      " ID: DB01365      |   Name: mephentermine        \t| Score: -3.706     |   Label: NA\n",
      " ID: DB02772      |   Name: SUCROSE              \t| Score: -3.707     |   Label: NA\n",
      " ID: DB02701      |   Name: nicotinamide         \t| Score: -3.709     |   Label: NA\n",
      " ID: DB11656      |   Name: rebamipide           \t| Score: -3.713     |   Label: NA\n",
      " ID: DB00838      |   Name: CLOCORTOLONE         \t| Score: -3.716     |   Label: NA\n",
      " ID: DB01244      |   Name: bepridil             \t| Score: -3.721     |   Label: NA\n",
      " ID: DB00752      |   Name: tranylcypromine      \t| Score: -3.721     |   Label: NA\n",
      " ID: DB06213      |   Name: regadenoson          \t| Score: -3.723     |   Label: NA\n",
      " ID: DB06292      |   Name: dapagliflozin        \t| Score: -3.730     |   Label: NA\n",
      " ID: DB00429      |   Name: Carboprost Tromethamine \t| Score: -3.733     |   Label: NA\n",
      " ID: DB00461      |   Name: nabumetone           \t| Score: -3.737     |   Label: NA\n",
      " ID: DB08992      |   Name: eperisone            \t| Score: -3.742     |   Label: NA\n",
      " ID: DB01656      |   Name: roflumilast          \t| Score: -3.744     |   Label: NA\n",
      " ID: DB01105      |   Name: Sibutramine          \t| Score: -3.748     |   Label: NA\n",
      " ID: DB00357      |   Name: aminoglutethimide    \t| Score: -3.749     |   Label: NA\n",
      " ID: DB13345      |   Name: DIHYDROERGOCRISTINE  \t| Score: -3.750     |   Label: NA\n",
      " ID: DB00945      |   Name: aspirin              \t| Score: -3.751     |   Label: NA\n",
      " ID: DB01157      |   Name: Trimetrexate         \t| Score: -3.754     |   Label: NA\n",
      " ID: DB01396      |   Name: Digitoxin            \t| Score: -3.758     |   Label: NA\n",
      " ID: DB00788      |   Name: naproxen             \t| Score: -3.759     |   Label: NA\n",
      " ID: DB00280      |   Name: disopyramide         \t| Score: -3.761     |   Label: NA\n",
      " ID: DB00627      |   Name: niacin               \t| Score: -3.762     |   Label: NA\n",
      " ID: DB04890      |   Name: bepotastine          \t| Score: -3.763     |   Label: NA\n",
      " ID: DB00381      |   Name: amlodipine           \t| Score: -3.766     |   Label: NA\n",
      " ID: DB00928      |   Name: azacitidine          \t| Score: -3.769     |   Label: NA\n",
      " ID: DB00437      |   Name: allopurinol          \t| Score: -3.769     |   Label: NA\n",
      " ID: DB06691      |   Name: mepyramine           \t| Score: -3.770     |   Label: NA\n",
      " ID: DB12364      |   Name: betrixaban           \t| Score: -3.771     |   Label: NA\n",
      " ID: DB04865      |   Name: homoharringtonine    \t| Score: -3.771     |   Label: NA\n",
      " ID: DB00292      |   Name: etomidate            \t| Score: -3.772     |   Label: NA\n",
      " ID: DB01033      |   Name: mercaptopurine       \t| Score: -3.774     |   Label: NA\n",
      " ID: DB08815      |   Name: lurasidone           \t| Score: -3.774     |   Label: NA\n",
      " ID: DB00776      |   Name: oxcarbazepine        \t| Score: -3.774     |   Label: NA\n",
      " ID: DB06694      |   Name: xylometazoline       \t| Score: -3.778     |   Label: NA\n",
      " ID: DB00904      |   Name: ondansetron          \t| Score: -3.781     |   Label: NA\n",
      " ID: DB00484      |   Name: brimonidine          \t| Score: -3.791     |   Label: NA\n",
      " ID: DB00741      |   Name: hydrocortisone       \t| Score: -3.791     |   Label: NA\n",
      " ID: DB00389      |   Name: carbimazole          \t| Score: -3.792     |   Label: NA\n",
      " ID: DB00697      |   Name: tizanidine           \t| Score: -3.793     |   Label: NA\n",
      " ID: DB00812      |   Name: Phenylbutazone       \t| Score: -3.793     |   Label: NA\n",
      " ID: DB12230      |   Name: bunazosin            \t| Score: -3.795     |   Label: NA\n",
      " ID: DB06237      |   Name: avanafil             \t| Score: -3.797     |   Label: NA\n",
      " ID: DB01199      |   Name: tubocurarine         \t| Score: -3.800     |   Label: NA\n",
      " ID: DB12836      |   Name: grapiprant           \t| Score: -3.801     |   Label: NA\n",
      " ID: DB04665      |   Name: coumarin             \t| Score: -3.803     |   Label: NA\n",
      " ID: DB01181      |   Name: ifosfamide           \t| Score: -3.803     |   Label: NA\n",
      " ID: DB00421      |   Name: spironolactone       \t| Score: -3.804     |   Label: NA\n",
      " ID: DB13919      |   Name: candesartan          \t| Score: -3.812     |   Label: NA\n",
      " ID: DB00573      |   Name: fenoprofen           \t| Score: -3.812     |   Label: NA\n",
      " ID: DB00147      |   Name: pyridoxal            \t| Score: -3.813     |   Label: NA\n",
      " ID: DB00371      |   Name: meprobamate          \t| Score: -3.816     |   Label: NA\n",
      " ID: DB00328      |   Name: indomethacin         \t| Score: -3.817     |   Label: NA\n",
      " ID: DB01197      |   Name: captopril            \t| Score: -3.819     |   Label: NA\n",
      " ID: DB00235      |   Name: milrinone            \t| Score: -3.819     |   Label: NA\n",
      " ID: DB06684      |   Name: vilazodone           \t| Score: -3.820     |   Label: NA\n",
      " ID: DB00347      |   Name: trimethadione        \t| Score: -3.828     |   Label: NA\n",
      " ID: DB08880      |   Name: teriflunomide        \t| Score: -3.829     |   Label: NA\n",
      " ID: DB04842      |   Name: fluspirilene         \t| Score: -3.833     |   Label: NA\n",
      " ID: DB00881      |   Name: quinapril            \t| Score: -3.835     |   Label: NA\n",
      " ID: DB09068      |   Name: vortioxetine         \t| Score: -3.835     |   Label: NA\n",
      " ID: DB00117      |   Name: L-Histidine          \t| Score: -3.844     |   Label: NA\n",
      " ID: DB01231      |   Name: diphenidol           \t| Score: -3.845     |   Label: NA\n",
      " ID: DB06414      |   Name: etravirine           \t| Score: -3.860     |   Label: NA\n",
      " ID: DB00013      |   Name: Urokinase            \t| Score: -3.861     |   Label: NA\n",
      " ID: DB00675      |   Name: tamoxifen            \t| Score: -3.862     |   Label: NA\n",
      " ID: DB01030      |   Name: topotecan            \t| Score: -3.864     |   Label: NA\n",
      " ID: DB01210      |   Name: levobunolol          \t| Score: -3.864     |   Label: NA\n",
      " ID: DB00831      |   Name: trifluoperazine      \t| Score: -3.864     |   Label: NA\n",
      " ID: DB01126      |   Name: dutasteride          \t| Score: -3.866     |   Label: NA\n",
      " ID: DB01625      |   Name: isopropamide-iodide  \t| Score: -3.871     |   Label: NA\n",
      " ID: DB01624      |   Name: zuclopenthixol       \t| Score: -3.876     |   Label: NA\n",
      " ID: DB11582      |   Name: thiocolchicoside     \t| Score: -3.884     |   Label: NA\n",
      " ID: DB00679      |   Name: Thioridazine         \t| Score: -3.884     |   Label: NA\n",
      " ID: DB00188      |   Name: bortezomib           \t| Score: -3.887     |   Label: NA\n",
      " ID: DB00231      |   Name: Temazepam            \t| Score: -3.887     |   Label: NA\n",
      " ID: DB06689      |   Name: Monoethanolamine oleate \t| Score: -3.888     |   Label: NA\n",
      " ID: DB13783      |   Name: acemetacin           \t| Score: -3.888     |   Label: NA\n",
      " ID: DB00956      |   Name: Hydrocodone          \t| Score: -3.888     |   Label: NA\n",
      " ID: DB01206      |   Name: lomustine            \t| Score: -3.890     |   Label: NA\n",
      " ID: DB11560      |   Name: lesinurad            \t| Score: -3.891     |   Label: NA\n",
      " ID: DB12082      |   Name: vesnarinone          \t| Score: -3.897     |   Label: NA\n",
      " ID: DB00161      |   Name: L-Valine             \t| Score: -3.898     |   Label: NA\n",
      " ID: DB01622      |   Name: thioproperazine      \t| Score: -3.903     |   Label: NA\n",
      " ID: DB06654      |   Name: safinamide           \t| Score: -3.903     |   Label: NA\n",
      " ID: DB07477      |   Name: felbinac             \t| Score: -3.913     |   Label: NA\n",
      " ID: DB11059      |   Name: CARMELLOSE           \t| Score: -3.913     |   Label: NA\n",
      " ID: DB00317      |   Name: gefitinib            \t| Score: -3.916     |   Label: NA\n",
      " ID: DB01063      |   Name: acetophenazine       \t| Score: -3.920     |   Label: NA\n",
      " ID: DB01173      |   Name: orphenadrine         \t| Score: -3.922     |   Label: NA\n",
      " ID: DB00395      |   Name: carisoprodol         \t| Score: -3.923     |   Label: NA\n",
      " ID: DB01121      |   Name: phenacemide          \t| Score: -3.925     |   Label: NA\n",
      " ID: DB00623      |   Name: fluphenazine         \t| Score: -3.927     |   Label: NA\n",
      " ID: DB11751      |   Name: cabotegravir         \t| Score: -3.927     |   Label: NA\n",
      " ID: DB00154      |   Name: gamma-Homolinolenic acid \t| Score: -3.929     |   Label: NA\n",
      " ID: DB06196      |   Name: Icatibant            \t| Score: -3.931     |   Label: NA\n",
      " ID: DB09288      |   Name: propacetamol         \t| Score: -3.934     |   Label: NA\n",
      " ID: DB00167      |   Name: L-Isoleucine         \t| Score: -3.934     |   Label: NA\n",
      " ID: DB06711      |   Name: naphazoline          \t| Score: -3.934     |   Label: NA\n",
      " ID: DB09010      |   Name: carmofur             \t| Score: -3.935     |   Label: NA\n",
      " ID: DB06700      |   Name: desvenlafaxine       \t| Score: -3.935     |   Label: NA\n",
      " ID: DB00962      |   Name: zaleplon             \t| Score: -3.935     |   Label: NA\n",
      " ID: DB00513      |   Name: 6-Aminocaproic Acid  \t| Score: -3.945     |   Label: NA\n",
      " ID: DB06702      |   Name: fesoterodine         \t| Score: -3.949     |   Label: NA\n",
      " ID: DB00782      |   Name: propantheline        \t| Score: -3.953     |   Label: NA\n",
      " ID: DB00650      |   Name: leucovorin           \t| Score: -3.954     |   Label: NA\n",
      " ID: DB00771      |   Name: clidinium            \t| Score: -3.956     |   Label: NA\n",
      " ID: DB00476      |   Name: duloxetine           \t| Score: -3.957     |   Label: NA\n",
      " ID: DB00349      |   Name: clobazam             \t| Score: -3.962     |   Label: NA\n",
      " ID: DB08895      |   Name: tofacitinib          \t| Score: -3.964     |   Label: NA\n",
      " ID: DB00850      |   Name: perphenazine         \t| Score: -3.965     |   Label: NA\n",
      " ID: DB01136      |   Name: carvedilol           \t| Score: -3.966     |   Label: NA\n",
      " ID: DB08941      |   Name: isoxsuprine          \t| Score: -3.971     |   Label: NA\n",
      " ID: DB01080      |   Name: vigabatrin           \t| Score: -3.973     |   Label: NA\n",
      " ID: DB02530      |   Name: GAMMA-AMINOBUTYRIC ACID \t| Score: -3.975     |   Label: NA\n",
      " ID: DB00436      |   Name: bendroflumethiazide  \t| Score: -3.976     |   Label: NA\n",
      " ID: DB09014      |   Name: Captodiame           \t| Score: -3.979     |   Label: NA\n",
      " ID: DB06193      |   Name: pixantrone           \t| Score: -3.980     |   Label: NA\n",
      " ID: DB01438      |   Name: Phenazopyridine      \t| Score: -3.981     |   Label: NA\n",
      " ID: DB01072      |   Name: atazanavir           \t| Score: -3.981     |   Label: NA\n",
      " ID: DB00754      |   Name: ethotoin             \t| Score: -3.983     |   Label: NA\n",
      " ID: DB09047      |   Name: finafloxacin         \t| Score: -3.985     |   Label: NA\n",
      " ID: DB00173      |   Name: Adenine              \t| Score: -3.986     |   Label: NA\n",
      " ID: DB09006      |   Name: clinofibrate         \t| Score: -3.989     |   Label: NA\n",
      " ID: DB01146      |   Name: diphenylpyraline     \t| Score: -3.996     |   Label: NA\n",
      " ID: DB11235      |   Name: thonzylamine         \t| Score: -3.996     |   Label: NA\n",
      " ID: DB00553      |   Name: methoxsalen          \t| Score: -4.000     |   Label: NA\n",
      " ID: DB01219      |   Name: dantrolene           \t| Score: -4.003     |   Label: NA\n",
      " ID: DB00133      |   Name: L-Serine             \t| Score: -4.003     |   Label: NA\n",
      " ID: DB09270      |   Name: coenzyme Q10         \t| Score: -4.004     |   Label: NA\n",
      " ID: DB01208      |   Name: sparfloxacin         \t| Score: -4.006     |   Label: NA\n",
      " ID: DB01168      |   Name: procarbazine         \t| Score: -4.007     |   Label: NA\n",
      " ID: DB01194      |   Name: brinzolamide         \t| Score: -4.007     |   Label: NA\n",
      " ID: DB01035      |   Name: procainamide         \t| Score: -4.013     |   Label: NA\n",
      " ID: DB00843      |   Name: donepezil            \t| Score: -4.013     |   Label: NA\n",
      " ID: DB00740      |   Name: riluzole             \t| Score: -4.014     |   Label: NA\n",
      " ID: DB01211      |   Name: clarithromycin       \t| Score: -4.017     |   Label: NA\n",
      " ID: DB00792      |   Name: tripelennamine       \t| Score: -4.023     |   Label: NA\n",
      " ID: DB00647      |   Name: Dextropropoxyphene   \t| Score: -4.023     |   Label: NA\n",
      " ID: DB00748      |   Name: carbinoxamine        \t| Score: -4.024     |   Label: NA\n",
      " ID: DB00394      |   Name: beclomethasone-dipropionate \t| Score: -4.024     |   Label: NA\n",
      " ID: DB00275      |   Name: olmesartan           \t| Score: -4.024     |   Label: NA\n",
      " ID: DB00504      |   Name: levallorphan         \t| Score: -4.025     |   Label: NA\n",
      " ID: DB00688      |   Name: mycophenolate-mofetil \t| Score: -4.029     |   Label: NA\n",
      " ID: DB00372      |   Name: thiethylperazine     \t| Score: -4.037     |   Label: NA\n",
      " ID: DB00651      |   Name: dyphylline           \t| Score: -4.037     |   Label: NA\n",
      " ID: DB00532      |   Name: mephenytoin          \t| Score: -4.039     |   Label: NA\n",
      " ID: DB00700      |   Name: eplerenone           \t| Score: -4.043     |   Label: NA\n",
      " ID: DB00734      |   Name: risperidone          \t| Score: -4.043     |   Label: NA\n",
      " ID: DB09128      |   Name: brexpiprazole        \t| Score: -4.043     |   Label: NA\n",
      " ID: DB11994      |   Name: diacerein            \t| Score: -4.045     |   Label: NA\n",
      " ID: DB00428      |   Name: streptozotocin       \t| Score: -4.052     |   Label: NA\n",
      " ID: DB04576      |   Name: fleroxacin           \t| Score: -4.053     |   Label: NA\n",
      " ID: DB00142      |   Name: L-Glutamic Acid      \t| Score: -4.054     |   Label: NA\n",
      " ID: DB09292      |   Name: sacubitril           \t| Score: -4.057     |   Label: NA\n",
      " ID: DB01429      |   Name: aprindine            \t| Score: -4.058     |   Label: NA\n",
      " ID: DB00691      |   Name: moexipril            \t| Score: -4.058     |   Label: NA\n",
      " ID: DB00832      |   Name: phensuximide         \t| Score: -4.060     |   Label: NA\n",
      " ID: DB00940      |   Name: methantheline        \t| Score: -4.068     |   Label: NA\n",
      " ID: DB01207      |   Name: ridogrel             \t| Score: -4.076     |   Label: NA\n",
      " ID: DB00687      |   Name: Fludrocortisone      \t| Score: -4.079     |   Label: NA\n",
      " ID: DB01070      |   Name: dihydrotachysterol   \t| Score: -4.080     |   Label: NA\n",
      " ID: DB00903      |   Name: etacrynic-acid       \t| Score: -4.085     |   Label: NA\n",
      " ID: DB01320      |   Name: fosphenytoin         \t| Score: -4.087     |   Label: NA\n",
      " ID: DB00749      |   Name: etodolac             \t| Score: -4.088     |   Label: NA\n",
      " ID: DB01685      |   Name: topiroxostat         \t| Score: -4.088     |   Label: NA\n",
      " ID: DB11081      |   Name: Aluminium chloride   \t| Score: -4.089     |   Label: NA\n",
      " ID: DB01156      |   Name: bupropion            \t| Score: -4.090     |   Label: NA\n",
      " ID: DB01626      |   Name: pargyline            \t| Score: -4.090     |   Label: NA\n",
      " ID: DB06410      |   Name: doxercalciferol      \t| Score: -4.092     |   Label: NA\n",
      " ID: DB00261      |   Name: anagrelide           \t| Score: -4.096     |   Label: NA\n",
      " ID: DB01427      |   Name: amrinone             \t| Score: -4.098     |   Label: NA\n",
      " ID: DB01088      |   Name: iloprost             \t| Score: -4.103     |   Label: NA\n",
      " ID: DB00963      |   Name: Bromfenac            \t| Score: -4.104     |   Label: NA\n",
      " ID: DB09140      |   Name: Oxygen               \t| Score: -4.108     |   Label: NA\n",
      " ID: DB08877      |   Name: ruxolitinib          \t| Score: -4.119     |   Label: NA\n",
      " ID: DB08835      |   Name: Spaglumic acid       \t| Score: -4.119     |   Label: NA\n",
      " ID: DB00829      |   Name: diazepam             \t| Score: -4.120     |   Label: NA\n",
      " ID: DB00755      |   Name: tretinoin            \t| Score: -4.120     |   Label: NA\n",
      " ID: DB00982      |   Name: isotretinoin         \t| Score: -4.120     |   Label: NA\n",
      " ID: DB00523      |   Name: Alitretinoin         \t| Score: -4.120     |   Label: NA\n",
      " ID: DB11753      |   Name: rifamycin            \t| Score: -4.122     |   Label: NA\n",
      " ID: DB03793      |   Name: Benzoic Acid         \t| Score: -4.122     |   Label: NA\n",
      " ID: DB01267      |   Name: paliperidone         \t| Score: -4.122     |   Label: NA\n",
      " ID: DB01349      |   Name: Tasosartan           \t| Score: -4.123     |   Label: NA\n",
      " ID: DB00670      |   Name: pirenzepine          \t| Score: -4.125     |   Label: NA\n",
      " ID: DB00569      |   Name: Fondaparinux         \t| Score: -4.125     |   Label: NA\n",
      " ID: DB08908      |   Name: dimethyl-fumarate    \t| Score: -4.127     |   Label: NA\n",
      " ID: DB00356      |   Name: chlorzoxazone        \t| Score: -4.129     |   Label: NA\n",
      " ID: DB01171      |   Name: moclobemide          \t| Score: -4.130     |   Label: NA\n",
      " ID: DB00199      |   Name: erythromycin         \t| Score: -4.131     |   Label: NA\n",
      " ID: DB00435      |   Name: Nitric Oxide         \t| Score: -4.138     |   Label: NA\n",
      " ID: DB00240      |   Name: ALCLOMETASONE        \t| Score: -4.142     |   Label: NA\n",
      " ID: DB13169      |   Name: nandrolone           \t| Score: -4.142     |   Label: NA\n",
      " ID: DB02901      |   Name: dihydrotestosterone  \t| Score: -4.145     |   Label: NA\n",
      " ID: DB00585      |   Name: nizatidine           \t| Score: -4.147     |   Label: NA\n",
      " ID: DB05266      |   Name: ibudilast            \t| Score: -4.148     |   Label: NA\n",
      " ID: DB00727      |   Name: Nitroglycerin        \t| Score: -4.148     |   Label: NA\n",
      " ID: DB01109      |   Name: Heparin              \t| Score: -4.148     |   Label: NA\n",
      " ID: DB01225      |   Name: Enoxaparin           \t| Score: -4.148     |   Label: NA\n",
      " ID: DB09258      |   Name: Bemiparin            \t| Score: -4.148     |   Label: NA\n",
      " ID: DB01083      |   Name: orlistat             \t| Score: -4.151     |   Label: NA\n",
      " ID: DB06605      |   Name: apixaban             \t| Score: -4.153     |   Label: NA\n",
      " ID: DB01437      |   Name: Glutethimide         \t| Score: -4.161     |   Label: NA\n",
      " ID: DB08932      |   Name: macitentan           \t| Score: -4.164     |   Label: NA\n",
      " ID: DB01224      |   Name: quetiapine           \t| Score: -4.166     |   Label: NA\n",
      " ID: DB00591      |   Name: Fluocinolone Acetonide \t| Score: -4.167     |   Label: NA\n",
      " ID: DB06264      |   Name: tolperisone          \t| Score: -4.168     |   Label: NA\n",
      " ID: DB00659      |   Name: acamprosate          \t| Score: -4.178     |   Label: NA\n",
      " ID: DB01144      |   Name: diclofenamide        \t| Score: -4.179     |   Label: NA\n",
      " ID: DB08800      |   Name: chloropyramine       \t| Score: -4.179     |   Label: NA\n",
      " ID: DB00276      |   Name: amsacrine            \t| Score: -4.180     |   Label: NA\n",
      " ID: DB00323      |   Name: Tolcapone            \t| Score: -4.185     |   Label: NA\n",
      " ID: DB09053      |   Name: ibrutinib            \t| Score: -4.189     |   Label: NA\n",
      " ID: DB00624      |   Name: testosterone         \t| Score: -4.193     |   Label: NA\n",
      " ID: DB01411      |   Name: pranlukast           \t| Score: -4.194     |   Label: NA\n",
      " ID: DB01412      |   Name: Theobromine          \t| Score: -4.195     |   Label: NA\n",
      " ID: DB01162      |   Name: terazosin            \t| Score: -4.204     |   Label: NA\n",
      " ID: DB04844      |   Name: tetrabenazine        \t| Score: -4.204     |   Label: NA\n",
      " ID: DB00848      |   Name: Levamisole           \t| Score: -4.204     |   Label: NA\n",
      " ID: DB00212      |   Name: Remikiren            \t| Score: -4.205     |   Label: NA\n",
      " ID: DB00731      |   Name: nateglinide          \t| Score: -4.207     |   Label: NA\n",
      " ID: DB00805      |   Name: minaprine            \t| Score: -4.215     |   Label: NA\n",
      " ID: DB00890      |   Name: dienestrol           \t| Score: -4.224     |   Label: NA\n",
      " ID: DB01130      |   Name: prednicarbate        \t| Score: -4.226     |   Label: NA\n",
      " ID: DB04878      |   Name: voglibose            \t| Score: -4.228     |   Label: NA\n",
      " ID: DB00820      |   Name: tadalafil            \t| Score: -4.230     |   Label: NA\n",
      " ID: DB00989      |   Name: rivastigmine         \t| Score: -4.235     |   Label: NA\n",
      " ID: DB11181      |   Name: homatropine          \t| Score: -4.236     |   Label: NA\n",
      " ID: DB00710      |   Name: ibandronate          \t| Score: -4.238     |   Label: NA\n",
      " ID: DB08816      |   Name: ticagrelor           \t| Score: -4.242     |   Label: NA\n",
      " ID: DB00527      |   Name: cinchocaine          \t| Score: -4.246     |   Label: NA\n",
      " ID: DB00419      |   Name: miglustat            \t| Score: -4.248     |   Label: NA\n",
      " ID: DB06144      |   Name: Sertindole           \t| Score: -4.248     |   Label: NA\n",
      " ID: DB00153      |   Name: ergocalciferol       \t| Score: -4.251     |   Label: NA\n",
      " ID: DB00950      |   Name: fexofenadine         \t| Score: -4.251     |   Label: NA\n",
      " ID: DB08906      |   Name: fluticasone furoate  \t| Score: -4.253     |   Label: NA\n",
      " ID: DB00555      |   Name: lamotrigine          \t| Score: -4.255     |   Label: NA\n",
      " ID: DB12598      |   Name: NAFAMOSTAT           \t| Score: -4.257     |   Label: NA\n",
      " ID: DB08882      |   Name: linagliptin          \t| Score: -4.262     |   Label: NA\n",
      " ID: DB00226      |   Name: guanadrel            \t| Score: -4.263     |   Label: NA\n",
      " ID: DB00129      |   Name: L-Ornithine          \t| Score: -4.264     |   Label: NA\n",
      " ID: DB00561      |   Name: doxapram             \t| Score: -4.267     |   Label: NA\n",
      " ID: DB01193      |   Name: acebutolol           \t| Score: -4.269     |   Label: NA\n",
      " ID: DB09488      |   Name: acrivastine          \t| Score: -4.272     |   Label: NA\n",
      " ID: DB00218      |   Name: moxifloxacin         \t| Score: -4.273     |   Label: NA\n",
      " ID: DB00193      |   Name: tramadol             \t| Score: -4.274     |   Label: NA\n",
      " ID: DB00661      |   Name: verapamil            \t| Score: -4.278     |   Label: NA\n",
      " ID: DB05246      |   Name: methsuximide         \t| Score: -4.282     |   Label: NA\n",
      " ID: DB06441      |   Name: CANGRELOR            \t| Score: -4.286     |   Label: NA\n",
      " ID: DB00528      |   Name: lercanidipine        \t| Score: -4.288     |   Label: NA\n",
      " ID: DB08922      |   Name: perospirone          \t| Score: -4.292     |   Label: NA\n",
      " ID: DB00842      |   Name: oxazepam             \t| Score: -4.296     |   Label: NA\n",
      " ID: DB00176      |   Name: fluvoxamine          \t| Score: -4.297     |   Label: NA\n",
      " ID: DB00712      |   Name: flurbiprofen-(+/-)   \t| Score: -4.298     |   Label: NA\n",
      " ID: DB01254      |   Name: dasatinib            \t| Score: -4.298     |   Label: NA\n",
      " ID: DB12233      |   Name: iguratimod           \t| Score: -4.300     |   Label: NA\n",
      " ID: DB00703      |   Name: methazolamide        \t| Score: -4.308     |   Label: NA\n",
      " ID: DB00308      |   Name: ibutilide            \t| Score: -4.312     |   Label: NA\n",
      " ID: DB00914      |   Name: Phenformin           \t| Score: -4.315     |   Label: NA\n",
      " ID: DB01220      |   Name: rifaximin            \t| Score: -4.320     |   Label: NA\n",
      " ID: DB00459      |   Name: acitretin            \t| Score: -4.320     |   Label: NA\n",
      " ID: DB08806      |   Name: roxatidine-acetate   \t| Score: -4.327     |   Label: NA\n",
      " ID: DB00247      |   Name: methysergide         \t| Score: -4.327     |   Label: NA\n",
      " ID: DB01440      |   Name: Gamma Hydroxybutyric Acid \t| Score: -4.329     |   Label: NA\n",
      " ID: DB00889      |   Name: granisetron          \t| Score: -4.333     |   Label: NA\n",
      " ID: DB01045      |   Name: rifampin             \t| Score: -4.337     |   Label: NA\n",
      " ID: DB00603      |   Name: medroxyprogesterone acetate \t| Score: -4.343     |   Label: NA\n",
      " ID: DB00863      |   Name: ranitidine           \t| Score: -4.346     |   Label: NA\n",
      " ID: DB00921      |   Name: Buprenorphine        \t| Score: -4.359     |   Label: NA\n",
      " ID: DB00351      |   Name: megestrol acetate    \t| Score: -4.359     |   Label: NA\n",
      " ID: DB00959      |   Name: methylprednisolone   \t| Score: -4.360     |   Label: NA\n",
      " ID: DB13217      |   Name: fentiazac            \t| Score: -4.360     |   Label: NA\n",
      " ID: DB00491      |   Name: miglitol             \t| Score: -4.362     |   Label: NA\n",
      " ID: DB00010      |   Name: Sermorelin           \t| Score: -4.362     |   Label: NA\n",
      " ID: DB12319      |   Name: benzbromarone        \t| Score: -4.364     |   Label: NA\n",
      " ID: DB12833      |   Name: tandospirone         \t| Score: -4.365     |   Label: NA\n",
      " ID: DB08869      |   Name: tesamorelin          \t| Score: -4.365     |   Label: NA\n",
      " ID: DB00813      |   Name: Fentanyl             \t| Score: -4.369     |   Label: NA\n",
      " ID: DB06439      |   Name: Tyloxapol            \t| Score: -4.372     |   Label: NA\n",
      " ID: DB00352      |   Name: thioguanine          \t| Score: -4.373     |   Label: NA\n",
      " ID: DB00537      |   Name: ciprofloxacin        \t| Score: -4.374     |   Label: NA\n",
      " ID: DB00496      |   Name: darifenacin          \t| Score: -4.375     |   Label: NA\n",
      " ID: DB01158      |   Name: bretylium            \t| Score: -4.377     |   Label: NA\n",
      " ID: DB08986      |   Name: etifoxine            \t| Score: -4.377     |   Label: NA\n",
      " ID: DB01628      |   Name: etoricoxib           \t| Score: -4.380     |   Label: NA\n",
      " ID: DB00162      |   Name: retinol              \t| Score: -4.383     |   Label: NA\n",
      " ID: DB00862      |   Name: vardenafil           \t| Score: -4.384     |   Label: NA\n",
      " ID: DB00656      |   Name: trazodone            \t| Score: -4.384     |   Label: NA\n",
      " ID: DB01260      |   Name: desonide             \t| Score: -4.387     |   Label: NA\n",
      " ID: DB00653      |   Name: Magnesium Sulfate    \t| Score: -4.391     |   Label: NA\n",
      " ID: DB01084      |   Name: emedastine           \t| Score: -4.391     |   Label: NA\n",
      " ID: DB00975      |   Name: dipyridamole         \t| Score: -4.393     |   Label: NA\n",
      " ID: DB00806      |   Name: pentoxifylline       \t| Score: -4.397     |   Label: NA\n",
      " ID: DB09015      |   Name: potassium-canrenoate \t| Score: -4.401     |   Label: NA\n",
      " ID: DB04838      |   Name: cyclandelate         \t| Score: -4.404     |   Label: NA\n",
      " ID: DB00916      |   Name: metronidazole        \t| Score: -4.404     |   Label: NA\n",
      " ID: DB00207      |   Name: azithromycin         \t| Score: -4.407     |   Label: NA\n",
      " ID: DB08819      |   Name: Tafluprost           \t| Score: -4.411     |   Label: NA\n",
      " ID: DB01128      |   Name: bicalutamide         \t| Score: -4.412     |   Label: NA\n",
      " ID: DB04951      |   Name: pirfenidone          \t| Score: -4.412     |   Label: NA\n",
      " ID: DB00404      |   Name: Alprazolam           \t| Score: -4.413     |   Label: NA\n",
      " ID: DB00720      |   Name: clodronic-acid       \t| Score: -4.416     |   Label: NA\n",
      " ID: DB04519      |   Name: octanoic acid        \t| Score: -4.416     |   Label: NA\n",
      " ID: DB00920      |   Name: ketotifen            \t| Score: -4.417     |   Label: NA\n",
      " ID: DB08983      |   Name: etofibrate           \t| Score: -4.418     |   Label: NA\n",
      " ID: DB04866      |   Name: halofuginone         \t| Score: -4.419     |   Label: NA\n",
      " ID: DB00724      |   Name: imiquimod            \t| Score: -4.423     |   Label: NA\n",
      " ID: DB00288      |   Name: amcinonide           \t| Score: -4.428     |   Label: NA\n",
      " ID: DB01195      |   Name: flecainide           \t| Score: -4.445     |   Label: NA\n",
      " ID: DB00559      |   Name: bosentan             \t| Score: -4.446     |   Label: NA\n",
      " ID: DB00177      |   Name: valsartan            \t| Score: -4.451     |   Label: NA\n",
      " ID: DB08826      |   Name: deferiprone          \t| Score: -4.451     |   Label: NA\n",
      " ID: DB04946      |   Name: iloperidone          \t| Score: -4.451     |   Label: NA\n",
      " ID: DB00865      |   Name: Benzphetamine        \t| Score: -4.451     |   Label: NA\n",
      " ID: DB01430      |   Name: almitrine            \t| Score: -4.455     |   Label: NA\n",
      " ID: DB01019      |   Name: bethanechol          \t| Score: -4.456     |   Label: NA\n",
      " ID: DB00801      |   Name: Halazepam            \t| Score: -4.463     |   Label: NA\n",
      " ID: DB00052      |   Name: Somatropin recombinant \t| Score: -4.467     |   Label: NA\n",
      " ID: DB09091      |   Name: Tixocortol           \t| Score: -4.479     |   Label: NA\n",
      " ID: DB11632      |   Name: OPICAPONE            \t| Score: -4.481     |   Label: NA\n",
      " ID: DB00203      |   Name: sildenafil           \t| Score: -4.481     |   Label: NA\n",
      " ID: DB08918      |   Name: Levomilnacipran      \t| Score: -4.486     |   Label: NA\n",
      " ID: DB06271      |   Name: Sulodexide           \t| Score: -4.498     |   Label: NA\n",
      " ID: DB06701      |   Name: Dexmethylphenidate   \t| Score: -4.498     |   Label: NA\n",
      " ID: DB00637      |   Name: Astemizole           \t| Score: -4.511     |   Label: NA\n",
      " ID: DB00991      |   Name: oxaprozin            \t| Score: -4.513     |   Label: NA\n",
      " ID: DB00223      |   Name: DIFLORASONE          \t| Score: -4.514     |   Label: NA\n",
      " ID: DB01397      |   Name: Magnesium salicylate \t| Score: -4.515     |   Label: NA\n",
      " ID: DB01117      |   Name: atovaquone           \t| Score: -4.518     |   Label: NA\n",
      " ID: DB05271      |   Name: rotigotine           \t| Score: -4.518     |   Label: NA\n",
      " ID: DB00663      |   Name: flumethasone         \t| Score: -4.519     |   Label: NA\n",
      " ID: DB01017      |   Name: minocycline          \t| Score: -4.520     |   Label: NA\n",
      " ID: DB04743      |   Name: nimesulide           \t| Score: -4.521     |   Label: NA\n",
      " ID: DB01592      |   Name: Iron                 \t| Score: -4.530     |   Label: NA\n",
      " ID: DB11783      |   Name: imidapril            \t| Score: -4.532     |   Label: NA\n",
      " ID: DB00590      |   Name: doxazosin            \t| Score: -4.534     |   Label: NA\n",
      " ID: DB13179      |   Name: troleandomycin       \t| Score: -4.534     |   Label: NA\n",
      " ID: DB00594      |   Name: amiloride            \t| Score: -4.542     |   Label: NA\n",
      " ID: DB08811      |   Name: tofisopam            \t| Score: -4.542     |   Label: NA\n",
      " ID: DB08808      |   Name: bupranolol           \t| Score: -4.546     |   Label: NA\n",
      " ID: DB00762      |   Name: irinotecan           \t| Score: -4.553     |   Label: NA\n",
      " ID: DB00715      |   Name: paroxetine           \t| Score: -4.556     |   Label: NA\n",
      " ID: DB00122      |   Name: Choline              \t| Score: -4.558     |   Label: NA\n",
      " ID: DB00564      |   Name: carbamazepine        \t| Score: -4.563     |   Label: NA\n",
      " ID: DB00277      |   Name: Theophylline         \t| Score: -4.566     |   Label: NA\n",
      " ID: DB09262      |   Name: imidafenacin         \t| Score: -4.566     |   Label: NA\n",
      " ID: DB00342      |   Name: Terfenadine          \t| Score: -4.570     |   Label: NA\n",
      " ID: DB01032      |   Name: probenecid           \t| Score: -4.582     |   Label: NA\n",
      " ID: DB00248      |   Name: cabergoline          \t| Score: -4.584     |   Label: NA\n",
      " ID: DB02659      |   Name: cholic-acid          \t| Score: -4.587     |   Label: NA\n",
      " ID: DB00246      |   Name: ziprasidone          \t| Score: -4.587     |   Label: NA\n",
      " ID: DB09083      |   Name: ivabradine           \t| Score: -4.587     |   Label: NA\n",
      " ID: DB08801      |   Name: dimetindene          \t| Score: -4.608     |   Label: NA\n",
      " ID: DB00551      |   Name: Acetohydroxamic Acid \t| Score: -4.608     |   Label: NA\n",
      " ID: DB00804      |   Name: dicycloverine        \t| Score: -4.610     |   Label: NA\n",
      " ID: DB00915      |   Name: amantadine           \t| Score: -4.610     |   Label: NA\n",
      " ID: DB08875      |   Name: cabozantinib         \t| Score: -4.616     |   Label: NA\n",
      " ID: DB04846      |   Name: celiprolol           \t| Score: -4.631     |   Label: NA\n",
      " ID: DB03619      |   Name: deoxycholic-acid     \t| Score: -4.631     |   Label: NA\n",
      " ID: DB01253      |   Name: ergonovine           \t| Score: -4.631     |   Label: NA\n",
      " ID: DB01255      |   Name: Lisdexamfetamine     \t| Score: -4.634     |   Label: NA\n",
      " ID: DB00579      |   Name: mazindol             \t| Score: -4.636     |   Label: NA\n",
      " ID: DB04876      |   Name: vildagliptin         \t| Score: -4.640     |   Label: NA\n",
      " ID: DB00642      |   Name: pemetrexed           \t| Score: -4.644     |   Label: NA\n",
      " ID: DB01148      |   Name: flavoxate            \t| Score: -4.646     |   Label: NA\n",
      " ID: DB01009      |   Name: ketoprofen           \t| Score: -4.649     |   Label: NA\n",
      " ID: DB01149      |   Name: Nefazodone           \t| Score: -4.659     |   Label: NA\n",
      " ID: DB00937      |   Name: amfepramone          \t| Score: -4.661     |   Label: NA\n",
      " ID: DB00422      |   Name: methylphenidate      \t| Score: -4.663     |   Label: NA\n",
      " ID: DB00191      |   Name: phentermine          \t| Score: -4.670     |   Label: NA\n",
      " ID: DB00751      |   Name: epinastine           \t| Score: -4.676     |   Label: NA\n",
      " ID: DB01558      |   Name: Bromazepam           \t| Score: -4.681     |   Label: NA\n",
      " ID: DB01094      |   Name: Hesperetin           \t| Score: -4.683     |   Label: NA\n",
      " ID: DB01268      |   Name: sunitinib            \t| Score: -4.689     |   Label: NA\n",
      " ID: DB01233      |   Name: metoclopramide       \t| Score: -4.690     |   Label: NA\n",
      " ID: DB06775      |   Name: carglumic-acid       \t| Score: -4.690     |   Label: NA\n",
      " ID: DB00604      |   Name: Cisapride            \t| Score: -4.691     |   Label: NA\n",
      " ID: DB04106      |   Name: fotemustine          \t| Score: -4.707     |   Label: NA\n",
      " ID: DB01005      |   Name: hydroxyurea          \t| Score: -4.711     |   Label: NA\n",
      " ID: DB00440      |   Name: trimethoprim         \t| Score: -4.713     |   Label: NA\n",
      " ID: DB00334      |   Name: olanzapine           \t| Score: -4.715     |   Label: NA\n",
      " ID: DB01618      |   Name: molindone            \t| Score: -4.715     |   Label: NA\n",
      " ID: DB01006      |   Name: letrozole            \t| Score: -4.715     |   Label: NA\n",
      " ID: DB09223      |   Name: blonanserin          \t| Score: -4.717     |   Label: NA\n",
      " ID: DB00170      |   Name: menadione            \t| Score: -4.723     |   Label: NA\n",
      " ID: DB00348      |   Name: nitisinone           \t| Score: -4.723     |   Label: NA\n",
      " ID: DB00472      |   Name: fluoxetine           \t| Score: -4.730     |   Label: NA\n",
      " ID: DB11796      |   Name: fostemsavir          \t| Score: -4.731     |   Label: NA\n",
      " ID: DB09119      |   Name: eslicarbazepine-acetate \t| Score: -4.732     |   Label: NA\n",
      " ID: DB01039      |   Name: fenofibrate          \t| Score: -4.733     |   Label: NA\n",
      " ID: DB00475      |   Name: Chlordiazepoxide     \t| Score: -4.739     |   Label: NA\n",
      " ID: DB00287      |   Name: travoprost           \t| Score: -4.739     |   Label: NA\n",
      " ID: DB00657      |   Name: mecamylamine         \t| Score: -4.739     |   Label: NA\n",
      " ID: DB00846      |   Name: fludroxycortide      \t| Score: -4.741     |   Label: NA\n",
      " ID: DB00851      |   Name: dacarbazine          \t| Score: -4.743     |   Label: NA\n",
      " ID: DB01095      |   Name: fluvastatin          \t| Score: -4.744     |   Label: NA\n",
      " ID: DB01185      |   Name: fluoxymesterone      \t| Score: -4.749     |   Label: NA\n",
      " ID: DB06709      |   Name: methacholine         \t| Score: -4.757     |   Label: NA\n",
      " ID: DB01077      |   Name: etidronic-acid       \t| Score: -4.759     |   Label: NA\n",
      " ID: DB00331      |   Name: metformin            \t| Score: -4.763     |   Label: NA\n",
      " ID: DB01118      |   Name: amiodarone           \t| Score: -4.764     |   Label: NA\n",
      " ID: DB00425      |   Name: zolpidem             \t| Score: -4.768     |   Label: NA\n",
      " ID: DB09079      |   Name: nintedanib           \t| Score: -4.769     |   Label: NA\n",
      " ID: DB01201      |   Name: rifapentine          \t| Score: -4.773     |   Label: NA\n",
      " ID: DB00809      |   Name: tropicamide          \t| Score: -4.775     |   Label: NA\n",
      " ID: DB01119      |   Name: diazoxide            \t| Score: -4.780     |   Label: NA\n",
      " ID: DB06216      |   Name: asenapine            \t| Score: -4.784     |   Label: NA\n",
      " ID: DB00601      |   Name: linezolid            \t| Score: -4.787     |   Label: NA\n",
      " ID: DB01138      |   Name: sulfinpyrazone       \t| Score: -4.791     |   Label: NA\n",
      " ID: DB06813      |   Name: pralatrexate         \t| Score: -4.794     |   Label: NA\n",
      " ID: DB00531      |   Name: cyclophosphamide     \t| Score: -4.806     |   Label: NA\n",
      " ID: DB06756      |   Name: betaine              \t| Score: -4.807     |   Label: NA\n",
      " ID: DB01056      |   Name: tocainide            \t| Score: -4.808     |   Label: NA\n",
      " ID: DB04896      |   Name: milnacipran          \t| Score: -4.809     |   Label: NA\n",
      " ID: DB11995      |   Name: avatrombopag         \t| Score: -4.810     |   Label: NA\n",
      " ID: DB01170      |   Name: guanethidine         \t| Score: -4.810     |   Label: NA\n",
      " ID: DB09034      |   Name: suvorexant           \t| Score: -4.813     |   Label: NA\n",
      " ID: DB00976      |   Name: telithromycin        \t| Score: -4.816     |   Label: NA\n",
      " ID: DB00909      |   Name: zonisamide           \t| Score: -4.820     |   Label: NA\n",
      " ID: DB11792      |   Name: mirodenafil          \t| Score: -4.823     |   Label: NA\n",
      " ID: DB00434      |   Name: cyproheptadine       \t| Score: -4.824     |   Label: NA\n",
      " ID: DB01599      |   Name: probucol             \t| Score: -4.829     |   Label: NA\n",
      " ID: DB06218      |   Name: lacosamide           \t| Score: -4.838     |   Label: NA\n",
      " ID: DB00401      |   Name: nisoldipine          \t| Score: -4.842     |   Label: NA\n",
      " ID: DB00379      |   Name: mexiletine           \t| Score: -4.846     |   Label: NA\n",
      " ID: DB00180      |   Name: flunisolide          \t| Score: -4.853     |   Label: NA\n",
      " ID: DB08814      |   Name: triflusal            \t| Score: -4.855     |   Label: NA\n",
      " ID: DB01075      |   Name: diphenhydramine      \t| Score: -4.857     |   Label: NA\n",
      " ID: DB01023      |   Name: felodipine           \t| Score: -4.862     |   Label: NA\n",
      " ID: DB08889      |   Name: carfilzomib          \t| Score: -4.862     |   Label: NA\n",
      " ID: DB00557      |   Name: hydroxyzine          \t| Score: -4.879     |   Label: NA\n",
      " ID: DB06209      |   Name: prasugrel            \t| Score: -4.885     |   Label: NA\n",
      " ID: DB01744      |   Name: Camphor              \t| Score: -4.888     |   Label: NA\n",
      " ID: DB08827      |   Name: lomitapide           \t| Score: -4.890     |   Label: NA\n",
      " ID: DB00138      |   Name: L-Cystine            \t| Score: -4.893     |   Label: NA\n",
      " ID: DB00243      |   Name: ranolazine           \t| Score: -4.897     |   Label: NA\n",
      " ID: DB00402      |   Name: eszopiclone          \t| Score: -4.899     |   Label: NA\n",
      " ID: DB01579      |   Name: Phendimetrazine      \t| Score: -4.906     |   Label: NA\n",
      " ID: DB01013      |   Name: clobetasol-propionate \t| Score: -4.906     |   Label: NA\n",
      " ID: DB00927      |   Name: famotidine           \t| Score: -4.908     |   Label: NA\n",
      " ID: DB00906      |   Name: tiagabine            \t| Score: -4.910     |   Label: NA\n",
      " ID: DB01252      |   Name: mitiglinide          \t| Score: -4.911     |   Label: NA\n",
      " ID: DB01048      |   Name: abacavir             \t| Score: -4.911     |   Label: NA\n",
      " ID: DB00489      |   Name: sotalol              \t| Score: -4.918     |   Label: NA\n",
      " ID: DB01198      |   Name: Zopiclone            \t| Score: -4.935     |   Label: NA\n",
      " ID: DB12865      |   Name: velcalcetide         \t| Score: -4.936     |   Label: NA\n",
      " ID: DB09481      |   Name: magnesium carbonate  \t| Score: -4.941     |   Label: NA\n",
      " ID: DB00279      |   Name: liothyronine         \t| Score: -4.942     |   Label: NA\n",
      " ID: DB09230      |   Name: azelnidipine         \t| Score: -4.955     |   Label: NA\n",
      " ID: DB00714      |   Name: Apomorphine          \t| Score: -4.957     |   Label: NA\n",
      " ID: DB06335      |   Name: saxagliptin          \t| Score: -4.963     |   Label: NA\n",
      " ID: DB00196      |   Name: fluconazole          \t| Score: -4.965     |   Label: NA\n",
      " ID: DB00208      |   Name: ticlopidine          \t| Score: -4.970     |   Label: NA\n",
      " ID: DB00158      |   Name: folic-acid           \t| Score: -4.976     |   Label: NA\n",
      " ID: DB00285      |   Name: venlafaxine          \t| Score: -4.980     |   Label: NA\n",
      " ID: DB01196      |   Name: estramustine         \t| Score: -4.983     |   Label: NA\n",
      " ID: DB00588      |   Name: fluticasone propionate \t| Score: -4.984     |   Label: NA\n",
      " ID: DB00363      |   Name: clozapine            \t| Score: -4.989     |   Label: NA\n",
      " ID: DB01047      |   Name: fluocinonide         \t| Score: -5.007     |   Label: NA\n",
      " ID: DB09235      |   Name: Efonidipine          \t| Score: -5.018     |   Label: NA\n",
      " ID: DB00408      |   Name: loxapine             \t| Score: -5.019     |   Label: NA\n",
      " ID: DB04840      |   Name: debrisoquin          \t| Score: -5.020     |   Label: NA\n",
      " ID: DB00514      |   Name: dextromethorphan     \t| Score: -5.023     |   Label: NA\n",
      " ID: DB03128      |   Name: acetylcholine        \t| Score: -5.063     |   Label: NA\n",
      " ID: DB00583      |   Name: levocarnitine        \t| Score: -5.066     |   Label: NA\n",
      " ID: DB00139      |   Name: Succinic acid        \t| Score: -5.069     |   Label: NA\n",
      " ID: DB00253      |   Name: medrysone            \t| Score: -5.072     |   Label: NA\n",
      " ID: DB01619      |   Name: phenindamine         \t| Score: -5.074     |   Label: NA\n",
      " ID: DB01062      |   Name: oxybutynin           \t| Score: -5.075     |   Label: NA\n",
      " ID: DB00281      |   Name: lidocaine            \t| Score: -5.077     |   Label: NA\n",
      " ID: DB11362      |   Name: selexipag            \t| Score: -5.078     |   Label: NA\n",
      " ID: DB01085      |   Name: pilocarpine          \t| Score: -5.082     |   Label: NA\n",
      " ID: DB08936      |   Name: chlorcyclizine       \t| Score: -5.082     |   Label: NA\n",
      " ID: DB00636      |   Name: clofibrate           \t| Score: -5.085     |   Label: NA\n",
      " ID: DB05676      |   Name: apremilast           \t| Score: -5.087     |   Label: NA\n",
      " ID: DB00298      |   Name: dapiprazole          \t| Score: -5.090     |   Label: NA\n",
      " ID: DB00427      |   Name: triprolidine         \t| Score: -5.092     |   Label: NA\n",
      " ID: DB00810      |   Name: biperiden            \t| Score: -5.092     |   Label: NA\n",
      " ID: DB01215      |   Name: Estazolam            \t| Score: -5.092     |   Label: NA\n",
      " ID: DB00189      |   Name: Ethchlorvynol        \t| Score: -5.097     |   Label: NA\n",
      " ID: DB01237      |   Name: Bromodiphenhydramine \t| Score: -5.100     |   Label: NA\n",
      " ID: DB11950      |   Name: teneligliptin        \t| Score: -5.118     |   Label: NA\n",
      " ID: DB00118      |   Name: ademetionine         \t| Score: -5.123     |   Label: NA\n",
      " ID: DB00605      |   Name: sulindac             \t| Score: -5.124     |   Label: NA\n",
      " ID: DB01037      |   Name: selegiline           \t| Score: -5.125     |   Label: NA\n",
      " ID: DB00174      |   Name: L-Asparagine         \t| Score: -5.126     |   Label: NA\n",
      " ID: DB01043      |   Name: memantine            \t| Score: -5.130     |   Label: NA\n",
      " ID: DB00252      |   Name: phenytoin            \t| Score: -5.131     |   Label: NA\n",
      " ID: DB00123      |   Name: L-Lysine             \t| Score: -5.137     |   Label: NA\n",
      " ID: DB01425      |   Name: alizapride           \t| Score: -5.140     |   Label: NA\n",
      " ID: DB11675      |   Name: mosapride            \t| Score: -5.152     |   Label: NA\n",
      " ID: DB01435      |   Name: phenazone            \t| Score: -5.176     |   Label: NA\n",
      " ID: DB00128      |   Name: L-Aspartic Acid      \t| Score: -5.178     |   Label: NA\n",
      " ID: DB06616      |   Name: bosutinib            \t| Score: -5.181     |   Label: NA\n",
      " ID: DB12243      |   Name: edaravone            \t| Score: -5.185     |   Label: NA\n",
      " ID: DB00910      |   Name: paricalcitol         \t| Score: -5.197     |   Label: NA\n",
      " ID: DB00464      |   Name: Sodium Tetradecyl Sulfate \t| Score: -5.210     |   Label: NA\n",
      " ID: DB01176      |   Name: cyclizine            \t| Score: -5.211     |   Label: NA\n",
      " ID: DB01248      |   Name: docetaxel            \t| Score: -5.215     |   Label: NA\n",
      " ID: DB00677      |   Name: isoflurophate        \t| Score: -5.219     |   Label: NA\n",
      " ID: DB01186      |   Name: Pergolide            \t| Score: -5.219     |   Label: NA\n",
      " ID: DB00262      |   Name: carmustine           \t| Score: -5.222     |   Label: NA\n",
      " ID: DB04855      |   Name: dronedarone          \t| Score: -5.236     |   Label: NA\n",
      " ID: DB00628      |   Name: Clorazepate          \t| Score: -5.252     |   Label: NA\n",
      " ID: DB00324      |   Name: fluorometholone      \t| Score: -5.253     |   Label: NA\n",
      " ID: DB12478      |   Name: piribedil            \t| Score: -5.275     |   Label: NA\n",
      " ID: DB00313      |   Name: Valproic Acid        \t| Score: -5.291     |   Label: NA\n",
      " ID: DB00457      |   Name: prazosin             \t| Score: -5.298     |   Label: NA\n",
      " ID: DB00622      |   Name: nicardipine          \t| Score: -5.309     |   Label: NA\n",
      " ID: DB00387      |   Name: procyclidine         \t| Score: -5.318     |   Label: NA\n",
      " ID: DB00996      |   Name: gabapentin           \t| Score: -5.321     |   Label: NA\n",
      " ID: DB00341      |   Name: cetirizine           \t| Score: -5.323     |   Label: NA\n",
      " ID: DB06282      |   Name: levocetirizine       \t| Score: -5.343     |   Label: NA\n",
      " ID: DB00282      |   Name: pamidronate          \t| Score: -5.353     |   Label: NA\n",
      " ID: DB00942      |   Name: Cycrimine            \t| Score: -5.353     |   Label: NA\n",
      " ID: DB00119      |   Name: Pyruvic acid         \t| Score: -5.363     |   Label: NA\n",
      " ID: DB00376      |   Name: trihexyphenidyl      \t| Score: -5.367     |   Label: NA\n",
      " ID: DB11696      |   Name: racecadotril         \t| Score: -5.385     |   Label: NA\n",
      " ID: DB09030      |   Name: vorapaxar            \t| Score: -5.400     |   Label: NA\n",
      " ID: DB06786      |   Name: halcinonide          \t| Score: -5.402     |   Label: NA\n",
      " ID: DB00273      |   Name: topiramate           \t| Score: -5.412     |   Label: NA\n",
      " ID: DB01081      |   Name: Diphenoxylate        \t| Score: -5.414     |   Label: NA\n",
      " ID: DB06151      |   Name: acetylcysteine       \t| Score: -5.425     |   Label: NA\n",
      " ID: DB00596      |   Name: halobetasol          \t| Score: -5.425     |   Label: NA\n",
      " ID: DB09229      |   Name: Aranidipine          \t| Score: -5.431     |   Label: NA\n",
      " ID: DB05812      |   Name: abiraterone          \t| Score: -5.438     |   Label: NA\n",
      " ID: DB00737      |   Name: meclizine            \t| Score: -5.447     |   Label: NA\n",
      " ID: DB09018      |   Name: bromopride           \t| Score: -5.450     |   Label: NA\n",
      " ID: DB00403      |   Name: Ceruletide           \t| Score: -5.455     |   Label: NA\n",
      " ID: DB01115      |   Name: nifedipine           \t| Score: -5.485     |   Label: NA\n",
      " ID: DB00543      |   Name: amoxapine            \t| Score: -5.493     |   Label: NA\n",
      " ID: DB00758      |   Name: clopidogrel          \t| Score: -5.497     |   Label: NA\n",
      " ID: DB00630      |   Name: alendronate          \t| Score: -5.500     |   Label: NA\n",
      " ID: DB00380      |   Name: dexrazoxane          \t| Score: -5.512     |   Label: NA\n",
      " ID: DB00290      |   Name: bleomycin            \t| Score: -5.518     |   Label: NA\n",
      " ID: DB04841      |   Name: flunarizine          \t| Score: -5.518     |   Label: NA\n",
      " ID: DB00451      |   Name: levothyroxine        \t| Score: -5.546     |   Label: NA\n",
      " ID: DB00399      |   Name: zoledronic-acid      \t| Score: -5.550     |   Label: NA\n",
      " ID: DB00455      |   Name: loratadine           \t| Score: -5.552     |   Label: NA\n",
      " ID: DB00151      |   Name: L-Cysteine           \t| Score: -5.559     |   Label: NA\n",
      " ID: DB00502      |   Name: haloperidol          \t| Score: -5.566     |   Label: NA\n",
      " ID: DB00563      |   Name: methotrexate         \t| Score: -5.569     |   Label: NA\n",
      " ID: DB00509      |   Name: Dextrothyroxine      \t| Score: -5.571     |   Label: NA\n",
      " ID: DB01229      |   Name: paclitaxel           \t| Score: -5.596     |   Label: NA\n",
      " ID: DB00969      |   Name: alosetron            \t| Score: -5.605     |   Label: NA\n",
      " ID: DB06809      |   Name: plerixafor           \t| Score: -5.631     |   Label: NA\n",
      " ID: DB00201      |   Name: caffeine             \t| Score: -5.639     |   Label: NA\n",
      " ID: DB00819      |   Name: acetazolamide        \t| Score: -5.647     |   Label: NA\n",
      " ID: DB00499      |   Name: flutamide            \t| Score: -5.665     |   Label: NA\n",
      " ID: DB00621      |   Name: oxandrolone          \t| Score: -5.671     |   Label: NA\n",
      " ID: DB00884      |   Name: risedronate          \t| Score: -5.698     |   Label: NA\n",
      " ID: DB04837      |   Name: clofedanol           \t| Score: -5.699     |   Label: NA\n",
      " ID: DB00973      |   Name: ezetimibe            \t| Score: -5.702     |   Label: NA\n",
      " ID: DB06718      |   Name: stanozolol           \t| Score: -5.714     |   Label: NA\n",
      " ID: DB06403      |   Name: ambrisentan          \t| Score: -5.734     |   Label: NA\n",
      " ID: DB09069      |   Name: trimetazidine        \t| Score: -5.736     |   Label: NA\n",
      " ID: DB00498      |   Name: phenindione          \t| Score: -5.738     |   Label: NA\n",
      " ID: DB09123      |   Name: dienogest            \t| Score: -5.745     |   Label: NA\n",
      " ID: DB00505      |   Name: tridihexethyl        \t| Score: -5.762     |   Label: NA\n",
      " ID: DB03754      |   Name: Tromethamine         \t| Score: -5.776     |   Label: NA\n",
      " ID: DB01125      |   Name: anisindione          \t| Score: -5.792     |   Label: NA\n",
      " ID: DB00539      |   Name: toremifene           \t| Score: -5.802     |   Label: NA\n",
      " ID: DB00393      |   Name: nimodipine           \t| Score: -5.803     |   Label: NA\n",
      " ID: DB00185      |   Name: cevimeline           \t| Score: -5.817     |   Label: NA\n",
      " ID: DB09286      |   Name: pipamperone          \t| Score: -5.835     |   Label: NA\n",
      " ID: DB00209      |   Name: trospium             \t| Score: -5.837     |   Label: NA\n",
      " ID: DB00836      |   Name: loperamide           \t| Score: -5.877     |   Label: NA\n",
      " ID: DB08872      |   Name: gabapentin-enacarbil \t| Score: -5.880     |   Label: NA\n",
      " ID: DB00384      |   Name: triamterene          \t| Score: -5.896     |   Label: NA\n",
      " ID: DB00611      |   Name: Butorphanol          \t| Score: -5.904     |   Label: NA\n",
      " ID: DB01133      |   Name: tiludronate          \t| Score: -5.916     |   Label: NA\n",
      " ID: DB03852      |   Name: eucalyptol           \t| Score: -5.924     |   Label: NA\n",
      " ID: DB06153      |   Name: pizotifen            \t| Score: -5.979     |   Label: NA\n",
      " ID: DB09304      |   Name: setiptiline          \t| Score: -6.016     |   Label: NA\n",
      " ID: DB06766      |   Name: alcaftadine          \t| Score: -6.017     |   Label: NA\n",
      " ID: DB00825      |   Name: levomenthol          \t| Score: -6.042     |   Label: NA\n",
      " ID: DB00699      |   Name: nicergoline          \t| Score: -6.070     |   Label: NA\n",
      " ID: DB01356      |   Name: Lithium              \t| Score: -6.079     |   Label: NA\n",
      " ID: DB12401      |   Name: bromperidol          \t| Score: -6.097     |   Label: NA\n",
      " ID: DB09076      |   Name: umeclidinium         \t| Score: -6.165     |   Label: NA\n",
      " ID: DB11614      |   Name: rupatadine           \t| Score: -6.179     |   Label: NA\n",
      " ID: DB05239      |   Name: cobimetinib          \t| Score: -6.196     |   Label: NA\n",
      " ID: DB00719      |   Name: azatadine            \t| Score: -6.238     |   Label: NA\n",
      " ID: DB00450      |   Name: droperidol           \t| Score: -6.244     |   Label: NA\n",
      " ID: DB09040      |   Name: efinaconazole        \t| Score: -6.248     |   Label: NA\n",
      " ID: DB06148      |   Name: mianserin            \t| Score: -6.257     |   Label: NA\n",
      " ID: DB06412      |   Name: oxymetholone         \t| Score: -6.258     |   Label: NA\n",
      " ID: DB00967      |   Name: desloratadine        \t| Score: -6.294     |   Label: NA\n",
      " ID: DB01098      |   Name: rosuvastatin         \t| Score: -6.307     |   Label: NA\n",
      " ID: DB00228      |   Name: Enflurane            \t| Score: -6.324     |   Label: NA\n",
      " ID: DB00979      |   Name: cyclopentolate       \t| Score: -6.341     |   Label: NA\n",
      " ID: DB00568      |   Name: cinnarizine          \t| Score: -6.345     |   Label: NA\n",
      " ID: DB04938      |   Name: ospemifene           \t| Score: -6.352     |   Label: NA\n",
      " ID: DB00370      |   Name: mirtazapine          \t| Score: -6.362     |   Label: NA\n",
      " ID: DB08868      |   Name: fingolimod           \t| Score: -6.370     |   Label: NA\n",
      " ID: DB06710      |   Name: Methyltestosterone   \t| Score: -6.409     |   Label: NA\n",
      " ID: DB00143      |   Name: Glutathione          \t| Score: -6.459     |   Label: NA\n",
      " ID: DB00270      |   Name: isradipine           \t| Score: -6.859     |   Label: NA\n",
      " ID: DB01074      |   Name: perhexiline          \t| Score: -6.930     |   Label: NA\n",
      " ID: DB11817      |   Name: baricitinib          \t| Score: -6.948     |   Label: NA\n",
      " ID: DB00925      |   Name: phenoxybenzamine     \t| Score: -7.047     |   Label: NA\n",
      " ID: DB01164      |   Name: Calcium Chloride     \t| Score: -7.085     |   Label: NA\n",
      " ID: DB00761      |   Name: potassium chloride   \t| Score: -7.091     |   Label: NA\n",
      " ID: DB06714      |   Name: propylhexedrine      \t| Score: -7.281     |   Label: NA\n",
      " ID: DB13996      |   Name: MAGNESIUM ACETATE    \t| Score: -7.758     |   Label: NA\n",
      " ID: DB00515      |   Name: cisplatin            \t| Score: -19.024    |   Label: NA\n",
      " ID: DB01593      |   Name: zinc                 \t| Score: -78.508    |   Label: NA\n",
      " ID: DB01378      |   Name: MAGNESIUM            \t| Score: -1446.466   |   Label: NA\n"
     ]
    }
   ],
   "source": [
    "# Print the results to screen.\n",
    "\n",
    "results = get_graphClass_results(model, production_loader, device)\n",
    "\n",
    "for i, res in results.iterrows():\n",
    "    id = res[\"id\"]\n",
    "    name = res[\"name\"]\n",
    "    score = res[\"score\"]\n",
    "    label = res[\"label\"]\n",
    "    print(f\" ID: {id:<10}   |   Name: {name:<20} \\t| Score: {score:<8.3f}   |   Label: {label}\")\n"
   ]
  },
  {
   "cell_type": "code",
   "execution_count": 11,
   "id": "f647a913-be62-4b55-80ac-105908bdf411",
   "metadata": {},
   "outputs": [],
   "source": [
    "# Write results to file\n",
    "#res_dir = \"../results/molhiv_results3/\"\n",
    "#results_df = results[[\"id\", \"name\", \"score\"]]\n",
    "#results_df.to_csv(\n",
    "#        f\"{res_dir}/res6_val_{val_loss}_{val_auc}_test_{test_loss}_{test_auc}.tsv\", \n",
    "#        sep=\"\\t\", index=False)"
   ]
  },
  {
   "cell_type": "code",
   "execution_count": 51,
   "id": "8ab15868-bb07-4b52-9fd4-3e241482e59e",
   "metadata": {},
   "outputs": [
    {
     "name": "stdout",
     "output_type": "stream",
     "text": [
      "CC(C)CN(C[C@H]([C@H](CC1=CC=CC=C1)NC(=O)O[C@H]2CCOC2)OP(=O)(O)O)S(=O)(=O)C3=CC=C(C=C3)N\n"
     ]
    }
   ],
   "source": [
    "for elem in msi_dataset:\n",
    "    if elem.name == \"fosamprenavir\":\n",
    "        a = elem.smiles\n",
    "        print(a)"
   ]
  },
  {
   "cell_type": "code",
   "execution_count": 50,
   "id": "3bb27d64-198a-45a8-af4a-a86f3a56af23",
   "metadata": {},
   "outputs": [],
   "source": [
    "for elem in molhiv_dataset:\n",
    "    if elem.smiles == a:\n",
    "        print(elem)\n"
   ]
  },
  {
   "cell_type": "code",
   "execution_count": 42,
   "id": "155bc795-a1ae-4f19-b60a-392e54394056",
   "metadata": {},
   "outputs": [
    {
     "name": "stdout",
     "output_type": "stream",
     "text": [
      "CC1=CN(C(=O)NC1=O)[C@H]2C[C@@H]([C@H](O2)CO)N=[N+]=[N-] \n",
      "<class 'str'>\n"
     ]
    }
   ],
   "source": [
    "# Zidovudine (CC1=CN(C(=O)NC1=O)[C@H]2C[C@@H]([C@H](O2)CO)N=[N+]=[N-])\n",
    "print(a)\n",
    "print(type(a))\n"
   ]
  },
  {
   "cell_type": "code",
   "execution_count": 61,
   "id": "d8906deb-776e-419e-ac4b-28bce325fdc2",
   "metadata": {},
   "outputs": [
    {
     "name": "stdout",
     "output_type": "stream",
     "text": [
      "[None, <rdkit.Chem.rdchem.Mol object at 0x7ff660d348d0>]\n",
      "None\n"
     ]
    },
    {
     "name": "stderr",
     "output_type": "stream",
     "text": [
      "[16:47:47] SMILES Parse Error: syntax error while parsing: [CC1=CN(C(=O)NC1=O)[C@H]2C[C@@H]([C@H](O2)CO)N=[N+]=[N-]\n",
      "[16:47:47] SMILES Parse Error: Failed parsing SMILES '[CC1=CN(C(=O)NC1=O)[C@H]2C[C@@H]([C@H](O2)CO)N=[N+]=[N-]' for input: '[CC1=CN(C(=O)NC1=O)[C@H]2C[C@@H]([C@H](O2)CO)N=[N+]=[N-]'\n"
     ]
    },
    {
     "ename": "RuntimeError",
     "evalue": "No active exception to reraise",
     "output_type": "error",
     "traceback": [
      "\u001b[0;31m---------------------------------------------------------------------------\u001b[0m",
      "\u001b[0;31mRuntimeError\u001b[0m                              Traceback (most recent call last)",
      "\u001b[0;32m/var/tmp/ipykernel_19106/3216926520.py\u001b[0m in \u001b[0;36m<module>\u001b[0;34m\u001b[0m\n\u001b[1;32m     10\u001b[0m \u001b[0;32mfor\u001b[0m \u001b[0mmol\u001b[0m \u001b[0;32min\u001b[0m \u001b[0mmol_list\u001b[0m\u001b[0;34m:\u001b[0m\u001b[0;34m\u001b[0m\u001b[0;34m\u001b[0m\u001b[0m\n\u001b[1;32m     11\u001b[0m     \u001b[0mprint\u001b[0m\u001b[0;34m(\u001b[0m\u001b[0mmol\u001b[0m\u001b[0;34m)\u001b[0m\u001b[0;34m\u001b[0m\u001b[0;34m\u001b[0m\u001b[0m\n\u001b[0;32m---> 12\u001b[0;31m     \u001b[0;32mraise\u001b[0m\u001b[0;34m\u001b[0m\u001b[0;34m\u001b[0m\u001b[0m\n\u001b[0m\u001b[1;32m     13\u001b[0m     \u001b[0mmol\u001b[0m\u001b[0;34m.\u001b[0m\u001b[0mSetProp\u001b[0m\u001b[0;34m(\u001b[0m\u001b[0;34m'_Name'\u001b[0m\u001b[0;34m,\u001b[0m \u001b[0;34m'C'\u001b[0m\u001b[0;34m+\u001b[0m\u001b[0mstr\u001b[0m\u001b[0;34m(\u001b[0m\u001b[0mmol\u001b[0m\u001b[0;34m.\u001b[0m\u001b[0mGetNumAtoms\u001b[0m\u001b[0;34m(\u001b[0m\u001b[0;34m)\u001b[0m\u001b[0;34m)\u001b[0m\u001b[0;34m)\u001b[0m\u001b[0;34m\u001b[0m\u001b[0;34m\u001b[0m\u001b[0m\n\u001b[1;32m     14\u001b[0m \u001b[0;34m\u001b[0m\u001b[0m\n",
      "\u001b[0;31mRuntimeError\u001b[0m: No active exception to reraise"
     ]
    }
   ],
   "source": [
    "from rdkit.Chem import Draw\n",
    "from rdkit import Chem\n",
    "smiles_list = [\n",
    "        \"[CC1=CN(C(=O)NC1=O)[C@H]2C[C@@H]([C@H](O2)CO)N=[N+]=[N-]\", \n",
    "        \"CC(C)CN(C[C@H]([C@H](CC1=CC=CC=C1)NC(=O)O[C@H]2CCOC2)OP(=O)(O)O)S(=O)(=O)C3=CC=C(C=C3)N\"]\n",
    "\n",
    "\n",
    "mol_list = [Chem.MolFromSmiles(smiles) for smiles in smiles_list]\n",
    "print(mol_list)\n",
    "for mol in mol_list:\n",
    "    print(mol)\n",
    "    raise\n",
    "    mol.SetProp('_Name', 'C'+str(mol.GetNumAtoms()))\n",
    "\n",
    "Chem.Draw.MolsToGridImage(mol_list,legends=[mol.GetProp('_Name') for mol in mol_list])\n",
    "#img = Draw.MolsToGridImage(mol_list, molsPerRow=3, highlightAtomLists=[ mol.GetSubstructMatch(core) for mol in mols], useSVG=True )"
   ]
  },
  {
   "cell_type": "code",
   "execution_count": 144,
   "id": "1b4981dc-d522-46b9-8e8f-a6a7f048c0a3",
   "metadata": {},
   "outputs": [
    {
     "data": {
      "image/png": "[encoded data removed]",
      "text/plain": [
       "<PIL.PngImagePlugin.PngImageFile image mode=RGB size=1200x600>"
      ]
     },
     "execution_count": 144,
     "metadata": {},
     "output_type": "execute_result"
    }
   ],
   "source": [
    "import cairosvg\n",
    "smiles_list = [\n",
    "        \"CC1=CN(C(=O)NC1=O)C2CC(C(O2)CO)N=[N+]=[N-]\", \n",
    "        \"[H][C@@]12CC[C@]3(O)C[C@H](C[C@@H](O)[C@]3(CO)[C@@]1([H])[C@H](O)C[C@]1(C)[C@H](CC[C@]21O)C1=CC(=O)OC1)O[C@@H]1O[C@@H](C)[C@H](O)[C@@H](O)[C@H]1O\",\n",
    "        \"CC(C)CN(C[C@H]([C@H](CC1=CC=CC=C1)NC(=O)O[C@H]2CCOC2)OP(=O)(O)O)S(=O)(=O)C3=CC=C(C=C3)N\", \n",
    "        \"CC1=CN([C@@H]2C[C@@H](O)[C@H](CO)O2)C(=O)NC1=O\", \n",
    "        \"C[C@H]1O[C@H](C[C@H](O)[C@@H]1O[C@H]1C[C@H](O)[C@H](O[C@H]2C[C@H](O)[C@H](O[C@@H]3O[C@H](CO)[C@@H](O)[C@H](O)[C@H]3O)[C@@H](C)O2)[C@@H](C)O1)O[C@H]1CC[C@@]2(C)[C@H](CC[C@@H]3[C@@H]2C[C@@H](O)[C@]2(C)[C@H](CC[C@]32O)C2=CC(=O)OC2)C1\",\n",
    "        \"CNC(=O)C1=C(SC2=CC=C3C(NN=C3\\C=C\\C3=CC=CC=N3)=C2)C=CC=C1\",\n",
    "        \"[H][C@@]12CCO[C@]1([H])OC[C@@H]2OC(=O)N[C@@H](CC1=CC=CC=C1)[C@H](O)CN(CC(C)C)S(=O)(=O)C1=CC=C(N)C=C1\",\n",
    "        \"NC1=NC(=O)N(C=C1F)[C@@H]1CS[C@H](CO)O1\",\n",
    "        \"COC1=CC(=CC=C1CC1=CN(C)C2=C1C=C(NC(=O)OC1CCCC1)C=C2)C(=O)NS(=O)(=O)C1=CC=CC=C1C\"\n",
    "]\n",
    "\n",
    "names_list = [\n",
    "        \"zidovudine (1)\",\n",
    "        \"ouabain (9)\",\n",
    "        \"fosamprenavir (10)\",\n",
    "        \"telbivudine (12)\",\n",
    "        \"deslanoside (14)\",\n",
    "        \"axitinib (15)\",\n",
    "        \"darunavir (19)\",\n",
    "        \"zafirlukast (21)\",\n",
    "        \"emtricitabine (24)\"]\n",
    "    \n",
    "        \n",
    "\n",
    "mol_list = [Chem.MolFromSmiles(smiles) for smiles in smiles_list]\n",
    "\n",
    "\n",
    "for i in range(len(mol_list)):\n",
    "    mol_list[i].SetProp(\"_Name\", names_list[i])\n",
    "\n",
    "\n",
    "img = Chem.Draw.MolsToGridImage(\n",
    "        \n",
    "        mol_list,\n",
    "        legends=[mol.GetProp('_Name') for mol in mol_list],\n",
    "        subImgSize=(400, 200),\n",
    "        returnPNG=False)\n",
    "\n",
    "img\n",
    "#cairosvg.svg2pdf(bytestring=svg.encode('utf-8'), write_to=\"copt2.pdf\")\n",
    "#img.save(\"test.png\", dpi=(1000, 1000))"
   ]
  },
  {
   "cell_type": "code",
   "execution_count": 115,
   "id": "b2e2b7b1-43d7-47c2-aba8-9637dc047be7",
   "metadata": {},
   "outputs": [
    {
     "name": "stdout",
     "output_type": "stream",
     "text": [
      "<IPython.core.display.Image object>\n"
     ]
    }
   ],
   "source": [
    "print(a)"
   ]
  },
  {
   "cell_type": "code",
   "execution_count": null,
   "id": "7c41dc97-fdd7-4afd-b654-29704b9491eb",
   "metadata": {},
   "outputs": [],
   "source": []
  }
 ],
 "metadata": {
  "environment": {
   "kernel": "python3",
   "name": "common-cu113.m108",
   "type": "gcloud",
   "uri": "gcr.io/deeplearning-platform-release/base-cu113:m108"
  },
  "kernelspec": {
   "display_name": "Python 3",
   "language": "python",
   "name": "python3"
  },
  "language_info": {
   "codemirror_mode": {
    "name": "ipython",
    "version": 3
   },
   "file_extension": ".py",
   "mimetype": "text/x-python",
   "name": "python",
   "nbconvert_exporter": "python",
   "pygments_lexer": "ipython3",
   "version": "3.7.12"
  }
 },
 "nbformat": 4,
 "nbformat_minor": 5
}

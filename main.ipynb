{
 "cells": [
  {
   "cell_type": "code",
   "execution_count": 7,
   "id": "4b446389-5956-4a9b-9636-92424ecc75a1",
   "metadata": {},
   "outputs": [],
   "source": [
    "from load_msi import create_msi\n",
    "from visualization import generate_nx_graph, generate_khop_subgraph, generate_pyvis_graph\n",
    "from torch_geometric.utils import to_networkx"
   ]
  },
  {
   "cell_type": "code",
   "execution_count": 8,
   "id": "5bb33583-f627-429e-ad42-74de888330a3",
   "metadata": {},
   "outputs": [
    {
     "name": "stdout",
     "output_type": "stream",
     "text": [
      "Data(x=[29959, 1], edge_index=[2, 478728], num_nodes=29959)\n"
     ]
    }
   ],
   "source": [
    "msi = create_msi()\n",
    "print(msi.data)"
   ]
  },
  {
   "cell_type": "code",
   "execution_count": 10,
   "id": "20bf057a-bb4e-44e3-b2cf-be3d83832b3d",
   "metadata": {},
   "outputs": [],
   "source": [
    "G, G_undirected = generate_nx_graph(msi.data)"
   ]
  },
  {
   "cell_type": "code",
   "execution_count": 19,
   "id": "d33762ad-44bc-4aee-8748-4064f72be187",
   "metadata": {},
   "outputs": [
    {
     "name": "stdout",
     "output_type": "stream",
     "text": [
      "19350\n"
     ]
    }
   ],
   "source": [
    "print(msi.mappings[\"dz_id_gid_map\"][\"C0033578\"])"
   ]
  },
  {
   "cell_type": "code",
   "execution_count": 21,
   "id": "95877bf2-0b97-44f8-ba17-b00dc50ec325",
   "metadata": {},
   "outputs": [
    {
     "name": "stdout",
     "output_type": "stream",
     "text": [
      "Total subgraph nodes: 454\n"
     ]
    }
   ],
   "source": [
    "subG = generate_khop_subgraph(msi, G, 19350, 1)"
   ]
  },
  {
   "cell_type": "code",
   "execution_count": 23,
   "id": "a6210256-2ff3-4b3d-8a1a-0246d10791b9",
   "metadata": {},
   "outputs": [
    {
     "name": "stdout",
     "output_type": "stream",
     "text": [
      "Local cdn resources have problems on chrome/safari when used in jupyter-notebook. \n"
     ]
    }
   ],
   "source": [
    "py_graph = generate_pyvis_graph(subG)\n",
    "#py_graph.show(\"test.html\")"
   ]
  },
  {
   "cell_type": "code",
   "execution_count": null,
   "id": "0f4c736c-ad16-4baa-a85f-68ca3b361e34",
   "metadata": {},
   "outputs": [],
   "source": []
  }
 ],
 "metadata": {
  "environment": {
   "kernel": "python3",
   "name": "common-cpu.m108",
   "type": "gcloud",
   "uri": "gcr.io/deeplearning-platform-release/base-cpu:m108"
  },
  "kernelspec": {
   "display_name": "Python 3",
   "language": "python",
   "name": "python3"
  },
  "language_info": {
   "codemirror_mode": {
    "name": "ipython",
    "version": 3
   },
   "file_extension": ".py",
   "mimetype": "text/x-python",
   "name": "python",
   "nbconvert_exporter": "python",
   "pygments_lexer": "ipython3",
   "version": "3.7.12"
  }
 },
 "nbformat": 4,
 "nbformat_minor": 5
}
